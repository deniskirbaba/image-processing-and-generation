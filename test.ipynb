{
 "cells": [
  {
   "cell_type": "code",
   "execution_count": 1,
   "metadata": {},
   "outputs": [],
   "source": [
    "import pandas as pd"
   ]
  },
  {
   "cell_type": "code",
   "execution_count": 2,
   "metadata": {},
   "outputs": [],
   "source": [
    "rows = [\"Experiment 1\", \"Experiment 2\", \"Experiment 3\"]\n",
    "columns = [\"Model type\", \"Parameters #\", \"Epochs\", \"Learning rate\"]\n",
    "data = [[\"Linear\", \"90M\", 150, 1e-3],\n",
    "        [\"Convolutional\", \"2.5M\", 200, 3e-4],\n",
    "        [\"Convolutional\", \"12M\", 100, 3e-4]]"
   ]
  },
  {
   "cell_type": "code",
   "execution_count": 3,
   "metadata": {},
   "outputs": [
    {
     "data": {
      "text/html": [
       "<div>\n",
       "<style scoped>\n",
       "    .dataframe tbody tr th:only-of-type {\n",
       "        vertical-align: middle;\n",
       "    }\n",
       "\n",
       "    .dataframe tbody tr th {\n",
       "        vertical-align: top;\n",
       "    }\n",
       "\n",
       "    .dataframe thead th {\n",
       "        text-align: right;\n",
       "    }\n",
       "</style>\n",
       "<table border=\"1\" class=\"dataframe\">\n",
       "  <thead>\n",
       "    <tr style=\"text-align: right;\">\n",
       "      <th></th>\n",
       "      <th>Model type</th>\n",
       "      <th>Parameters #</th>\n",
       "      <th>Epochs</th>\n",
       "      <th>Learning rate</th>\n",
       "    </tr>\n",
       "  </thead>\n",
       "  <tbody>\n",
       "    <tr>\n",
       "      <th>Experiment 1</th>\n",
       "      <td>Linear</td>\n",
       "      <td>90M</td>\n",
       "      <td>150</td>\n",
       "      <td>0.0010</td>\n",
       "    </tr>\n",
       "    <tr>\n",
       "      <th>Experiment 2</th>\n",
       "      <td>Convolutional</td>\n",
       "      <td>2.5M</td>\n",
       "      <td>200</td>\n",
       "      <td>0.0003</td>\n",
       "    </tr>\n",
       "    <tr>\n",
       "      <th>Experiment 3</th>\n",
       "      <td>Convolutional</td>\n",
       "      <td>12M</td>\n",
       "      <td>100</td>\n",
       "      <td>0.0003</td>\n",
       "    </tr>\n",
       "  </tbody>\n",
       "</table>\n",
       "</div>"
      ],
      "text/plain": [
       "                 Model type Parameters #  Epochs  Learning rate\n",
       "Experiment 1         Linear          90M     150         0.0010\n",
       "Experiment 2  Convolutional         2.5M     200         0.0003\n",
       "Experiment 3  Convolutional          12M     100         0.0003"
      ]
     },
     "execution_count": 3,
     "metadata": {},
     "output_type": "execute_result"
    }
   ],
   "source": [
    "df = pd.DataFrame(data, columns=columns, index=rows)\n",
    "df"
   ]
  },
  {
   "cell_type": "code",
   "execution_count": 8,
   "metadata": {},
   "outputs": [
    {
     "name": "stdout",
     "output_type": "stream",
     "text": [
      "|              | Model type    | Parameters #   |   Epochs |   Learning rate |\n",
      "|:-------------|:--------------|:---------------|---------:|----------------:|\n",
      "| Experiment 1 | Linear        | 90M            |      150 |          0.001  |\n",
      "| Experiment 2 | Convolutional | 2.5M           |      200 |          0.0003 |\n",
      "| Experiment 3 | Convolutional | 12M            |      100 |          0.0003 |\n"
     ]
    }
   ],
   "source": [
    "print(df.to_markdown())"
   ]
  }
 ],
 "metadata": {
  "kernelspec": {
   "display_name": "images-hw-2",
   "language": "python",
   "name": "python3"
  },
  "language_info": {
   "codemirror_mode": {
    "name": "ipython",
    "version": 3
   },
   "file_extension": ".py",
   "mimetype": "text/x-python",
   "name": "python",
   "nbconvert_exporter": "python",
   "pygments_lexer": "ipython3",
   "version": "3.12.8"
  }
 },
 "nbformat": 4,
 "nbformat_minor": 2
}
