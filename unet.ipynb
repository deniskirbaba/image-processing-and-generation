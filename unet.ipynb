{
  "cells": [
    {
      "cell_type": "markdown",
      "metadata": {
        "id": "_NsmGbe9ziOr"
      },
      "source": [
        "## Set up Colab"
      ]
    },
    {
      "cell_type": "code",
      "execution_count": 1,
      "metadata": {
        "colab": {
          "base_uri": "https://localhost:8080/"
        },
        "id": "tZTbrj-Ey3yw",
        "outputId": "ba9cd41e-97e0-40ac-b044-3b92b33cf5a5"
      },
      "outputs": [
        {
          "name": "stdout",
          "output_type": "stream",
          "text": [
            "\u001b[?25l   \u001b[90m━━━━━━━━━━━━━━━━━━━━━━━━━━━━━━━━━━━━━━━━\u001b[0m \u001b[32m0.0/312.7 kB\u001b[0m \u001b[31m?\u001b[0m eta \u001b[36m-:--:--\u001b[0m\r\u001b[2K   \u001b[90m━━━━━━━━━━━━━━━━━━━━━━━━━━━━━━━━━━━━━━━━\u001b[0m \u001b[32m312.7/312.7 kB\u001b[0m \u001b[31m19.9 MB/s\u001b[0m eta \u001b[36m0:00:00\u001b[0m\n",
            "\u001b[2K   \u001b[90m━━━━━━━━━━━━━━━━━━━━━━━━━━━━━━━━━━━━━━━━\u001b[0m \u001b[32m16.0/16.0 MB\u001b[0m \u001b[31m71.1 MB/s\u001b[0m eta \u001b[36m0:00:00\u001b[0m\n",
            "\u001b[2K   \u001b[90m━━━━━━━━━━━━━━━━━━━━━━━━━━━━━━━━━━━━━━━━\u001b[0m \u001b[32m736.0/736.0 kB\u001b[0m \u001b[31m6.0 MB/s\u001b[0m eta \u001b[36m0:00:00\u001b[0m\n",
            "\u001b[?25h"
          ]
        }
      ],
      "source": [
        "%pip install -qU python-dotenv pytorch-ignite onnx onnxscript torchinfo"
      ]
    },
    {
      "cell_type": "code",
      "execution_count": 2,
      "metadata": {
        "colab": {
          "base_uri": "https://localhost:8080/"
        },
        "id": "b9smGsoyyL9O",
        "outputId": "448e8fcc-6626-4e50-8cde-eb890afc1252"
      },
      "outputs": [
        {
          "name": "stdout",
          "output_type": "stream",
          "text": [
            "Mounted at /content/drive\n"
          ]
        }
      ],
      "source": [
        "from google.colab import drive\n",
        "\n",
        "drive.mount(\"/content/drive\")"
      ]
    },
    {
      "cell_type": "code",
      "execution_count": 3,
      "metadata": {
        "colab": {
          "base_uri": "https://localhost:8080/"
        },
        "id": "cRyAlx6-ykCP",
        "outputId": "e1a64eda-12c8-4028-9ae2-a246f01969d8"
      },
      "outputs": [
        {
          "name": "stdout",
          "output_type": "stream",
          "text": [
            "['/content/drive/MyDrive/AI Talent Hub/Обработка и генерация изображений/images_hw_1', '/content', '/env/python', '/usr/lib/python310.zip', '/usr/lib/python3.10', '/usr/lib/python3.10/lib-dynload', '', '/usr/local/lib/python3.10/dist-packages', '/usr/lib/python3/dist-packages', '/usr/local/lib/python3.10/dist-packages/IPython/extensions', '/usr/local/lib/python3.10/dist-packages/setuptools/_vendor', '/root/.ipython']\n"
          ]
        }
      ],
      "source": [
        "# Add src module\n",
        "import sys\n",
        "\n",
        "sys.path.insert(\n",
        "    0, \"/content/drive/MyDrive/AI Talent Hub/Обработка и генерация изображений/images_hw_1\"\n",
        ")\n",
        "print(sys.path)"
      ]
    },
    {
      "cell_type": "code",
      "execution_count": 4,
      "metadata": {
        "id": "leyUaNo0zrHa"
      },
      "outputs": [],
      "source": [
        "# Unzip dataset\n",
        "!mkdir -p ./data/cityscapes\n",
        "!unzip -qo \"/content/drive/MyDrive/AI Talent Hub/Обработка и генерация изображений/images_hw_1/cityscapes_data/gtFine_trainvaltest.zip\" -d ./data/cityscapes\n",
        "!unzip -qo \"/content/drive/MyDrive/AI Talent Hub/Обработка и генерация изображений/images_hw_1/cityscapes_data/leftImg8bit_trainvaltest.zip\" -d ./data/cityscapes"
      ]
    },
    {
      "cell_type": "markdown",
      "metadata": {
        "id": "3-CQph2E3E7w"
      },
      "source": [
        "## Set up notebook"
      ]
    },
    {
      "cell_type": "code",
      "execution_count": 13,
      "metadata": {
        "id": "cggz_aNMyFR_"
      },
      "outputs": [
        {
          "name": "stdout",
          "output_type": "stream",
          "text": [
            "The autoreload extension is already loaded. To reload it, use:\n",
            "  %reload_ext autoreload\n"
          ]
        }
      ],
      "source": [
        "%load_ext autoreload\n",
        "%autoreload 2"
      ]
    },
    {
      "cell_type": "code",
      "execution_count": 29,
      "metadata": {
        "colab": {
          "base_uri": "https://localhost:8080/"
        },
        "id": "oFSdBDrHyFSD",
        "outputId": "65ebc2f7-a7ee-4aaf-eeb5-a53c8a5b9251"
      },
      "outputs": [],
      "source": [
        "import multiprocessing\n",
        "import os\n",
        "import random\n",
        "from pathlib import Path\n",
        "\n",
        "import matplotlib.pyplot as plt\n",
        "import numpy as np\n",
        "import torch\n",
        "import torch.nn as nn\n",
        "from dotenv import load_dotenv\n",
        "from IPython.display import clear_output\n",
        "from torch.utils.data import DataLoader\n",
        "from torchinfo import summary\n",
        "from tqdm.auto import tqdm\n",
        "\n",
        "import wandb\n",
        "from src.cityscapes_data_handler import Cityscapes, show_images_side_by_side\n",
        "from src.metrics import Metrics\n",
        "from src.trainer import Trainer\n",
        "from src.unet import UNet"
      ]
    },
    {
      "cell_type": "code",
      "execution_count": null,
      "metadata": {},
      "outputs": [],
      "source": [
        "# Supress torch dynamo warnings\n",
        "import torch._dynamo\n",
        "\n",
        "torch._dynamo.config.suppress_errors = True"
      ]
    },
    {
      "cell_type": "code",
      "execution_count": 15,
      "metadata": {
        "id": "O6WwFxVQyFSG"
      },
      "outputs": [
        {
          "ename": "ModuleNotFoundError",
          "evalue": "No module named 'google.colab'",
          "output_type": "error",
          "traceback": [
            "\u001b[0;31m---------------------------------------------------------------------------\u001b[0m",
            "\u001b[0;31mModuleNotFoundError\u001b[0m                       Traceback (most recent call last)",
            "Cell \u001b[0;32mIn[15], line 7\u001b[0m\n\u001b[1;32m      1\u001b[0m \u001b[38;5;66;03m# Load wandb key\u001b[39;00m\n\u001b[1;32m      2\u001b[0m \n\u001b[1;32m      3\u001b[0m \u001b[38;5;66;03m# Local\u001b[39;00m\n\u001b[1;32m      4\u001b[0m \u001b[38;5;66;03m# load_dotenv()\u001b[39;00m\n\u001b[1;32m      5\u001b[0m \n\u001b[1;32m      6\u001b[0m \u001b[38;5;66;03m# Colab\u001b[39;00m\n\u001b[0;32m----> 7\u001b[0m \u001b[38;5;28;01mfrom\u001b[39;00m \u001b[38;5;21;01mgoogle\u001b[39;00m\u001b[38;5;21;01m.\u001b[39;00m\u001b[38;5;21;01mcolab\u001b[39;00m \u001b[38;5;28;01mimport\u001b[39;00m userdata\n\u001b[1;32m      8\u001b[0m WANDB_KEY \u001b[38;5;241m=\u001b[39m userdata\u001b[38;5;241m.\u001b[39mget(\u001b[38;5;124m'\u001b[39m\u001b[38;5;124mWANDB_KEY\u001b[39m\u001b[38;5;124m'\u001b[39m)\n",
            "\u001b[0;31mModuleNotFoundError\u001b[0m: No module named 'google.colab'"
          ]
        }
      ],
      "source": [
        "# Load wandb key\n",
        "\n",
        "# Local\n",
        "# load_dotenv()\n",
        "\n",
        "# Colab\n",
        "from google.colab import userdata\n",
        "\n",
        "WANDB_KEY = userdata.get(\"WANDB_KEY\")"
      ]
    },
    {
      "cell_type": "code",
      "execution_count": null,
      "metadata": {
        "colab": {
          "base_uri": "https://localhost:8080/"
        },
        "id": "gILeK7q0yFSH",
        "outputId": "714f4a35-dabe-4d8a-ba2a-3625b68fec5a"
      },
      "outputs": [
        {
          "name": "stdout",
          "output_type": "stream",
          "text": [
            "Found 2975 train images\n"
          ]
        },
        {
          "data": {
            "text/plain": [
              "{0: 'road',\n",
              " 1: 'sidewalk',\n",
              " 2: 'building',\n",
              " 3: 'wall',\n",
              " 4: 'fence',\n",
              " 5: 'pole',\n",
              " 6: 'traffic_light',\n",
              " 7: 'traffic_sign',\n",
              " 8: 'vegetation',\n",
              " 9: 'terrain',\n",
              " 10: 'sky',\n",
              " 11: 'person',\n",
              " 12: 'rider',\n",
              " 13: 'car',\n",
              " 14: 'truck',\n",
              " 15: 'bus',\n",
              " 16: 'train',\n",
              " 17: 'motorcycle',\n",
              " 18: 'unlabelled'}"
            ]
          },
          "execution_count": 4,
          "metadata": {},
          "output_type": "execute_result"
        }
      ],
      "source": [
        "# Define contants\n",
        "\n",
        "CITYSCAPES_FOLDER = Path(\"./data/cityscapes\")\n",
        "DTYPE = torch.bfloat16\n",
        "\n",
        "# Dataset contants\n",
        "cityscapes_dataset = Cityscapes(\n",
        "    CITYSCAPES_FOLDER, split=\"train\", is_transform=True, img_size=[512, 1024], dtype=DTYPE\n",
        ")\n",
        "IGNORE_INDEX = cityscapes_dataset.ignore_index\n",
        "N_CLASSES = cityscapes_dataset.n_classes\n",
        "\n",
        "# Construct label idx to label name dict\n",
        "labels = [\n",
        "    cityscapes_dataset.class_names[i]\n",
        "    for i in list(cityscapes_dataset.label_colours.keys())[1:] + [0]\n",
        "]\n",
        "IDX2NAME = dict(zip(range(N_CLASSES), labels))\n",
        "IDX2NAME"
      ]
    },
    {
      "cell_type": "code",
      "execution_count": 16,
      "metadata": {
        "colab": {
          "base_uri": "https://localhost:8080/"
        },
        "id": "vXjgWhsCyFSJ",
        "outputId": "966603f8-3ec1-4b8a-b3b4-adf1b5d23c69"
      },
      "outputs": [
        {
          "data": {
            "text/plain": [
              "device(type='cpu')"
            ]
          },
          "execution_count": 16,
          "metadata": {},
          "output_type": "execute_result"
        }
      ],
      "source": [
        "# Ensure deterministic behavior\n",
        "torch.backends.cudnn.deterministic = True\n",
        "random.seed(hash(\"setting random seeds\") % 2**32 - 1)\n",
        "np.random.seed(hash(\"improves reproducibility\") % 2**32 - 1)\n",
        "torch.manual_seed(hash(\"by removing stochasticity\") % 2**32 - 1)\n",
        "torch.cuda.manual_seed_all(hash(\"so runs are repeatable\") % 2**32 - 1)\n",
        "\n",
        "# Device configuration\n",
        "device = torch.device(\"cuda:0\" if torch.cuda.is_available() else \"cpu\")\n",
        "device"
      ]
    },
    {
      "cell_type": "markdown",
      "metadata": {
        "id": "QaXtMFk2yFSK"
      },
      "source": [
        "## Overfit small model on a single batch (to validate)"
      ]
    },
    {
      "cell_type": "code",
      "execution_count": 6,
      "metadata": {
        "id": "H2BsZRY_yFSM",
        "outputId": "44424c1e-8d02-4737-ddcd-3fc7fa066326"
      },
      "outputs": [
        {
          "name": "stdout",
          "output_type": "stream",
          "text": [
            "Found 2975 train images\n"
          ]
        },
        {
          "data": {
            "text/plain": [
              "(torch.Size([2, 3, 16, 32]), torch.Size([2, 1, 16, 32]))"
            ]
          },
          "execution_count": 6,
          "metadata": {},
          "output_type": "execute_result"
        }
      ],
      "source": [
        "dataset = Cityscapes(\n",
        "    CITYSCAPES_FOLDER, split=\"train\", is_transform=True, img_size=[16, 32], dtype=DTYPE\n",
        ")\n",
        "loader = DataLoader(dataset, batch_size=2, shuffle=True, num_workers=multiprocessing.cpu_count())\n",
        "\n",
        "imgs_batch, lbls_batch = next(iter(loader))\n",
        "imgs_batch.shape, lbls_batch.shape"
      ]
    },
    {
      "cell_type": "code",
      "execution_count": 8,
      "metadata": {
        "id": "H8eEpvjJyFSP"
      },
      "outputs": [],
      "source": [
        "unet = UNet(\n",
        "    img_size=[16, 32],\n",
        "    in_channels=3,\n",
        "    depth=1,\n",
        "    n_classes=N_CLASSES,\n",
        "    start_channels=4,\n",
        "    dtype=DTYPE,\n",
        ").to(device)\n",
        "# opt_unet = torch.compile(unet)\n",
        "\n",
        "metrics = Metrics(num_classes=N_CLASSES, idx_to_class_name=IDX2NAME, device=device)"
      ]
    },
    {
      "cell_type": "code",
      "execution_count": 9,
      "metadata": {
        "id": "CWqst1MkyFSP"
      },
      "outputs": [],
      "source": [
        "loss_fn = nn.CrossEntropyLoss(ignore_index=IGNORE_INDEX)\n",
        "optim = torch.optim.Adam(unet.parameters(), lr=1e-2)"
      ]
    },
    {
      "cell_type": "code",
      "execution_count": 10,
      "metadata": {
        "id": "091SsxniyFSQ"
      },
      "outputs": [],
      "source": [
        "loss_hist = []\n",
        "metrics_hist = []"
      ]
    },
    {
      "cell_type": "code",
      "execution_count": 11,
      "metadata": {
        "id": "4K_vQOi4yFSQ",
        "outputId": "f3a2de81-40c7-4d7c-8927-a1a937031cea"
      },
      "outputs": [
        {
          "data": {
            "image/png": "[encoded data removed]",
            "text/plain": [
              "<Figure size 640x480 with 1 Axes>"
            ]
          },
          "metadata": {},
          "output_type": "display_data"
        }
      ],
      "source": [
        "N_EPOCHS = 250\n",
        "\n",
        "for _ in tqdm(range(N_EPOCHS)):\n",
        "    # Train\n",
        "    optim.zero_grad()\n",
        "    logits = unet(imgs_batch)\n",
        "    loss = loss_fn(logits, torch.squeeze(lbls_batch, dim=1).to(dtype=torch.long))\n",
        "    loss.backward()\n",
        "    optim.step()\n",
        "\n",
        "    # Calc metrics\n",
        "    # 1. Reshape logits and labels\n",
        "    logits = torch.permute(logits, (0, 2, 3, 1)).reshape(-1, N_CLASSES)\n",
        "    labels = torch.squeeze(lbls_batch, dim=1).view(-1).to(dtype=torch.long)\n",
        "    # 2. Calc ignored mask\n",
        "    ign_mask = labels == IGNORE_INDEX\n",
        "    # 3. Update metrics\n",
        "    metrics.update(logits[~ign_mask], labels[~ign_mask])\n",
        "    metrics_hist.append(metrics.compute())\n",
        "    metrics.reset()\n",
        "\n",
        "    # Save loss and plot loss plot\n",
        "    loss_hist.append(loss.detach().cpu().item())\n",
        "    clear_output(wait=True)\n",
        "    plt.plot(loss_hist)\n",
        "    plt.xlabel(\"Epochs\")\n",
        "    plt.ylabel(\"Train Loss\")\n",
        "    plt.legend()\n",
        "    plt.grid()\n",
        "\n",
        "    plt.show()"
      ]
    },
    {
      "cell_type": "code",
      "execution_count": 12,
      "metadata": {
        "id": "FIxYmKCayFSR",
        "outputId": "32b225d4-6732-4750-ed81-763ced29b661"
      },
      "outputs": [
        {
          "data": {
            "image/png": "[encoded data removed]",
            "text/plain": [
              "<Figure size 1200x1000 with 2 Axes>"
            ]
          },
          "metadata": {},
          "output_type": "display_data"
        }
      ],
      "source": [
        "epochs = list(range(1, len(metrics_hist) + 1))\n",
        "\n",
        "precision_weighted = [d[\"precision_weighted\"] for d in metrics_hist]\n",
        "precision_macro = [d[\"precision_macro\"] for d in metrics_hist]\n",
        "\n",
        "recall_weighted = [d[\"recall_weighted\"] for d in metrics_hist]\n",
        "recall_macro = [d[\"recall_macro\"] for d in metrics_hist]\n",
        "\n",
        "f1_avg = [d[\"f1_avg\"] for d in metrics_hist]\n",
        "dice_avg = [d[\"dice_avg\"] for d in metrics_hist]\n",
        "\n",
        "fig, axes = plt.subplots(2, 1, figsize=(12, 10), sharex=True)\n",
        "\n",
        "# Precision and Recall subplot\n",
        "axes[0].plot(epochs, precision_weighted, label=\"Precision (Weighted)\", marker=\"o\")\n",
        "axes[0].plot(epochs, precision_macro, label=\"Precision (Macro)\", marker=\"o\")\n",
        "axes[0].plot(epochs, recall_weighted, label=\"Recall (Weighted)\", marker=\"o\")\n",
        "axes[0].plot(epochs, recall_macro, label=\"Recall (Macro)\", marker=\"o\")\n",
        "axes[0].set_title(\"Precision and Recall Over Epochs\")\n",
        "axes[0].set_ylabel(\"Metric Value\")\n",
        "axes[0].legend()\n",
        "axes[0].grid()\n",
        "\n",
        "# F1 and Dice Score subplot\n",
        "axes[1].plot(epochs, f1_avg, label=\"F1 Score (Average)\", marker=\"x\")\n",
        "axes[1].plot(epochs, dice_avg, label=\"Dice Score (Average)\", marker=\"*\")\n",
        "axes[1].set_title(\"F1 Score and Dice Score Over Epochs\")\n",
        "axes[1].set_xlabel(\"Epochs\")\n",
        "axes[1].set_ylabel(\"Metric Value\")\n",
        "axes[1].legend()\n",
        "axes[1].grid()\n",
        "\n",
        "plt.tight_layout()\n",
        "plt.show()"
      ]
    },
    {
      "cell_type": "markdown",
      "metadata": {
        "id": "cNno2ACPyFSS"
      },
      "source": [
        "The spike at the end because of high learning rate.   \n",
        "Seems like architecture is properly defined and model can learn."
      ]
    },
    {
      "cell_type": "markdown",
      "metadata": {
        "id": "eF4PABSlyFSS"
      },
      "source": [
        "## WandB testing\n",
        "\n",
        "https://docs.wandb.ai/tutorials/pytorch/"
      ]
    },
    {
      "cell_type": "code",
      "execution_count": 11,
      "metadata": {
        "colab": {
          "base_uri": "https://localhost:8080/"
        },
        "id": "XeMUBzDGyFSS",
        "outputId": "51497d51-c277-4140-e3c9-9ecca5370453"
      },
      "outputs": [
        {
          "name": "stderr",
          "output_type": "stream",
          "text": [
            "\u001b[34m\u001b[1mwandb\u001b[0m: Using wandb-core as the SDK backend.  Please refer to https://wandb.me/wandb-core for more information.\n",
            "\u001b[34m\u001b[1mwandb\u001b[0m: Currently logged in as: \u001b[33mdeniskirbaba\u001b[0m (\u001b[33mdeniskirbaba-team\u001b[0m). Use \u001b[1m`wandb login --relogin`\u001b[0m to force relogin\n",
            "\u001b[34m\u001b[1mwandb\u001b[0m: \u001b[33mWARNING\u001b[0m If you're specifying your api key in code, ensure this code is not shared publicly.\n",
            "\u001b[34m\u001b[1mwandb\u001b[0m: \u001b[33mWARNING\u001b[0m Consider setting the WANDB_API_KEY environment variable, or running `wandb login` from the command line.\n",
            "\u001b[34m\u001b[1mwandb\u001b[0m: Appending key for api.wandb.ai to your netrc file: /root/.netrc\n"
          ]
        },
        {
          "data": {
            "text/plain": [
              "True"
            ]
          },
          "execution_count": 11,
          "metadata": {},
          "output_type": "execute_result"
        }
      ],
      "source": [
        "# Login into wandb\n",
        "\n",
        "# Local\n",
        "# wandb.login(key=os.getenv(\"WANDB_KEY\"))\n",
        "\n",
        "# Colab\n",
        "wandb.login(key=WANDB_KEY)"
      ]
    },
    {
      "cell_type": "code",
      "execution_count": 12,
      "metadata": {
        "id": "XsAR_py1yFST"
      },
      "outputs": [],
      "source": [
        "# Define run hyperparameters\n",
        "config = dict(\n",
        "    img_size=(16, 32),\n",
        "    classes=N_CLASSES,\n",
        "    architecture=\"UNet\",\n",
        "    start_channels=4,\n",
        "    depth=1,\n",
        "    epochs=2,\n",
        "    batch_size=4,\n",
        "    learning_rate=1e-2,\n",
        ")"
      ]
    },
    {
      "cell_type": "code",
      "execution_count": 13,
      "metadata": {
        "colab": {
          "base_uri": "https://localhost:8080/"
        },
        "id": "wQ75L4gLXScv",
        "outputId": "b5f672cd-4b21-4bd4-c962-cb9301fce0df"
      },
      "outputs": [
        {
          "name": "stdout",
          "output_type": "stream",
          "text": [
            "Found 2975 train images\n",
            "Found 500 val images\n"
          ]
        }
      ],
      "source": [
        "# Init and prepare trainer\n",
        "trainer = Trainer(\n",
        "    config=config,\n",
        "    device=device,\n",
        "    dtype=DTYPE,\n",
        "    ignore_index=IGNORE_INDEX,\n",
        "    idx2name=IDX2NAME,\n",
        "    project_name=\"test_wandb\",\n",
        "    model_save_folder=Path(\n",
        "        \"/content/drive/MyDrive/AI Talent Hub/Обработка и генерация изображений/images_hw_1/model_checkpoints/wandb_testing/\"\n",
        "    ),\n",
        ")\n",
        "trainer.prepare(cityscapes_folder=CITYSCAPES_FOLDER, subset=True, compile=True)"
      ]
    },
    {
      "cell_type": "markdown",
      "metadata": {
        "id": "5ybZBDgFXScv"
      },
      "source": [
        "#### Analyze model"
      ]
    },
    {
      "cell_type": "code",
      "execution_count": null,
      "metadata": {
        "colab": {
          "base_uri": "https://localhost:8080/"
        },
        "id": "PYueMR4SXScv",
        "outputId": "3e25e152-9115-450f-988b-ccba19cd25f9"
      },
      "outputs": [
        {
          "data": {
            "text/plain": [
              "OptimizedModule(\n",
              "  (_orig_mod): UNet(\n",
              "    (down_blocks): ModuleList(\n",
              "      (0): DoubleConv(\n",
              "        (layer): Sequential(\n",
              "          (0): Conv2d(3, 4, kernel_size=(3, 3), stride=(1, 1), padding=(1, 1))\n",
              "          (1): BatchNorm2d(4, eps=1e-05, momentum=0.1, affine=True, track_running_stats=True)\n",
              "          (2): Hardswish()\n",
              "          (3): Conv2d(4, 4, kernel_size=(3, 3), stride=(1, 1), padding=(1, 1))\n",
              "          (4): BatchNorm2d(4, eps=1e-05, momentum=0.1, affine=True, track_running_stats=True)\n",
              "          (5): Hardswish()\n",
              "        )\n",
              "      )\n",
              "      (1): Sequential(\n",
              "        (0): MaxPool2d(kernel_size=2, stride=2, padding=0, dilation=1, ceil_mode=False)\n",
              "        (1): DoubleConv(\n",
              "          (layer): Sequential(\n",
              "            (0): Conv2d(4, 8, kernel_size=(3, 3), stride=(1, 1), padding=(1, 1))\n",
              "            (1): BatchNorm2d(8, eps=1e-05, momentum=0.1, affine=True, track_running_stats=True)\n",
              "            (2): Hardswish()\n",
              "            (3): Conv2d(8, 8, kernel_size=(3, 3), stride=(1, 1), padding=(1, 1))\n",
              "            (4): BatchNorm2d(8, eps=1e-05, momentum=0.1, affine=True, track_running_stats=True)\n",
              "            (5): Hardswish()\n",
              "          )\n",
              "        )\n",
              "      )\n",
              "    )\n",
              "    (bottleneck): Sequential(\n",
              "      (0): MaxPool2d(kernel_size=2, stride=2, padding=0, dilation=1, ceil_mode=False)\n",
              "      (1): DoubleConv(\n",
              "        (layer): Sequential(\n",
              "          (0): Conv2d(8, 16, kernel_size=(3, 3), stride=(1, 1), padding=(1, 1))\n",
              "          (1): BatchNorm2d(16, eps=1e-05, momentum=0.1, affine=True, track_running_stats=True)\n",
              "          (2): Hardswish()\n",
              "          (3): Conv2d(16, 16, kernel_size=(3, 3), stride=(1, 1), padding=(1, 1))\n",
              "          (4): BatchNorm2d(16, eps=1e-05, momentum=0.1, affine=True, track_running_stats=True)\n",
              "          (5): Hardswish()\n",
              "        )\n",
              "      )\n",
              "      (2): ConvTranspose2d(16, 8, kernel_size=(2, 2), stride=(2, 2))\n",
              "    )\n",
              "    (up_blocks): ModuleList(\n",
              "      (0): Sequential(\n",
              "        (0): DoubleConv(\n",
              "          (layer): Sequential(\n",
              "            (0): Conv2d(16, 8, kernel_size=(3, 3), stride=(1, 1), padding=(1, 1))\n",
              "            (1): BatchNorm2d(8, eps=1e-05, momentum=0.1, affine=True, track_running_stats=True)\n",
              "            (2): Hardswish()\n",
              "            (3): Conv2d(8, 8, kernel_size=(3, 3), stride=(1, 1), padding=(1, 1))\n",
              "            (4): BatchNorm2d(8, eps=1e-05, momentum=0.1, affine=True, track_running_stats=True)\n",
              "            (5): Hardswish()\n",
              "          )\n",
              "        )\n",
              "        (1): ConvTranspose2d(8, 4, kernel_size=(2, 2), stride=(2, 2))\n",
              "      )\n",
              "    )\n",
              "    (final_conv): Sequential(\n",
              "      (0): DoubleConv(\n",
              "        (layer): Sequential(\n",
              "          (0): Conv2d(8, 4, kernel_size=(3, 3), stride=(1, 1), padding=(1, 1))\n",
              "          (1): BatchNorm2d(4, eps=1e-05, momentum=0.1, affine=True, track_running_stats=True)\n",
              "          (2): Hardswish()\n",
              "          (3): Conv2d(4, 4, kernel_size=(3, 3), stride=(1, 1), padding=(1, 1))\n",
              "          (4): BatchNorm2d(4, eps=1e-05, momentum=0.1, affine=True, track_running_stats=True)\n",
              "          (5): Hardswish()\n",
              "        )\n",
              "      )\n",
              "      (1): Conv2d(4, 19, kernel_size=(1, 1), stride=(1, 1))\n",
              "    )\n",
              "  )\n",
              ")"
            ]
          },
          "execution_count": 20,
          "metadata": {},
          "output_type": "execute_result"
        }
      ],
      "source": [
        "trainer.model"
      ]
    },
    {
      "cell_type": "code",
      "execution_count": null,
      "metadata": {
        "colab": {
          "base_uri": "https://localhost:8080/"
        },
        "id": "1kcNrcIoXScw",
        "outputId": "063df848-f511-4a1c-c520-b8e802e3eae8"
      },
      "outputs": [
        {
          "name": "stderr",
          "output_type": "stream",
          "text": [
            "/usr/local/lib/python3.10/dist-packages/torch/_inductor/compile_fx.py:1604: UserWarning: Tesla T4 does not support bfloat16 compilation natively, skipping\n",
            "  warnings.warn(\n"
          ]
        },
        {
          "data": {
            "text/plain": [
              "====================================================================================================\n",
              "Layer (type:depth-idx)                             Output Shape              Param #\n",
              "====================================================================================================\n",
              "OptimizedModule                                    [4, 19, 16, 32]           --\n",
              "├─UNet: 1-1                                        [4, 19, 16, 32]           --\n",
              "│    └─ModuleList: 2-1                             --                        --\n",
              "│    │    └─DoubleConv: 3-1                        [4, 4, 16, 32]            276\n",
              "│    │    └─Sequential: 3-2                        [4, 8, 8, 16]             912\n",
              "│    └─Sequential: 2-2                             [4, 8, 8, 16]             --\n",
              "│    │    └─MaxPool2d: 3-3                         [4, 8, 4, 8]              --\n",
              "│    │    └─DoubleConv: 3-4                        [4, 16, 4, 8]             3,552\n",
              "│    │    └─ConvTranspose2d: 3-5                   [4, 8, 8, 16]             520\n",
              "│    └─ModuleList: 2-3                             --                        --\n",
              "│    │    └─Sequential: 3-6                        [4, 4, 16, 32]            1,908\n",
              "│    └─Sequential: 2-4                             [4, 19, 16, 32]           --\n",
              "│    │    └─DoubleConv: 3-7                        [4, 4, 16, 32]            456\n",
              "│    │    └─Conv2d: 3-8                            [4, 19, 16, 32]           95\n",
              "====================================================================================================\n",
              "Total params: 7,719\n",
              "Trainable params: 7,719\n",
              "Non-trainable params: 0\n",
              "Total mult-adds (M): 3.96\n",
              "====================================================================================================\n",
              "Input size (MB): 0.01\n",
              "Forward/backward pass size (MB): 0.63\n",
              "Params size (MB): 0.02\n",
              "Estimated Total Size (MB): 0.66\n",
              "===================================================================================================="
            ]
          },
          "execution_count": 21,
          "metadata": {},
          "output_type": "execute_result"
        }
      ],
      "source": [
        "summary(\n",
        "    trainer.model,\n",
        "    input_data=torch.zeros(\n",
        "        size=(config[\"batch_size\"], 3, *config[\"img_size\"]), dtype=DTYPE, device=device\n",
        "    ),\n",
        "    mode=\"train\",\n",
        ")"
      ]
    },
    {
      "cell_type": "code",
      "execution_count": 14,
      "metadata": {
        "colab": {
          "base_uri": "https://localhost:8080/",
          "height": 1000,
          "referenced_widgets": [
            "cc820b5410f94433bc5e73b8f064ed96",
            "7766587d0d5644509ac9a83dc33206f0",
            "d4cdf47314a34d3c80c2dfb6a3d1338e",
            "91ca8ff56d204e3c8a23376da398f053",
            "825c9fe9a3e94c86bc9264992c003634",
            "c912d7c9add24c70b0d5adeb54317cde",
            "cf54ed30fc9d4821b44034c0f23e8971",
            "a2b52cd8179e472e9c854a0b8e9eb886",
            "489ad451cfeb4f308855cf66097bdf25",
            "b1540b96dcda4fad8e629d7f2d3de62e",
            "4b0a63636d344e4cb442e0a0c7f02deb",
            "6a77487d7d204376b90ab904048e9315",
            "7a6058339eff4ca5aaa7381adb893043",
            "ba7a0725d18348749b5cc74d0657c69e",
            "7a6bbb2969f44e96bdab01a1581e4d62",
            "61e328ca6bd94558972aeaa863a3181b",
            "fe5eb9ccacdf4581abebea461826d404",
            "8b1551acecca494db881ccf555419cb6",
            "8d5ee5f6620e4e2fb8bb3a62d6c0f7e6",
            "cba2ab8994ae450f83e04be74791e6f0",
            "8803ae0c72bf4f1d9d9481fbb51a8102",
            "51b4b4a8890a4d688b9ef650ff2ef120",
            "5084be2fa76447d1b9f36319cb202ca6",
            "f4cbf67d1d5b4e2f9e92add624461c51",
            "4ca83329126c4140829a1bfbad5b8e6f",
            "a1ab466a8bf94cc294dae49ffff29d74",
            "cccaa8d5ceca49e2850e5b073838cf19",
            "0eef990da4194c98aa198c8f674ab52a",
            "a164d4b0438a421188323747efb0ef18",
            "d835e6e6652d441f98cd5ff266706f24",
            "07c58affc44a4549a88d799320dfb56f",
            "a1eda752fbe24d7aa22c83f5a2797de2",
            "d6fdc75062ac4387bedc90ccbb4581e9",
            "5b25a9d285444ba1af132c224162752d",
            "eeca797e3ea44d26b9ef79118e0f8dd3",
            "8388cf2094ce46598d34564742a7f2eb",
            "b81b1586bad349499a8dbd8f7a36aec0",
            "cce6f1393c23462795f7d1099dac82a7",
            "1279ad23cde7439eb89459e359468767",
            "6a5db34c88b24caa871729a66520607f",
            "ab17366f9c254fb69aae9002713bb13b",
            "7136e8698dfa4366be2eb2dcdac061be",
            "4e9108d48f124a64b6b36f669fc359e2",
            "a6c1bf97a0c44b57ab3f9c7d95523978",
            "e02da5bf5e5742cf94d5af20ae705be2",
            "88cfae512ab44c5ca77f88f7d556d03d",
            "44c7abc2b719459eb881f3e4be12c63d",
            "9019ebb2ace74a4292e53ef864c377b0",
            "44a9dba630c6435a982cf0fcc3243b2e",
            "077bad3268a5455a84dfcce2d225fd77",
            "f601a59ef7df42fcb17abbbb466af42e",
            "14afea33883746e49324011134b6552c",
            "f55531006f8843a880cfa101464246fb",
            "f4db03198a2f47cd87ba60f37392e78e",
            "815b26ffe64c46ffbc2524c2c147262b",
            "d8b3ff9d1d4b4716b219d54f2d6cc0fb",
            "4754d821309942688e00e4b18686806c",
            "d52362c531334a7c802cba0c18746c77",
            "432724cc970045e7a259d77ad9cb0132",
            "ffa8f5b2b7de461e87413b501f7e7751",
            "8e0357f652944798901de46a5039713c",
            "f42cf2b1171b4d7580d35f76111b5f21",
            "a7cb4d905d624d29b2c498c659e0985f",
            "3adc65285bcd41d795c3a0a39a96b332",
            "e0548e063ee64e2f8c887ab4f1ac558e",
            "656c9c3940c94caba9e0fd0436782a00"
          ]
        },
        "id": "1X8ZNa7PyFSV",
        "outputId": "ba5c452f-b6f1-49e8-e097-79aec5f15c3c"
      },
      "outputs": [
        {
          "data": {
            "text/html": [
              "Tracking run with wandb version 0.19.1"
            ],
            "text/plain": [
              "<IPython.core.display.HTML object>"
            ]
          },
          "metadata": {},
          "output_type": "display_data"
        },
        {
          "data": {
            "text/html": [
              "Run data is saved locally in <code>/content/wandb/run-20250107_215728-86m0j6ha</code>"
            ],
            "text/plain": [
              "<IPython.core.display.HTML object>"
            ]
          },
          "metadata": {},
          "output_type": "display_data"
        },
        {
          "data": {
            "text/html": [
              "Syncing run <strong><a href='https://wandb.ai/deniskirbaba-team/test_wandb/runs/86m0j6ha' target=\"_blank\">celestial-dream-2</a></strong> to <a href='https://wandb.ai/deniskirbaba-team/test_wandb' target=\"_blank\">Weights & Biases</a> (<a href='https://wandb.me/developer-guide' target=\"_blank\">docs</a>)<br>"
            ],
            "text/plain": [
              "<IPython.core.display.HTML object>"
            ]
          },
          "metadata": {},
          "output_type": "display_data"
        },
        {
          "data": {
            "text/html": [
              " View project at <a href='https://wandb.ai/deniskirbaba-team/test_wandb' target=\"_blank\">https://wandb.ai/deniskirbaba-team/test_wandb</a>"
            ],
            "text/plain": [
              "<IPython.core.display.HTML object>"
            ]
          },
          "metadata": {},
          "output_type": "display_data"
        },
        {
          "data": {
            "text/html": [
              " View run at <a href='https://wandb.ai/deniskirbaba-team/test_wandb/runs/86m0j6ha' target=\"_blank\">https://wandb.ai/deniskirbaba-team/test_wandb/runs/86m0j6ha</a>"
            ],
            "text/plain": [
              "<IPython.core.display.HTML object>"
            ]
          },
          "metadata": {},
          "output_type": "display_data"
        },
        {
          "data": {
            "application/vnd.jupyter.widget-view+json": {
              "model_id": "cc820b5410f94433bc5e73b8f064ed96",
              "version_major": 2,
              "version_minor": 0
            },
            "text/plain": [
              "Epochs:   0%|          | 0/2 [00:00<?, ?it/s]"
            ]
          },
          "metadata": {},
          "output_type": "display_data"
        },
        {
          "data": {
            "application/vnd.jupyter.widget-view+json": {
              "model_id": "6a77487d7d204376b90ab904048e9315",
              "version_major": 2,
              "version_minor": 0
            },
            "text/plain": [
              "Training:   0%|          | 0/16 [00:00<?, ?it/s]"
            ]
          },
          "metadata": {},
          "output_type": "display_data"
        },
        {
          "name": "stderr",
          "output_type": "stream",
          "text": [
            "/usr/local/lib/python3.10/dist-packages/torch/_inductor/compile_fx.py:1604: UserWarning: Tesla T4 does not support bfloat16 compilation natively, skipping\n",
            "  warnings.warn(\n"
          ]
        },
        {
          "data": {
            "application/vnd.jupyter.widget-view+json": {
              "model_id": "5084be2fa76447d1b9f36319cb202ca6",
              "version_major": 2,
              "version_minor": 0
            },
            "text/plain": [
              "Validation:   0%|          | 0/2 [00:00<?, ?it/s]"
            ]
          },
          "metadata": {},
          "output_type": "display_data"
        },
        {
          "data": {
            "application/vnd.jupyter.widget-view+json": {
              "model_id": "5b25a9d285444ba1af132c224162752d",
              "version_major": 2,
              "version_minor": 0
            },
            "text/plain": [
              "Training:   0%|          | 0/16 [00:00<?, ?it/s]"
            ]
          },
          "metadata": {},
          "output_type": "display_data"
        },
        {
          "data": {
            "application/vnd.jupyter.widget-view+json": {
              "model_id": "e02da5bf5e5742cf94d5af20ae705be2",
              "version_major": 2,
              "version_minor": 0
            },
            "text/plain": [
              "Validation:   0%|          | 0/2 [00:00<?, ?it/s]"
            ]
          },
          "metadata": {},
          "output_type": "display_data"
        },
        {
          "data": {
            "application/vnd.jupyter.widget-view+json": {
              "model_id": "d8b3ff9d1d4b4716b219d54f2d6cc0fb",
              "version_major": 2,
              "version_minor": 0
            },
            "text/plain": [
              "Test:   0%|          | 0/2 [00:00<?, ?it/s]"
            ]
          },
          "metadata": {},
          "output_type": "display_data"
        },
        {
          "data": {
            "text/html": [],
            "text/plain": [
              "<IPython.core.display.HTML object>"
            ]
          },
          "metadata": {},
          "output_type": "display_data"
        },
        {
          "data": {
            "text/html": [
              "<br>    <style><br>        .wandb-row {<br>            display: flex;<br>            flex-direction: row;<br>            flex-wrap: wrap;<br>            justify-content: flex-start;<br>            width: 100%;<br>        }<br>        .wandb-col {<br>            display: flex;<br>            flex-direction: column;<br>            flex-basis: 100%;<br>            flex: 1;<br>            padding: 10px;<br>        }<br>    </style><br><div class=\"wandb-row\"><div class=\"wandb-col\"><h3>Run history:</h3><br/><table class=\"wandb\"><tr><td>dice_avg</td><td>█▁</td></tr><tr><td>dice_building</td><td>▁▁</td></tr><tr><td>dice_bus</td><td>▁▁</td></tr><tr><td>dice_car</td><td>▁▁</td></tr><tr><td>dice_fence</td><td>▁▁</td></tr><tr><td>dice_motorcycle</td><td>▁▁</td></tr><tr><td>dice_person</td><td>▁▁</td></tr><tr><td>dice_pole</td><td>▁▁</td></tr><tr><td>dice_rider</td><td>▁▁</td></tr><tr><td>dice_road</td><td>█▁</td></tr><tr><td>dice_sidewalk</td><td>▁▁</td></tr><tr><td>dice_sky</td><td>▁▁</td></tr><tr><td>dice_terrain</td><td>▁▁</td></tr><tr><td>dice_traffic_light</td><td>▁▁</td></tr><tr><td>dice_traffic_sign</td><td>▁▁</td></tr><tr><td>dice_train</td><td>▁▁</td></tr><tr><td>dice_truck</td><td>▁▁</td></tr><tr><td>dice_unlabelled</td><td>▁▁</td></tr><tr><td>dice_vegetation</td><td>█▁</td></tr><tr><td>dice_wall</td><td>▁▁</td></tr><tr><td>epoch</td><td>▁▁▁▁▁▁▁▁████████</td></tr><tr><td>f1_avg</td><td>█▁</td></tr><tr><td>f1_building</td><td>▁▁</td></tr><tr><td>f1_bus</td><td>▁▁</td></tr><tr><td>f1_car</td><td>▁▁</td></tr><tr><td>f1_fence</td><td>▁▁</td></tr><tr><td>f1_motorcycle</td><td>▁▁</td></tr><tr><td>f1_person</td><td>▁▁</td></tr><tr><td>f1_pole</td><td>▁▁</td></tr><tr><td>f1_rider</td><td>▁▁</td></tr><tr><td>f1_road</td><td>█▁</td></tr><tr><td>f1_sidewalk</td><td>▁▁</td></tr><tr><td>f1_sky</td><td>▁▁</td></tr><tr><td>f1_terrain</td><td>▁▁</td></tr><tr><td>f1_traffic_light</td><td>▁▁</td></tr><tr><td>f1_traffic_sign</td><td>▁▁</td></tr><tr><td>f1_train</td><td>▁▁</td></tr><tr><td>f1_truck</td><td>▁▁</td></tr><tr><td>f1_unlabelled</td><td>▁▁</td></tr><tr><td>f1_vegetation</td><td>█▁</td></tr><tr><td>f1_wall</td><td>▁▁</td></tr><tr><td>precision_building</td><td>▁▁</td></tr><tr><td>precision_bus</td><td>▁▁</td></tr><tr><td>precision_car</td><td>▁▁</td></tr><tr><td>precision_fence</td><td>▁▁</td></tr><tr><td>precision_macro</td><td>▁█</td></tr><tr><td>precision_motorcycle</td><td>▁▁</td></tr><tr><td>precision_person</td><td>▁▁</td></tr><tr><td>precision_pole</td><td>▁▁</td></tr><tr><td>precision_rider</td><td>▁▁</td></tr><tr><td>precision_road</td><td>▁█</td></tr><tr><td>precision_sidewalk</td><td>▁▁</td></tr><tr><td>precision_sky</td><td>▁▁</td></tr><tr><td>precision_terrain</td><td>▁▁</td></tr><tr><td>precision_traffic_light</td><td>▁▁</td></tr><tr><td>precision_traffic_sign</td><td>▁▁</td></tr><tr><td>precision_train</td><td>▁▁</td></tr><tr><td>precision_truck</td><td>▁▁</td></tr><tr><td>precision_unlabelled</td><td>▁▁</td></tr><tr><td>precision_vegetation</td><td>█▁</td></tr><tr><td>precision_wall</td><td>▁▁</td></tr><tr><td>precision_weighted</td><td>▁█</td></tr><tr><td>recall_building</td><td>▁▁</td></tr><tr><td>recall_bus</td><td>▁▁</td></tr><tr><td>recall_car</td><td>▁▁</td></tr><tr><td>recall_fence</td><td>▁▁</td></tr><tr><td>recall_macro</td><td>█▁</td></tr><tr><td>recall_motorcycle</td><td>▁▁</td></tr><tr><td>recall_person</td><td>▁▁</td></tr><tr><td>recall_pole</td><td>▁▁</td></tr><tr><td>recall_rider</td><td>▁▁</td></tr><tr><td>recall_road</td><td>█▁</td></tr><tr><td>recall_sidewalk</td><td>▁▁</td></tr><tr><td>recall_sky</td><td>▁▁</td></tr><tr><td>recall_terrain</td><td>▁▁</td></tr><tr><td>recall_traffic_light</td><td>▁▁</td></tr><tr><td>recall_traffic_sign</td><td>▁▁</td></tr><tr><td>recall_train</td><td>▁▁</td></tr><tr><td>recall_truck</td><td>▁▁</td></tr><tr><td>recall_unlabelled</td><td>▁▁</td></tr><tr><td>recall_vegetation</td><td>▁█</td></tr><tr><td>recall_wall</td><td>▁▁</td></tr><tr><td>recall_weighted</td><td>█▁</td></tr><tr><td>test_dice_avg</td><td>▁</td></tr><tr><td>test_dice_building</td><td>▁</td></tr><tr><td>test_dice_bus</td><td>▁</td></tr><tr><td>test_dice_car</td><td>▁</td></tr><tr><td>test_dice_fence</td><td>▁</td></tr><tr><td>test_dice_motorcycle</td><td>▁</td></tr><tr><td>test_dice_person</td><td>▁</td></tr><tr><td>test_dice_pole</td><td>▁</td></tr><tr><td>test_dice_rider</td><td>▁</td></tr><tr><td>test_dice_road</td><td>▁</td></tr><tr><td>test_dice_sidewalk</td><td>▁</td></tr><tr><td>test_dice_sky</td><td>▁</td></tr><tr><td>test_dice_terrain</td><td>▁</td></tr><tr><td>test_dice_traffic_light</td><td>▁</td></tr><tr><td>test_dice_traffic_sign</td><td>▁</td></tr><tr><td>test_dice_train</td><td>▁</td></tr><tr><td>test_dice_truck</td><td>▁</td></tr><tr><td>test_dice_unlabelled</td><td>▁</td></tr><tr><td>test_dice_vegetation</td><td>▁</td></tr><tr><td>test_dice_wall</td><td>▁</td></tr><tr><td>test_f1_avg</td><td>▁</td></tr><tr><td>test_f1_building</td><td>▁</td></tr><tr><td>test_f1_bus</td><td>▁</td></tr><tr><td>test_f1_car</td><td>▁</td></tr><tr><td>test_f1_fence</td><td>▁</td></tr><tr><td>test_f1_motorcycle</td><td>▁</td></tr><tr><td>test_f1_person</td><td>▁</td></tr><tr><td>test_f1_pole</td><td>▁</td></tr><tr><td>test_f1_rider</td><td>▁</td></tr><tr><td>test_f1_road</td><td>▁</td></tr><tr><td>test_f1_sidewalk</td><td>▁</td></tr><tr><td>test_f1_sky</td><td>▁</td></tr><tr><td>test_f1_terrain</td><td>▁</td></tr><tr><td>test_f1_traffic_light</td><td>▁</td></tr><tr><td>test_f1_traffic_sign</td><td>▁</td></tr><tr><td>test_f1_train</td><td>▁</td></tr><tr><td>test_f1_truck</td><td>▁</td></tr><tr><td>test_f1_unlabelled</td><td>▁</td></tr><tr><td>test_f1_vegetation</td><td>▁</td></tr><tr><td>test_f1_wall</td><td>▁</td></tr><tr><td>test_precision_building</td><td>▁</td></tr><tr><td>test_precision_bus</td><td>▁</td></tr><tr><td>test_precision_car</td><td>▁</td></tr><tr><td>test_precision_fence</td><td>▁</td></tr><tr><td>test_precision_macro</td><td>▁</td></tr><tr><td>test_precision_motorcycle</td><td>▁</td></tr><tr><td>test_precision_person</td><td>▁</td></tr><tr><td>test_precision_pole</td><td>▁</td></tr><tr><td>test_precision_rider</td><td>▁</td></tr><tr><td>test_precision_road</td><td>▁</td></tr><tr><td>test_precision_sidewalk</td><td>▁</td></tr><tr><td>test_precision_sky</td><td>▁</td></tr><tr><td>test_precision_terrain</td><td>▁</td></tr><tr><td>test_precision_traffic_light</td><td>▁</td></tr><tr><td>test_precision_traffic_sign</td><td>▁</td></tr><tr><td>test_precision_train</td><td>▁</td></tr><tr><td>test_precision_truck</td><td>▁</td></tr><tr><td>test_precision_unlabelled</td><td>▁</td></tr><tr><td>test_precision_vegetation</td><td>▁</td></tr><tr><td>test_precision_wall</td><td>▁</td></tr><tr><td>test_precision_weighted</td><td>▁</td></tr><tr><td>test_recall_building</td><td>▁</td></tr><tr><td>test_recall_bus</td><td>▁</td></tr><tr><td>test_recall_car</td><td>▁</td></tr><tr><td>test_recall_fence</td><td>▁</td></tr><tr><td>test_recall_macro</td><td>▁</td></tr><tr><td>test_recall_motorcycle</td><td>▁</td></tr><tr><td>test_recall_person</td><td>▁</td></tr><tr><td>test_recall_pole</td><td>▁</td></tr><tr><td>test_recall_rider</td><td>▁</td></tr><tr><td>test_recall_road</td><td>▁</td></tr><tr><td>test_recall_sidewalk</td><td>▁</td></tr><tr><td>test_recall_sky</td><td>▁</td></tr><tr><td>test_recall_terrain</td><td>▁</td></tr><tr><td>test_recall_traffic_light</td><td>▁</td></tr><tr><td>test_recall_traffic_sign</td><td>▁</td></tr><tr><td>test_recall_train</td><td>▁</td></tr><tr><td>test_recall_truck</td><td>▁</td></tr><tr><td>test_recall_unlabelled</td><td>▁</td></tr><tr><td>test_recall_vegetation</td><td>▁</td></tr><tr><td>test_recall_wall</td><td>▁</td></tr><tr><td>test_recall_weighted</td><td>▁</td></tr><tr><td>train batch loss</td><td>█▇▆▅▆▄▄▅▄▃▂▃▁▁▁▂</td></tr><tr><td>train epoch loss</td><td>█▁</td></tr><tr><td>val loss</td><td>█▁</td></tr></table><br/></div><div class=\"wandb-col\"><h3>Run summary:</h3><br/><table class=\"wandb\"><tr><td>dice_avg</td><td>0.05771</td></tr><tr><td>dice_building</td><td>0</td></tr><tr><td>dice_bus</td><td>0</td></tr><tr><td>dice_car</td><td>0</td></tr><tr><td>dice_fence</td><td>0</td></tr><tr><td>dice_motorcycle</td><td>0</td></tr><tr><td>dice_person</td><td>0</td></tr><tr><td>dice_pole</td><td>0</td></tr><tr><td>dice_rider</td><td>0</td></tr><tr><td>dice_road</td><td>0.83754</td></tr><tr><td>dice_sidewalk</td><td>0</td></tr><tr><td>dice_sky</td><td>0</td></tr><tr><td>dice_terrain</td><td>0</td></tr><tr><td>dice_traffic_light</td><td>0</td></tr><tr><td>dice_traffic_sign</td><td>0</td></tr><tr><td>dice_train</td><td>0</td></tr><tr><td>dice_truck</td><td>0</td></tr><tr><td>dice_unlabelled</td><td>0</td></tr><tr><td>dice_vegetation</td><td>0.25889</td></tr><tr><td>dice_wall</td><td>0</td></tr><tr><td>epoch</td><td>1</td></tr><tr><td>f1_avg</td><td>0.05771</td></tr><tr><td>f1_building</td><td>0</td></tr><tr><td>f1_bus</td><td>0</td></tr><tr><td>f1_car</td><td>0</td></tr><tr><td>f1_fence</td><td>0</td></tr><tr><td>f1_motorcycle</td><td>0</td></tr><tr><td>f1_person</td><td>0</td></tr><tr><td>f1_pole</td><td>0</td></tr><tr><td>f1_rider</td><td>0</td></tr><tr><td>f1_road</td><td>0.83754</td></tr><tr><td>f1_sidewalk</td><td>0</td></tr><tr><td>f1_sky</td><td>0</td></tr><tr><td>f1_terrain</td><td>0</td></tr><tr><td>f1_traffic_light</td><td>0</td></tr><tr><td>f1_traffic_sign</td><td>0</td></tr><tr><td>f1_train</td><td>0</td></tr><tr><td>f1_truck</td><td>0</td></tr><tr><td>f1_unlabelled</td><td>0</td></tr><tr><td>f1_vegetation</td><td>0.25889</td></tr><tr><td>f1_wall</td><td>0</td></tr><tr><td>precision_building</td><td>0</td></tr><tr><td>precision_bus</td><td>0</td></tr><tr><td>precision_car</td><td>0</td></tr><tr><td>precision_fence</td><td>0</td></tr><tr><td>precision_macro</td><td>0.05269</td></tr><tr><td>precision_motorcycle</td><td>0</td></tr><tr><td>precision_person</td><td>0</td></tr><tr><td>precision_pole</td><td>0</td></tr><tr><td>precision_rider</td><td>0</td></tr><tr><td>precision_road</td><td>0.85233</td></tr><tr><td>precision_sidewalk</td><td>0</td></tr><tr><td>precision_sky</td><td>0</td></tr><tr><td>precision_terrain</td><td>0</td></tr><tr><td>precision_traffic_light</td><td>0</td></tr><tr><td>precision_traffic_sign</td><td>0</td></tr><tr><td>precision_train</td><td>0</td></tr><tr><td>precision_truck</td><td>0</td></tr><tr><td>precision_unlabelled</td><td>0</td></tr><tr><td>precision_vegetation</td><td>0.14876</td></tr><tr><td>precision_wall</td><td>0</td></tr><tr><td>precision_weighted</td><td>0.32861</td></tr><tr><td>recall_building</td><td>0</td></tr><tr><td>recall_bus</td><td>0</td></tr><tr><td>recall_car</td><td>0</td></tr><tr><td>recall_fence</td><td>0</td></tr><tr><td>recall_macro</td><td>0.0958</td></tr><tr><td>recall_motorcycle</td><td>0</td></tr><tr><td>recall_person</td><td>0</td></tr><tr><td>recall_pole</td><td>0</td></tr><tr><td>recall_rider</td><td>0</td></tr><tr><td>recall_road</td><td>0.82326</td></tr><tr><td>recall_sidewalk</td><td>0</td></tr><tr><td>recall_sky</td><td>0</td></tr><tr><td>recall_terrain</td><td>0</td></tr><tr><td>recall_traffic_light</td><td>0</td></tr><tr><td>recall_traffic_sign</td><td>0</td></tr><tr><td>recall_train</td><td>0</td></tr><tr><td>recall_truck</td><td>0</td></tr><tr><td>recall_unlabelled</td><td>0</td></tr><tr><td>recall_vegetation</td><td>0.99702</td></tr><tr><td>recall_wall</td><td>0</td></tr><tr><td>recall_weighted</td><td>0.39937</td></tr><tr><td>test_dice_avg</td><td>0.07522</td></tr><tr><td>test_dice_building</td><td>0</td></tr><tr><td>test_dice_bus</td><td>0</td></tr><tr><td>test_dice_car</td><td>0</td></tr><tr><td>test_dice_fence</td><td>0</td></tr><tr><td>test_dice_motorcycle</td><td>0</td></tr><tr><td>test_dice_person</td><td>0</td></tr><tr><td>test_dice_pole</td><td>0</td></tr><tr><td>test_dice_rider</td><td>0</td></tr><tr><td>test_dice_road</td><td>0.87155</td></tr><tr><td>test_dice_sidewalk</td><td>0</td></tr><tr><td>test_dice_sky</td><td>0</td></tr><tr><td>test_dice_terrain</td><td>0</td></tr><tr><td>test_dice_traffic_light</td><td>0</td></tr><tr><td>test_dice_traffic_sign</td><td>0</td></tr><tr><td>test_dice_train</td><td>0</td></tr><tr><td>test_dice_truck</td><td>0</td></tr><tr><td>test_dice_unlabelled</td><td>0</td></tr><tr><td>test_dice_vegetation</td><td>0.55754</td></tr><tr><td>test_dice_wall</td><td>0</td></tr><tr><td>test_f1_avg</td><td>0.07522</td></tr><tr><td>test_f1_building</td><td>0</td></tr><tr><td>test_f1_bus</td><td>0</td></tr><tr><td>test_f1_car</td><td>0</td></tr><tr><td>test_f1_fence</td><td>0</td></tr><tr><td>test_f1_motorcycle</td><td>0</td></tr><tr><td>test_f1_person</td><td>0</td></tr><tr><td>test_f1_pole</td><td>0</td></tr><tr><td>test_f1_rider</td><td>0</td></tr><tr><td>test_f1_road</td><td>0.87155</td></tr><tr><td>test_f1_sidewalk</td><td>0</td></tr><tr><td>test_f1_sky</td><td>0</td></tr><tr><td>test_f1_terrain</td><td>0</td></tr><tr><td>test_f1_traffic_light</td><td>0</td></tr><tr><td>test_f1_traffic_sign</td><td>0</td></tr><tr><td>test_f1_train</td><td>0</td></tr><tr><td>test_f1_truck</td><td>0</td></tr><tr><td>test_f1_unlabelled</td><td>0</td></tr><tr><td>test_f1_vegetation</td><td>0.55754</td></tr><tr><td>test_f1_wall</td><td>0</td></tr><tr><td>test_precision_building</td><td>0</td></tr><tr><td>test_precision_bus</td><td>0</td></tr><tr><td>test_precision_car</td><td>0</td></tr><tr><td>test_precision_fence</td><td>0</td></tr><tr><td>test_precision_macro</td><td>0.06873</td></tr><tr><td>test_precision_motorcycle</td><td>0</td></tr><tr><td>test_precision_person</td><td>0</td></tr><tr><td>test_precision_pole</td><td>0</td></tr><tr><td>test_precision_rider</td><td>0</td></tr><tr><td>test_precision_road</td><td>0.91937</td></tr><tr><td>test_precision_sidewalk</td><td>0</td></tr><tr><td>test_precision_sky</td><td>0</td></tr><tr><td>test_precision_terrain</td><td>0</td></tr><tr><td>test_precision_traffic_light</td><td>0</td></tr><tr><td>test_precision_traffic_sign</td><td>0</td></tr><tr><td>test_precision_train</td><td>0</td></tr><tr><td>test_precision_truck</td><td>0</td></tr><tr><td>test_precision_unlabelled</td><td>0</td></tr><tr><td>test_precision_vegetation</td><td>0.38652</td></tr><tr><td>test_precision_wall</td><td>0</td></tr><tr><td>test_precision_weighted</td><td>0.43178</td></tr><tr><td>test_recall_building</td><td>0</td></tr><tr><td>test_recall_bus</td><td>0</td></tr><tr><td>test_recall_car</td><td>0</td></tr><tr><td>test_recall_fence</td><td>0</td></tr><tr><td>test_recall_macro</td><td>0.09623</td></tr><tr><td>test_recall_motorcycle</td><td>0</td></tr><tr><td>test_recall_person</td><td>0</td></tr><tr><td>test_recall_pole</td><td>0</td></tr><tr><td>test_recall_rider</td><td>0</td></tr><tr><td>test_recall_road</td><td>0.82846</td></tr><tr><td>test_recall_sidewalk</td><td>0</td></tr><tr><td>test_recall_sky</td><td>0</td></tr><tr><td>test_recall_terrain</td><td>0</td></tr><tr><td>test_recall_traffic_light</td><td>0</td></tr><tr><td>test_recall_traffic_sign</td><td>0</td></tr><tr><td>test_recall_train</td><td>0</td></tr><tr><td>test_recall_truck</td><td>0</td></tr><tr><td>test_recall_unlabelled</td><td>0</td></tr><tr><td>test_recall_vegetation</td><td>1</td></tr><tr><td>test_recall_wall</td><td>0</td></tr><tr><td>test_recall_weighted</td><td>0.5593</td></tr><tr><td>train batch loss</td><td>2.01562</td></tr><tr><td>train epoch loss</td><td>2.08545</td></tr><tr><td>val loss</td><td>2.19531</td></tr></table><br/></div></div>"
            ],
            "text/plain": [
              "<IPython.core.display.HTML object>"
            ]
          },
          "metadata": {},
          "output_type": "display_data"
        },
        {
          "data": {
            "text/html": [
              " View run <strong style=\"color:#cdcd00\">celestial-dream-2</strong> at: <a href='https://wandb.ai/deniskirbaba-team/test_wandb/runs/86m0j6ha' target=\"_blank\">https://wandb.ai/deniskirbaba-team/test_wandb/runs/86m0j6ha</a><br> View project at: <a href='https://wandb.ai/deniskirbaba-team/test_wandb' target=\"_blank\">https://wandb.ai/deniskirbaba-team/test_wandb</a><br>Synced 5 W&B file(s), 0 media file(s), 0 artifact file(s) and 0 other file(s)"
            ],
            "text/plain": [
              "<IPython.core.display.HTML object>"
            ]
          },
          "metadata": {},
          "output_type": "display_data"
        },
        {
          "data": {
            "text/html": [
              "Find logs at: <code>./wandb/run-20250107_215728-86m0j6ha/logs</code>"
            ],
            "text/plain": [
              "<IPython.core.display.HTML object>"
            ]
          },
          "metadata": {},
          "output_type": "display_data"
        }
      ],
      "source": [
        "model = trainer.run_model_pipeline()"
      ]
    },
    {
      "cell_type": "markdown",
      "metadata": {
        "id": "vGe2r6MYyFSV"
      },
      "source": [
        "Всё работает, теперь можно попробовать обучить модель побольше и на большем количестве данных."
      ]
    },
    {
      "cell_type": "markdown",
      "metadata": {
        "id": "uDR3JkHbyFSW"
      },
      "source": [
        "## Experiment 1"
      ]
    },
    {
      "cell_type": "code",
      "execution_count": 15,
      "metadata": {
        "colab": {
          "base_uri": "https://localhost:8080/"
        },
        "id": "sb4KQIVJ4Teh",
        "outputId": "b02df42c-1e65-4657-ff06-22f6af30ff10"
      },
      "outputs": [
        {
          "name": "stderr",
          "output_type": "stream",
          "text": [
            "\u001b[34m\u001b[1mwandb\u001b[0m: \u001b[33mWARNING\u001b[0m If you're specifying your api key in code, ensure this code is not shared publicly.\n",
            "\u001b[34m\u001b[1mwandb\u001b[0m: \u001b[33mWARNING\u001b[0m Consider setting the WANDB_API_KEY environment variable, or running `wandb login` from the command line.\n",
            "\u001b[34m\u001b[1mwandb\u001b[0m: Appending key for api.wandb.ai to your netrc file: /root/.netrc\n"
          ]
        },
        {
          "data": {
            "text/plain": [
              "True"
            ]
          },
          "execution_count": 15,
          "metadata": {},
          "output_type": "execute_result"
        }
      ],
      "source": [
        "# Login into wandb\n",
        "\n",
        "# Local\n",
        "# wandb.login(key=os.getenv(\"WANDB_KEY\"))\n",
        "\n",
        "# Colab\n",
        "wandb.login(key=WANDB_KEY)"
      ]
    },
    {
      "cell_type": "code",
      "execution_count": 23,
      "metadata": {
        "id": "VO77jIxJyFSW"
      },
      "outputs": [],
      "source": [
        "# Define run hyperparameters\n",
        "config = dict(\n",
        "    img_size=(64, 128),\n",
        "    classes=N_CLASSES,\n",
        "    architecture=\"UNet\",\n",
        "    start_channels=8,\n",
        "    depth=2,\n",
        "    epochs=5,\n",
        "    batch_size=256,\n",
        "    learning_rate=1e-3,\n",
        ")"
      ]
    },
    {
      "cell_type": "code",
      "execution_count": 36,
      "metadata": {
        "colab": {
          "base_uri": "https://localhost:8080/"
        },
        "id": "13moP7LkXScx",
        "outputId": "419d6ba5-9b7c-401c-ad9d-84d533086619"
      },
      "outputs": [
        {
          "name": "stdout",
          "output_type": "stream",
          "text": [
            "Found 2975 train images\n",
            "Found 500 val images\n"
          ]
        }
      ],
      "source": [
        "# Init and prepare trainer\n",
        "trainer = Trainer(\n",
        "    config=config,\n",
        "    device=device,\n",
        "    dtype=DTYPE,\n",
        "    ignore_index=IGNORE_INDEX,\n",
        "    idx2name=IDX2NAME,\n",
        "    project_name=\"images_hw_1\",\n",
        "    model_save_folder=Path(\n",
        "        \"/content/drive/MyDrive/AI Talent Hub/Обработка и генерация изображений/images_hw_1/model_checkpoints/experiment_1/\"\n",
        "    ),\n",
        ")\n",
        "trainer.prepare(cityscapes_folder=CITYSCAPES_FOLDER, subset=False, compile=True)"
      ]
    },
    {
      "cell_type": "markdown",
      "metadata": {
        "id": "kJf7VC3KXScy"
      },
      "source": [
        "#### Analyze size of model\n",
        "\n",
        "Batch size tuning happens here"
      ]
    },
    {
      "cell_type": "code",
      "execution_count": 37,
      "metadata": {
        "colab": {
          "base_uri": "https://localhost:8080/"
        },
        "id": "CKCiOVtfXScy",
        "outputId": "23135354-d03e-44fd-acf9-524e92e437ed"
      },
      "outputs": [
        {
          "data": {
            "text/plain": [
              "OptimizedModule(\n",
              "  (_orig_mod): UNet(\n",
              "    (down_blocks): ModuleList(\n",
              "      (0): DoubleConv(\n",
              "        (layer): Sequential(\n",
              "          (0): Conv2d(3, 8, kernel_size=(3, 3), stride=(1, 1), padding=(1, 1))\n",
              "          (1): BatchNorm2d(8, eps=1e-05, momentum=0.1, affine=True, track_running_stats=True)\n",
              "          (2): Hardswish()\n",
              "          (3): Conv2d(8, 8, kernel_size=(3, 3), stride=(1, 1), padding=(1, 1))\n",
              "          (4): BatchNorm2d(8, eps=1e-05, momentum=0.1, affine=True, track_running_stats=True)\n",
              "          (5): Hardswish()\n",
              "        )\n",
              "      )\n",
              "      (1): Sequential(\n",
              "        (0): MaxPool2d(kernel_size=2, stride=2, padding=0, dilation=1, ceil_mode=False)\n",
              "        (1): DoubleConv(\n",
              "          (layer): Sequential(\n",
              "            (0): Conv2d(8, 16, kernel_size=(3, 3), stride=(1, 1), padding=(1, 1))\n",
              "            (1): BatchNorm2d(16, eps=1e-05, momentum=0.1, affine=True, track_running_stats=True)\n",
              "            (2): Hardswish()\n",
              "            (3): Conv2d(16, 16, kernel_size=(3, 3), stride=(1, 1), padding=(1, 1))\n",
              "            (4): BatchNorm2d(16, eps=1e-05, momentum=0.1, affine=True, track_running_stats=True)\n",
              "            (5): Hardswish()\n",
              "          )\n",
              "        )\n",
              "      )\n",
              "      (2): Sequential(\n",
              "        (0): MaxPool2d(kernel_size=2, stride=2, padding=0, dilation=1, ceil_mode=False)\n",
              "        (1): DoubleConv(\n",
              "          (layer): Sequential(\n",
              "            (0): Conv2d(16, 32, kernel_size=(3, 3), stride=(1, 1), padding=(1, 1))\n",
              "            (1): BatchNorm2d(32, eps=1e-05, momentum=0.1, affine=True, track_running_stats=True)\n",
              "            (2): Hardswish()\n",
              "            (3): Conv2d(32, 32, kernel_size=(3, 3), stride=(1, 1), padding=(1, 1))\n",
              "            (4): BatchNorm2d(32, eps=1e-05, momentum=0.1, affine=True, track_running_stats=True)\n",
              "            (5): Hardswish()\n",
              "          )\n",
              "        )\n",
              "      )\n",
              "    )\n",
              "    (bottleneck): Sequential(\n",
              "      (0): MaxPool2d(kernel_size=2, stride=2, padding=0, dilation=1, ceil_mode=False)\n",
              "      (1): DoubleConv(\n",
              "        (layer): Sequential(\n",
              "          (0): Conv2d(32, 64, kernel_size=(3, 3), stride=(1, 1), padding=(1, 1))\n",
              "          (1): BatchNorm2d(64, eps=1e-05, momentum=0.1, affine=True, track_running_stats=True)\n",
              "          (2): Hardswish()\n",
              "          (3): Conv2d(64, 64, kernel_size=(3, 3), stride=(1, 1), padding=(1, 1))\n",
              "          (4): BatchNorm2d(64, eps=1e-05, momentum=0.1, affine=True, track_running_stats=True)\n",
              "          (5): Hardswish()\n",
              "        )\n",
              "      )\n",
              "      (2): ConvTranspose2d(64, 32, kernel_size=(2, 2), stride=(2, 2))\n",
              "    )\n",
              "    (up_blocks): ModuleList(\n",
              "      (0): Sequential(\n",
              "        (0): DoubleConv(\n",
              "          (layer): Sequential(\n",
              "            (0): Conv2d(64, 32, kernel_size=(3, 3), stride=(1, 1), padding=(1, 1))\n",
              "            (1): BatchNorm2d(32, eps=1e-05, momentum=0.1, affine=True, track_running_stats=True)\n",
              "            (2): Hardswish()\n",
              "            (3): Conv2d(32, 32, kernel_size=(3, 3), stride=(1, 1), padding=(1, 1))\n",
              "            (4): BatchNorm2d(32, eps=1e-05, momentum=0.1, affine=True, track_running_stats=True)\n",
              "            (5): Hardswish()\n",
              "          )\n",
              "        )\n",
              "        (1): ConvTranspose2d(32, 16, kernel_size=(2, 2), stride=(2, 2))\n",
              "      )\n",
              "      (1): Sequential(\n",
              "        (0): DoubleConv(\n",
              "          (layer): Sequential(\n",
              "            (0): Conv2d(32, 16, kernel_size=(3, 3), stride=(1, 1), padding=(1, 1))\n",
              "            (1): BatchNorm2d(16, eps=1e-05, momentum=0.1, affine=True, track_running_stats=True)\n",
              "            (2): Hardswish()\n",
              "            (3): Conv2d(16, 16, kernel_size=(3, 3), stride=(1, 1), padding=(1, 1))\n",
              "            (4): BatchNorm2d(16, eps=1e-05, momentum=0.1, affine=True, track_running_stats=True)\n",
              "            (5): Hardswish()\n",
              "          )\n",
              "        )\n",
              "        (1): ConvTranspose2d(16, 8, kernel_size=(2, 2), stride=(2, 2))\n",
              "      )\n",
              "    )\n",
              "    (final_conv): Sequential(\n",
              "      (0): DoubleConv(\n",
              "        (layer): Sequential(\n",
              "          (0): Conv2d(16, 8, kernel_size=(3, 3), stride=(1, 1), padding=(1, 1))\n",
              "          (1): BatchNorm2d(8, eps=1e-05, momentum=0.1, affine=True, track_running_stats=True)\n",
              "          (2): Hardswish()\n",
              "          (3): Conv2d(8, 8, kernel_size=(3, 3), stride=(1, 1), padding=(1, 1))\n",
              "          (4): BatchNorm2d(8, eps=1e-05, momentum=0.1, affine=True, track_running_stats=True)\n",
              "          (5): Hardswish()\n",
              "        )\n",
              "      )\n",
              "      (1): Conv2d(8, 19, kernel_size=(1, 1), stride=(1, 1))\n",
              "    )\n",
              "  )\n",
              ")"
            ]
          },
          "execution_count": 37,
          "metadata": {},
          "output_type": "execute_result"
        }
      ],
      "source": [
        "trainer.model"
      ]
    },
    {
      "cell_type": "code",
      "execution_count": 38,
      "metadata": {
        "colab": {
          "base_uri": "https://localhost:8080/"
        },
        "id": "_7W324B5XScy",
        "outputId": "3ef86332-8360-4e45-e0e0-c9d56b0f4507"
      },
      "outputs": [
        {
          "data": {
            "text/plain": [
              "====================================================================================================\n",
              "Layer (type:depth-idx)                             Output Shape              Param #\n",
              "====================================================================================================\n",
              "OptimizedModule                                    [256, 19, 64, 128]        --\n",
              "├─UNet: 1-1                                        [256, 19, 64, 128]        --\n",
              "│    └─ModuleList: 2-1                             --                        --\n",
              "│    │    └─DoubleConv: 3-1                        [256, 8, 64, 128]         840\n",
              "│    │    └─Sequential: 3-2                        [256, 16, 32, 64]         3,552\n",
              "│    │    └─Sequential: 3-3                        [256, 32, 16, 32]         14,016\n",
              "│    └─Sequential: 2-2                             [256, 32, 16, 32]         --\n",
              "│    │    └─MaxPool2d: 3-4                         [256, 32, 8, 16]          --\n",
              "│    │    └─DoubleConv: 3-5                        [256, 64, 8, 16]          55,680\n",
              "│    │    └─ConvTranspose2d: 3-6                   [256, 32, 16, 32]         8,224\n",
              "│    └─ModuleList: 2-3                             --                        --\n",
              "│    │    └─Sequential: 3-7                        [256, 16, 32, 64]         29,904\n",
              "│    │    └─Sequential: 3-8                        [256, 8, 64, 128]         7,528\n",
              "│    └─Sequential: 2-4                             [256, 19, 64, 128]        --\n",
              "│    │    └─DoubleConv: 3-9                        [256, 8, 64, 128]         1,776\n",
              "│    │    └─Conv2d: 3-10                           [256, 19, 64, 128]        171\n",
              "====================================================================================================\n",
              "Total params: 121,691\n",
              "Trainable params: 121,691\n",
              "Non-trainable params: 0\n",
              "Total mult-adds (G): 21.70\n",
              "====================================================================================================\n",
              "Input size (MB): 12.58\n",
              "Forward/backward pass size (MB): 1249.90\n",
              "Params size (MB): 0.24\n",
              "Estimated Total Size (MB): 1262.73\n",
              "===================================================================================================="
            ]
          },
          "execution_count": 38,
          "metadata": {},
          "output_type": "execute_result"
        }
      ],
      "source": [
        "summary(\n",
        "    trainer.model,\n",
        "    input_data=torch.zeros(\n",
        "        size=(config[\"batch_size\"], 3, *config[\"img_size\"]), dtype=DTYPE, device=device\n",
        "    ),\n",
        "    mode=\"train\",\n",
        ")"
      ]
    },
    {
      "cell_type": "markdown",
      "metadata": {
        "id": "7BY9hd6zz8d6"
      },
      "source": [
        "#### Run pipeline"
      ]
    },
    {
      "cell_type": "code",
      "execution_count": 39,
      "metadata": {
        "colab": {
          "base_uri": "https://localhost:8080/",
          "height": 1000,
          "referenced_widgets": [
            "c4c1cf2881ce466fa100bcba0a1829cb",
            "38ff8c9f6ba145979f0798f3116c6b77",
            "30d08e20e6b644179e649140fbf8a7fd",
            "b783c783b43e4af998c951bd8e8364c5",
            "d00cb89c3f7b406e9e3aef90acfd95dd",
            "e2e5a835f8d049849fdfe49112a7ae59",
            "2970fa08c5ac4562a3178cbc81063c4b",
            "6111c3d4448649a9a9bd875b22d0a9b2",
            "00e58fc0878942038ffca2acf8e8da81",
            "110c867cea9a4480a5bb54a5d1d412d1",
            "99eec12ad3d0454780fa1e7ffe930e49",
            "a2cbef01cb1a4c7383099b28c4f73ce8",
            "e3dca4e521784d6fab3365c278284e00",
            "fc9b9508d37c48788039881126c7707c",
            "c65d9d00cf1b4e24b3d728baa182351a",
            "b29f8ca75c5a4cf19060ac7b8d137185",
            "cc79a372fe604425a23a4c4b2b3605a8",
            "18031859daaa478597e9aa768699ccfd",
            "f764217061c94629873aec89afcb348c",
            "19138def881a4f4fbc4dbe70d3d26e02",
            "bb4193250bdd4fa4804ff786f9befe3e",
            "cb310e1d9b004adfb322d5b4da83520e",
            "c102379c254744479380203b3db11765",
            "7b0949cdb6e64eba9ac230e8e980103e",
            "c0bb4ed91c034201a130b4011fd01ba9",
            "2605da4e1e7c432aa80f2fc56286be9d",
            "e2bcf8272d1a4925bc5eecb4f813f915",
            "2209b0f97bd84eab99894db288a7a4be",
            "af9bd42e7a474a75a26deaac652fe637",
            "5d67ed086d6a43ce9af29026e08cd0e1",
            "4195e1e9b8654d7088f950255d13bee1",
            "7f89049c5dea413ba3d43e455cc9f641",
            "c0ade80dba4c40e1b9a9bf5f4b351819",
            "e322bff273e04097a36d7506b3e2ee26",
            "8e86174a7fe34b568021672335f2c219",
            "351c9582336547d988b4e271a9932b4d",
            "f6e167ee10e64e1da3845936d6131be2",
            "b1845572f83d49fdb37a6ed615b7dca7",
            "ead128328837462e81aab9d328c46980",
            "aab8c3aaab664cd58765609e1753800d",
            "b390a2425fda4179afebf35f550ea1c8",
            "6ec6da1785e24b3db64b203d0ec5aaee",
            "6a485409a965492eaab88d343ed7d1af",
            "0f7b3412a11b48b1afae27fc739ae8d4",
            "07435f1674a049a8ba480c633e94a1ae",
            "c3100bbc7e634cc29647ccb2a09e1634",
            "e39afeac35b34f68afb7b3e99d717a36",
            "bb9ce75679544a13a69d314ff27c9e6b",
            "7fb1621d67d84cdba841cd2069959f29",
            "9a0c10b2be5c49b09a7d28224044159a",
            "ac5ac05377d54b589c3c796a1c2c664d",
            "60ff446c7fb74b988c594a477903e9e2",
            "d1de083a8fdd4c9a9d56f6a76d633ff1",
            "2aaed83574d9440ab741cdc7aeafb18a",
            "ca56a3a0390142c7bf7aa9e57778db74",
            "7ca81bbf3e6649b0baa1e1e1814e3934",
            "da4583b6060344c59b11783398b796a6",
            "350abe90b10247c08edd20676cdbb08d",
            "6bede7203b9d4ebda95aafb32908a1b0",
            "18eeb743436d4dcd8da07d7aadc92b57",
            "d844f6c22c4d4d729bc5fb7d2c683c89",
            "83e5bddc93114f2fac536333e5687fbb",
            "6818929fd80a4ed5a006f7abc855b32e",
            "dfe12585e5f0476aae7f84043711a2d7",
            "a127dac85ceb4c26a216e598ca51b8ee",
            "c73194577bc24307b72144fe948197e6",
            "158429d27bb7471ea7c54de5b9a6de56",
            "e5c4ab02ad314154a673645d73893557",
            "729f4d25fe724bfa8be239b67975c6cd",
            "614a3b4d3c4748ac8590a9f17a1535e9",
            "cceb4104f6514264a5e50fe3d1984f08",
            "97ec0b087543498e8653ab2923cc5c0a",
            "9661f78031634227a7ad0e2fa4875cc8",
            "233fe2fc05be452bbb618cb276c2567c",
            "aefd4e84909440bd91ea32c357c8ca65",
            "2063a3139a51474297327c6736897460",
            "984fa47a0c8d45f9bffa73105ee7fb9e",
            "016fc5730bc648d8be6b4fbd26212b31",
            "e8592400a7a54abcbed7767ec9d4abaf",
            "1fd98694880c46e8965982e4c85fb76c",
            "1441aea063c44682aae7fc52c0836f30",
            "10d7840b3b114665acbea5c5877b7c4b",
            "59413fef114243938888d47771182677",
            "0a7ce0b086ea40719d58621c5c298738",
            "cd0ecb955a4d4aab93b5ba9eeaa20eed",
            "b2c3daebc4e74ffc9653542741e97d04",
            "113e419d37aa422c8bdd3e568dbacdc4",
            "f9ca5631d57c4388a30d07dda96fa84a",
            "5a3057e1579c4705aa63531a4287b53d",
            "eefd08676d8d42c7ac44bbe87309316e",
            "58962c3823bb45d9a7e961cedc2db1ae",
            "da7f87a273d849be9389e1d64f389d2e",
            "0db1886585ad4e0cab8737438c6784d7",
            "8aaece6ef7c94b7fbd0116ce7ca09503",
            "fbe546b4d7d746a9bee015b0f65e048b",
            "4d5855b7e4d04feda09150d6b453c64f",
            "d2868c0eb6fc40f394d2fc472e9c774d",
            "0927a71a758a418c877af2e858100ddf",
            "c24ba3a8a53e477eb91d8e2107ff13c6",
            "2057f2d7a5f247858d37b8a3990338eb",
            "4f70f1754b2f4f15aa2f6aa8f8ebba4d",
            "609a47edbb4f4dbb922a0a809973a5b2",
            "1b7d50871fe64c0d842d2ad2f98e5f1c",
            "516b2f3ede0641e8b2a696404d4a54a5",
            "9f125b8b2b7245d2970e785cf9ad35de",
            "4cb49a03d1f345ad8b7427f8a54e6dc8",
            "95be1f3de78b4950bb91cc604ed42e5e",
            "c2bc91a1f7d24d1481dfd94e965fc9a2",
            "0a569c944dfe4b58a42b7d1bebfbede3",
            "23c51269c172463da7420b70ef0d8834",
            "15cf879444484f6e8fac499287d1c668",
            "ebb9f4595db4416e8e0823af8376c662",
            "28ca243f4317479aa12c21351228d4ba",
            "bc198c956789486999a3e31caee5c6f9",
            "35c047ac26cb46d7837b8c55039ace01",
            "c196002e72234e66ac145a078ffd3b57",
            "1d86ec2dd55d40b7a2b8fd830908e48e",
            "9c6edfb20bb84484812d604409c8f214",
            "db66ffe5ddc746569c70cb277981a558",
            "8c519e082cfb4fb08985dabf064e12aa",
            "96f566abf65148cba0f0d7236ebbcb34",
            "a472a484ba274520a1211fa1ddfddf46",
            "143d4e20485340e3bf0f33a96040138d",
            "3341715df3c541de959df2242a673354",
            "8c60a0fcceca4b03bbc7dbde99599fad",
            "bd971207d9f7467cae7d858c61f1ee78",
            "6684bdedafdf47db8f1788c8b21aa2b6",
            "039a52c88d894a7898ca94cc1ce490a8",
            "511168f538a24a91b6950d7047fdb18d",
            "d1c27a9a5cb74731927202d8ef7d3440",
            "cfcd1460588a4ed3b233f99497067dd1",
            "d8e557772ef64bca8b88eb137114a90f"
          ]
        },
        "id": "6PgvgRR1XScz",
        "outputId": "9e0c450b-831e-4917-a0a0-93573452d377"
      },
      "outputs": [
        {
          "data": {
            "text/html": [
              "Tracking run with wandb version 0.19.1"
            ],
            "text/plain": [
              "<IPython.core.display.HTML object>"
            ]
          },
          "metadata": {},
          "output_type": "display_data"
        },
        {
          "data": {
            "text/html": [
              "Run data is saved locally in <code>/content/wandb/run-20250107_220359-heegwtrm</code>"
            ],
            "text/plain": [
              "<IPython.core.display.HTML object>"
            ]
          },
          "metadata": {},
          "output_type": "display_data"
        },
        {
          "data": {
            "text/html": [
              "Syncing run <strong><a href='https://wandb.ai/deniskirbaba-team/images_hw_1/runs/heegwtrm' target=\"_blank\">worldly-water-3</a></strong> to <a href='https://wandb.ai/deniskirbaba-team/images_hw_1' target=\"_blank\">Weights & Biases</a> (<a href='https://wandb.me/developer-guide' target=\"_blank\">docs</a>)<br>"
            ],
            "text/plain": [
              "<IPython.core.display.HTML object>"
            ]
          },
          "metadata": {},
          "output_type": "display_data"
        },
        {
          "data": {
            "text/html": [
              " View project at <a href='https://wandb.ai/deniskirbaba-team/images_hw_1' target=\"_blank\">https://wandb.ai/deniskirbaba-team/images_hw_1</a>"
            ],
            "text/plain": [
              "<IPython.core.display.HTML object>"
            ]
          },
          "metadata": {},
          "output_type": "display_data"
        },
        {
          "data": {
            "text/html": [
              " View run at <a href='https://wandb.ai/deniskirbaba-team/images_hw_1/runs/heegwtrm' target=\"_blank\">https://wandb.ai/deniskirbaba-team/images_hw_1/runs/heegwtrm</a>"
            ],
            "text/plain": [
              "<IPython.core.display.HTML object>"
            ]
          },
          "metadata": {},
          "output_type": "display_data"
        },
        {
          "data": {
            "application/vnd.jupyter.widget-view+json": {
              "model_id": "c4c1cf2881ce466fa100bcba0a1829cb",
              "version_major": 2,
              "version_minor": 0
            },
            "text/plain": [
              "Epochs:   0%|          | 0/5 [00:00<?, ?it/s]"
            ]
          },
          "metadata": {},
          "output_type": "display_data"
        },
        {
          "data": {
            "application/vnd.jupyter.widget-view+json": {
              "model_id": "a2cbef01cb1a4c7383099b28c4f73ce8",
              "version_major": 2,
              "version_minor": 0
            },
            "text/plain": [
              "Training:   0%|          | 0/12 [00:00<?, ?it/s]"
            ]
          },
          "metadata": {},
          "output_type": "display_data"
        },
        {
          "data": {
            "application/vnd.jupyter.widget-view+json": {
              "model_id": "c102379c254744479380203b3db11765",
              "version_major": 2,
              "version_minor": 0
            },
            "text/plain": [
              "Validation:   0%|          | 0/1 [00:00<?, ?it/s]"
            ]
          },
          "metadata": {},
          "output_type": "display_data"
        },
        {
          "data": {
            "application/vnd.jupyter.widget-view+json": {
              "model_id": "e322bff273e04097a36d7506b3e2ee26",
              "version_major": 2,
              "version_minor": 0
            },
            "text/plain": [
              "Training:   0%|          | 0/12 [00:00<?, ?it/s]"
            ]
          },
          "metadata": {},
          "output_type": "display_data"
        },
        {
          "data": {
            "application/vnd.jupyter.widget-view+json": {
              "model_id": "07435f1674a049a8ba480c633e94a1ae",
              "version_major": 2,
              "version_minor": 0
            },
            "text/plain": [
              "Validation:   0%|          | 0/1 [00:00<?, ?it/s]"
            ]
          },
          "metadata": {},
          "output_type": "display_data"
        },
        {
          "data": {
            "application/vnd.jupyter.widget-view+json": {
              "model_id": "7ca81bbf3e6649b0baa1e1e1814e3934",
              "version_major": 2,
              "version_minor": 0
            },
            "text/plain": [
              "Training:   0%|          | 0/12 [00:00<?, ?it/s]"
            ]
          },
          "metadata": {},
          "output_type": "display_data"
        },
        {
          "data": {
            "application/vnd.jupyter.widget-view+json": {
              "model_id": "158429d27bb7471ea7c54de5b9a6de56",
              "version_major": 2,
              "version_minor": 0
            },
            "text/plain": [
              "Validation:   0%|          | 0/1 [00:00<?, ?it/s]"
            ]
          },
          "metadata": {},
          "output_type": "display_data"
        },
        {
          "data": {
            "application/vnd.jupyter.widget-view+json": {
              "model_id": "016fc5730bc648d8be6b4fbd26212b31",
              "version_major": 2,
              "version_minor": 0
            },
            "text/plain": [
              "Training:   0%|          | 0/12 [00:00<?, ?it/s]"
            ]
          },
          "metadata": {},
          "output_type": "display_data"
        },
        {
          "data": {
            "application/vnd.jupyter.widget-view+json": {
              "model_id": "5a3057e1579c4705aa63531a4287b53d",
              "version_major": 2,
              "version_minor": 0
            },
            "text/plain": [
              "Validation:   0%|          | 0/1 [00:00<?, ?it/s]"
            ]
          },
          "metadata": {},
          "output_type": "display_data"
        },
        {
          "data": {
            "application/vnd.jupyter.widget-view+json": {
              "model_id": "2057f2d7a5f247858d37b8a3990338eb",
              "version_major": 2,
              "version_minor": 0
            },
            "text/plain": [
              "Training:   0%|          | 0/12 [00:00<?, ?it/s]"
            ]
          },
          "metadata": {},
          "output_type": "display_data"
        },
        {
          "data": {
            "application/vnd.jupyter.widget-view+json": {
              "model_id": "15cf879444484f6e8fac499287d1c668",
              "version_major": 2,
              "version_minor": 0
            },
            "text/plain": [
              "Validation:   0%|          | 0/1 [00:00<?, ?it/s]"
            ]
          },
          "metadata": {},
          "output_type": "display_data"
        },
        {
          "data": {
            "application/vnd.jupyter.widget-view+json": {
              "model_id": "a472a484ba274520a1211fa1ddfddf46",
              "version_major": 2,
              "version_minor": 0
            },
            "text/plain": [
              "Test:   0%|          | 0/1 [00:00<?, ?it/s]"
            ]
          },
          "metadata": {},
          "output_type": "display_data"
        },
        {
          "data": {
            "text/html": [],
            "text/plain": [
              "<IPython.core.display.HTML object>"
            ]
          },
          "metadata": {},
          "output_type": "display_data"
        },
        {
          "data": {
            "text/html": [
              "<br>    <style><br>        .wandb-row {<br>            display: flex;<br>            flex-direction: row;<br>            flex-wrap: wrap;<br>            justify-content: flex-start;<br>            width: 100%;<br>        }<br>        .wandb-col {<br>            display: flex;<br>            flex-direction: column;<br>            flex-basis: 100%;<br>            flex: 1;<br>            padding: 10px;<br>        }<br>    </style><br><div class=\"wandb-row\"><div class=\"wandb-col\"><h3>Run history:</h3><br/><table class=\"wandb\"><tr><td>dice_avg</td><td>▁▄▇██</td></tr><tr><td>dice_building</td><td>▁▂▇██</td></tr><tr><td>dice_bus</td><td>▇▆█▂▁</td></tr><tr><td>dice_car</td><td>▁▁▂▆█</td></tr><tr><td>dice_fence</td><td>▃▂█▆▁</td></tr><tr><td>dice_motorcycle</td><td>▁█▁▁▁</td></tr><tr><td>dice_person</td><td>▁▁▁▁▁</td></tr><tr><td>dice_pole</td><td>▁▃█▂▁</td></tr><tr><td>dice_rider</td><td>▁▁▁▁▁</td></tr><tr><td>dice_road</td><td>▁▇███</td></tr><tr><td>dice_sidewalk</td><td>▁▃▅██</td></tr><tr><td>dice_sky</td><td>▁▂▃▆█</td></tr><tr><td>dice_terrain</td><td>▁▁▁▁▁</td></tr><tr><td>dice_traffic_light</td><td>▁█▁▁▁</td></tr><tr><td>dice_traffic_sign</td><td>▁▃█▁▁</td></tr><tr><td>dice_train</td><td>▁▁▁▁▁</td></tr><tr><td>dice_truck</td><td>▁▂▆▇█</td></tr><tr><td>dice_unlabelled</td><td>▁▁▁▁▁</td></tr><tr><td>dice_vegetation</td><td>▁▄▇██</td></tr><tr><td>dice_wall</td><td>▁▁▁▁▁</td></tr><tr><td>epoch</td><td>▁▁▁▁▁▁▃▃▃▃▃▃▅▅▅▅▅▅▆▆▆▆▆▆██████</td></tr><tr><td>f1_avg</td><td>▁▄▇██</td></tr><tr><td>f1_building</td><td>▁▂▇██</td></tr><tr><td>f1_bus</td><td>▇▆█▂▁</td></tr><tr><td>f1_car</td><td>▁▁▂▆█</td></tr><tr><td>f1_fence</td><td>▃▂█▆▁</td></tr><tr><td>f1_motorcycle</td><td>▁█▁▁▁</td></tr><tr><td>f1_person</td><td>▁▁▁▁▁</td></tr><tr><td>f1_pole</td><td>▁▃█▂▁</td></tr><tr><td>f1_rider</td><td>▁▁▁▁▁</td></tr><tr><td>f1_road</td><td>▁▇███</td></tr><tr><td>f1_sidewalk</td><td>▁▃▅██</td></tr><tr><td>f1_sky</td><td>▁▂▃▆█</td></tr><tr><td>f1_terrain</td><td>▁▁▁▁▁</td></tr><tr><td>f1_traffic_light</td><td>▁█▁▁▁</td></tr><tr><td>f1_traffic_sign</td><td>▁▃█▁▁</td></tr><tr><td>f1_train</td><td>▁▁▁▁▁</td></tr><tr><td>f1_truck</td><td>▁▂▆▇█</td></tr><tr><td>f1_unlabelled</td><td>▁▁▁▁▁</td></tr><tr><td>f1_vegetation</td><td>▁▄▇██</td></tr><tr><td>f1_wall</td><td>▁▁▁▁▁</td></tr><tr><td>precision_building</td><td>▁▄███</td></tr><tr><td>precision_bus</td><td>▁▄▆█▁</td></tr><tr><td>precision_car</td><td>▆▁▆█▇</td></tr><tr><td>precision_fence</td><td>▃▁▇██</td></tr><tr><td>precision_macro</td><td>▁▅▇██</td></tr><tr><td>precision_motorcycle</td><td>▁█▁▁▁</td></tr><tr><td>precision_person</td><td>▁▁▁▁▁</td></tr><tr><td>precision_pole</td><td>▁█▄▃▁</td></tr><tr><td>precision_rider</td><td>▁▁▁▁▁</td></tr><tr><td>precision_road</td><td>▁▆███</td></tr><tr><td>precision_sidewalk</td><td>▁▁▆█▆</td></tr><tr><td>precision_sky</td><td>▇█▁▄▇</td></tr><tr><td>precision_terrain</td><td>▁▁▁▁▁</td></tr><tr><td>precision_traffic_light</td><td>▁█▁▁▁</td></tr><tr><td>precision_traffic_sign</td><td>▁▂█▁▁</td></tr><tr><td>precision_train</td><td>▁▁▁▁▁</td></tr><tr><td>precision_truck</td><td>▁▂▆▇█</td></tr><tr><td>precision_unlabelled</td><td>▁▁▁▁▁</td></tr><tr><td>precision_vegetation</td><td>▁█▇▆▇</td></tr><tr><td>precision_wall</td><td>▁▁▁▁▁</td></tr><tr><td>precision_weighted</td><td>▁▆███</td></tr><tr><td>recall_building</td><td>▁▁▆▇█</td></tr><tr><td>recall_bus</td><td>█▂▂▁▁</td></tr><tr><td>recall_car</td><td>▁▁▂▆█</td></tr><tr><td>recall_fence</td><td>▃█▆▄▁</td></tr><tr><td>recall_macro</td><td>▁▃▇██</td></tr><tr><td>recall_motorcycle</td><td>▁█▁▁▁</td></tr><tr><td>recall_person</td><td>▁▁▁▁▁</td></tr><tr><td>recall_pole</td><td>▁▃█▂▁</td></tr><tr><td>recall_rider</td><td>▁▁▁▁▁</td></tr><tr><td>recall_road</td><td>▁████</td></tr><tr><td>recall_sidewalk</td><td>▁▃▄▇█</td></tr><tr><td>recall_sky</td><td>▁▂██▇</td></tr><tr><td>recall_terrain</td><td>▁▁▁▁▁</td></tr><tr><td>recall_traffic_light</td><td>▁█▁▁▁</td></tr><tr><td>recall_traffic_sign</td><td>▁▃█▁▁</td></tr><tr><td>recall_train</td><td>▁▁▁▁▁</td></tr><tr><td>recall_truck</td><td>█▁▁▁▁</td></tr><tr><td>recall_unlabelled</td><td>▁▁▁▁▁</td></tr><tr><td>recall_vegetation</td><td>▁▂▆█▇</td></tr><tr><td>recall_wall</td><td>▁▁▁▁▁</td></tr><tr><td>recall_weighted</td><td>▁▅▇██</td></tr><tr><td>test_dice_avg</td><td>▁</td></tr><tr><td>test_dice_building</td><td>▁</td></tr><tr><td>test_dice_bus</td><td>▁</td></tr><tr><td>test_dice_car</td><td>▁</td></tr><tr><td>test_dice_fence</td><td>▁</td></tr><tr><td>test_dice_motorcycle</td><td>▁</td></tr><tr><td>test_dice_person</td><td>▁</td></tr><tr><td>test_dice_pole</td><td>▁</td></tr><tr><td>test_dice_rider</td><td>▁</td></tr><tr><td>test_dice_road</td><td>▁</td></tr><tr><td>test_dice_sidewalk</td><td>▁</td></tr><tr><td>test_dice_sky</td><td>▁</td></tr><tr><td>test_dice_terrain</td><td>▁</td></tr><tr><td>test_dice_traffic_light</td><td>▁</td></tr><tr><td>test_dice_traffic_sign</td><td>▁</td></tr><tr><td>test_dice_train</td><td>▁</td></tr><tr><td>test_dice_truck</td><td>▁</td></tr><tr><td>test_dice_unlabelled</td><td>▁</td></tr><tr><td>test_dice_vegetation</td><td>▁</td></tr><tr><td>test_dice_wall</td><td>▁</td></tr><tr><td>test_f1_avg</td><td>▁</td></tr><tr><td>test_f1_building</td><td>▁</td></tr><tr><td>test_f1_bus</td><td>▁</td></tr><tr><td>test_f1_car</td><td>▁</td></tr><tr><td>test_f1_fence</td><td>▁</td></tr><tr><td>test_f1_motorcycle</td><td>▁</td></tr><tr><td>test_f1_person</td><td>▁</td></tr><tr><td>test_f1_pole</td><td>▁</td></tr><tr><td>test_f1_rider</td><td>▁</td></tr><tr><td>test_f1_road</td><td>▁</td></tr><tr><td>test_f1_sidewalk</td><td>▁</td></tr><tr><td>test_f1_sky</td><td>▁</td></tr><tr><td>test_f1_terrain</td><td>▁</td></tr><tr><td>test_f1_traffic_light</td><td>▁</td></tr><tr><td>test_f1_traffic_sign</td><td>▁</td></tr><tr><td>test_f1_train</td><td>▁</td></tr><tr><td>test_f1_truck</td><td>▁</td></tr><tr><td>test_f1_unlabelled</td><td>▁</td></tr><tr><td>test_f1_vegetation</td><td>▁</td></tr><tr><td>test_f1_wall</td><td>▁</td></tr><tr><td>test_precision_building</td><td>▁</td></tr><tr><td>test_precision_bus</td><td>▁</td></tr><tr><td>test_precision_car</td><td>▁</td></tr><tr><td>test_precision_fence</td><td>▁</td></tr><tr><td>test_precision_macro</td><td>▁</td></tr><tr><td>test_precision_motorcycle</td><td>▁</td></tr><tr><td>test_precision_person</td><td>▁</td></tr><tr><td>test_precision_pole</td><td>▁</td></tr><tr><td>test_precision_rider</td><td>▁</td></tr><tr><td>test_precision_road</td><td>▁</td></tr><tr><td>test_precision_sidewalk</td><td>▁</td></tr><tr><td>test_precision_sky</td><td>▁</td></tr><tr><td>test_precision_terrain</td><td>▁</td></tr><tr><td>test_precision_traffic_light</td><td>▁</td></tr><tr><td>test_precision_traffic_sign</td><td>▁</td></tr><tr><td>test_precision_train</td><td>▁</td></tr><tr><td>test_precision_truck</td><td>▁</td></tr><tr><td>test_precision_unlabelled</td><td>▁</td></tr><tr><td>test_precision_vegetation</td><td>▁</td></tr><tr><td>test_precision_wall</td><td>▁</td></tr><tr><td>test_precision_weighted</td><td>▁</td></tr><tr><td>test_recall_building</td><td>▁</td></tr><tr><td>test_recall_bus</td><td>▁</td></tr><tr><td>test_recall_car</td><td>▁</td></tr><tr><td>test_recall_fence</td><td>▁</td></tr><tr><td>test_recall_macro</td><td>▁</td></tr><tr><td>test_recall_motorcycle</td><td>▁</td></tr><tr><td>test_recall_person</td><td>▁</td></tr><tr><td>test_recall_pole</td><td>▁</td></tr><tr><td>test_recall_rider</td><td>▁</td></tr><tr><td>test_recall_road</td><td>▁</td></tr><tr><td>test_recall_sidewalk</td><td>▁</td></tr><tr><td>test_recall_sky</td><td>▁</td></tr><tr><td>test_recall_terrain</td><td>▁</td></tr><tr><td>test_recall_traffic_light</td><td>▁</td></tr><tr><td>test_recall_traffic_sign</td><td>▁</td></tr><tr><td>test_recall_train</td><td>▁</td></tr><tr><td>test_recall_truck</td><td>▁</td></tr><tr><td>test_recall_unlabelled</td><td>▁</td></tr><tr><td>test_recall_vegetation</td><td>▁</td></tr><tr><td>test_recall_wall</td><td>▁</td></tr><tr><td>test_recall_weighted</td><td>▁</td></tr><tr><td>train batch loss</td><td>█▇▇▆▆▅▄▄▃▃▂▃▂▂▂▂▂▂▁▁▁▁▁▂▁▁▁▁▁▁</td></tr><tr><td>train epoch loss</td><td>█▄▂▁▁</td></tr><tr><td>val loss</td><td>█▃▁▁▁</td></tr></table><br/></div><div class=\"wandb-col\"><h3>Run summary:</h3><br/><table class=\"wandb\"><tr><td>dice_avg</td><td>0.17204</td></tr><tr><td>dice_building</td><td>0.74201</td></tr><tr><td>dice_bus</td><td>0</td></tr><tr><td>dice_car</td><td>0.02158</td></tr><tr><td>dice_fence</td><td>0.01713</td></tr><tr><td>dice_motorcycle</td><td>0</td></tr><tr><td>dice_person</td><td>0</td></tr><tr><td>dice_pole</td><td>0</td></tr><tr><td>dice_rider</td><td>0</td></tr><tr><td>dice_road</td><td>0.88321</td></tr><tr><td>dice_sidewalk</td><td>0.07717</td></tr><tr><td>dice_sky</td><td>0.78589</td></tr><tr><td>dice_terrain</td><td>0</td></tr><tr><td>dice_traffic_light</td><td>0</td></tr><tr><td>dice_traffic_sign</td><td>0</td></tr><tr><td>dice_train</td><td>0</td></tr><tr><td>dice_truck</td><td>0.01767</td></tr><tr><td>dice_unlabelled</td><td>0</td></tr><tr><td>dice_vegetation</td><td>0.72408</td></tr><tr><td>dice_wall</td><td>0</td></tr><tr><td>epoch</td><td>4</td></tr><tr><td>f1_avg</td><td>0.17204</td></tr><tr><td>f1_building</td><td>0.74201</td></tr><tr><td>f1_bus</td><td>0</td></tr><tr><td>f1_car</td><td>0.02158</td></tr><tr><td>f1_fence</td><td>0.01713</td></tr><tr><td>f1_motorcycle</td><td>0</td></tr><tr><td>f1_person</td><td>0</td></tr><tr><td>f1_pole</td><td>0</td></tr><tr><td>f1_rider</td><td>0</td></tr><tr><td>f1_road</td><td>0.88321</td></tr><tr><td>f1_sidewalk</td><td>0.07717</td></tr><tr><td>f1_sky</td><td>0.78589</td></tr><tr><td>f1_terrain</td><td>0</td></tr><tr><td>f1_traffic_light</td><td>0</td></tr><tr><td>f1_traffic_sign</td><td>0</td></tr><tr><td>f1_train</td><td>0</td></tr><tr><td>f1_truck</td><td>0.01767</td></tr><tr><td>f1_unlabelled</td><td>0</td></tr><tr><td>f1_vegetation</td><td>0.72408</td></tr><tr><td>f1_wall</td><td>0</td></tr><tr><td>precision_building</td><td>0.62742</td></tr><tr><td>precision_bus</td><td>0</td></tr><tr><td>precision_car</td><td>0.42181</td></tr><tr><td>precision_fence</td><td>0.05463</td></tr><tr><td>precision_macro</td><td>0.19193</td></tr><tr><td>precision_motorcycle</td><td>0</td></tr><tr><td>precision_person</td><td>0</td></tr><tr><td>precision_pole</td><td>0</td></tr><tr><td>precision_rider</td><td>0</td></tr><tr><td>precision_road</td><td>0.80154</td></tr><tr><td>precision_sidewalk</td><td>0.19519</td></tr><tr><td>precision_sky</td><td>0.71421</td></tr><tr><td>precision_terrain</td><td>0</td></tr><tr><td>precision_traffic_light</td><td>0</td></tr><tr><td>precision_traffic_sign</td><td>0</td></tr><tr><td>precision_train</td><td>0</td></tr><tr><td>precision_truck</td><td>0.00952</td></tr><tr><td>precision_unlabelled</td><td>0</td></tr><tr><td>precision_vegetation</td><td>0.82239</td></tr><tr><td>precision_wall</td><td>0</td></tr><tr><td>precision_weighted</td><td>0.63395</td></tr><tr><td>recall_building</td><td>0.9078</td></tr><tr><td>recall_bus</td><td>0</td></tr><tr><td>recall_car</td><td>0.01107</td></tr><tr><td>recall_fence</td><td>0.01015</td></tr><tr><td>recall_macro</td><td>0.18967</td></tr><tr><td>recall_motorcycle</td><td>0</td></tr><tr><td>recall_person</td><td>0</td></tr><tr><td>recall_pole</td><td>0</td></tr><tr><td>recall_rider</td><td>0</td></tr><tr><td>recall_road</td><td>0.98341</td></tr><tr><td>recall_sidewalk</td><td>0.0481</td></tr><tr><td>recall_sky</td><td>0.87356</td></tr><tr><td>recall_terrain</td><td>0</td></tr><tr><td>recall_traffic_light</td><td>0</td></tr><tr><td>recall_traffic_sign</td><td>0</td></tr><tr><td>recall_train</td><td>0</td></tr><tr><td>recall_truck</td><td>0.12289</td></tr><tr><td>recall_unlabelled</td><td>0</td></tr><tr><td>recall_vegetation</td><td>0.64676</td></tr><tr><td>recall_wall</td><td>0</td></tr><tr><td>recall_weighted</td><td>0.70693</td></tr><tr><td>test_dice_avg</td><td>0.18089</td></tr><tr><td>test_dice_building</td><td>0.81107</td></tr><tr><td>test_dice_bus</td><td>0</td></tr><tr><td>test_dice_car</td><td>0.02045</td></tr><tr><td>test_dice_fence</td><td>0.00208</td></tr><tr><td>test_dice_motorcycle</td><td>0</td></tr><tr><td>test_dice_person</td><td>0</td></tr><tr><td>test_dice_pole</td><td>0.0001</td></tr><tr><td>test_dice_rider</td><td>0</td></tr><tr><td>test_dice_road</td><td>0.87063</td></tr><tr><td>test_dice_sidewalk</td><td>0.05485</td></tr><tr><td>test_dice_sky</td><td>0.82288</td></tr><tr><td>test_dice_terrain</td><td>0</td></tr><tr><td>test_dice_traffic_light</td><td>0</td></tr><tr><td>test_dice_traffic_sign</td><td>0</td></tr><tr><td>test_dice_train</td><td>0</td></tr><tr><td>test_dice_truck</td><td>0.03326</td></tr><tr><td>test_dice_unlabelled</td><td>0</td></tr><tr><td>test_dice_vegetation</td><td>0.82164</td></tr><tr><td>test_dice_wall</td><td>0</td></tr><tr><td>test_f1_avg</td><td>0.18089</td></tr><tr><td>test_f1_building</td><td>0.81107</td></tr><tr><td>test_f1_bus</td><td>0</td></tr><tr><td>test_f1_car</td><td>0.02045</td></tr><tr><td>test_f1_fence</td><td>0.00208</td></tr><tr><td>test_f1_motorcycle</td><td>0</td></tr><tr><td>test_f1_person</td><td>0</td></tr><tr><td>test_f1_pole</td><td>0.0001</td></tr><tr><td>test_f1_rider</td><td>0</td></tr><tr><td>test_f1_road</td><td>0.87063</td></tr><tr><td>test_f1_sidewalk</td><td>0.05485</td></tr><tr><td>test_f1_sky</td><td>0.82288</td></tr><tr><td>test_f1_terrain</td><td>0</td></tr><tr><td>test_f1_traffic_light</td><td>0</td></tr><tr><td>test_f1_traffic_sign</td><td>0</td></tr><tr><td>test_f1_train</td><td>0</td></tr><tr><td>test_f1_truck</td><td>0.03326</td></tr><tr><td>test_f1_unlabelled</td><td>0</td></tr><tr><td>test_f1_vegetation</td><td>0.82164</td></tr><tr><td>test_f1_wall</td><td>0</td></tr><tr><td>test_precision_building</td><td>0.77489</td></tr><tr><td>test_precision_bus</td><td>0</td></tr><tr><td>test_precision_car</td><td>0.30629</td></tr><tr><td>test_precision_fence</td><td>0.0053</td></tr><tr><td>test_precision_macro</td><td>0.19487</td></tr><tr><td>test_precision_motorcycle</td><td>0</td></tr><tr><td>test_precision_person</td><td>0</td></tr><tr><td>test_precision_pole</td><td>0.00158</td></tr><tr><td>test_precision_rider</td><td>0</td></tr><tr><td>test_precision_road</td><td>0.77393</td></tr><tr><td>test_precision_sidewalk</td><td>0.2202</td></tr><tr><td>test_precision_sky</td><td>0.76673</td></tr><tr><td>test_precision_terrain</td><td>0</td></tr><tr><td>test_precision_traffic_light</td><td>0</td></tr><tr><td>test_precision_traffic_sign</td><td>0</td></tr><tr><td>test_precision_train</td><td>0</td></tr><tr><td>test_precision_truck</td><td>0.01767</td></tr><tr><td>test_precision_unlabelled</td><td>0</td></tr><tr><td>test_precision_vegetation</td><td>0.83595</td></tr><tr><td>test_precision_wall</td><td>0</td></tr><tr><td>test_precision_weighted</td><td>0.67657</td></tr><tr><td>test_recall_building</td><td>0.85079</td></tr><tr><td>test_recall_bus</td><td>0</td></tr><tr><td>test_recall_car</td><td>0.01058</td></tr><tr><td>test_recall_fence</td><td>0.00129</td></tr><tr><td>test_recall_macro</td><td>0.20355</td></tr><tr><td>test_recall_motorcycle</td><td>0</td></tr><tr><td>test_recall_person</td><td>0</td></tr><tr><td>test_recall_pole</td><td>5e-05</td></tr><tr><td>test_recall_rider</td><td>0</td></tr><tr><td>test_recall_road</td><td>0.99494</td></tr><tr><td>test_recall_sidewalk</td><td>0.03133</td></tr><tr><td>test_recall_sky</td><td>0.88791</td></tr><tr><td>test_recall_terrain</td><td>0</td></tr><tr><td>test_recall_traffic_light</td><td>0</td></tr><tr><td>test_recall_traffic_sign</td><td>0</td></tr><tr><td>test_recall_train</td><td>0</td></tr><tr><td>test_recall_truck</td><td>0.28279</td></tr><tr><td>test_recall_unlabelled</td><td>0</td></tr><tr><td>test_recall_vegetation</td><td>0.80781</td></tr><tr><td>test_recall_wall</td><td>0</td></tr><tr><td>test_recall_weighted</td><td>0.74322</td></tr><tr><td>train batch loss</td><td>2.04688</td></tr><tr><td>train epoch loss</td><td>2.05208</td></tr><tr><td>val loss</td><td>2.0625</td></tr></table><br/></div></div>"
            ],
            "text/plain": [
              "<IPython.core.display.HTML object>"
            ]
          },
          "metadata": {},
          "output_type": "display_data"
        },
        {
          "data": {
            "text/html": [
              " View run <strong style=\"color:#cdcd00\">worldly-water-3</strong> at: <a href='https://wandb.ai/deniskirbaba-team/images_hw_1/runs/heegwtrm' target=\"_blank\">https://wandb.ai/deniskirbaba-team/images_hw_1/runs/heegwtrm</a><br> View project at: <a href='https://wandb.ai/deniskirbaba-team/images_hw_1' target=\"_blank\">https://wandb.ai/deniskirbaba-team/images_hw_1</a><br>Synced 5 W&B file(s), 0 media file(s), 0 artifact file(s) and 0 other file(s)"
            ],
            "text/plain": [
              "<IPython.core.display.HTML object>"
            ]
          },
          "metadata": {},
          "output_type": "display_data"
        },
        {
          "data": {
            "text/html": [
              "Find logs at: <code>./wandb/run-20250107_220359-heegwtrm/logs</code>"
            ],
            "text/plain": [
              "<IPython.core.display.HTML object>"
            ]
          },
          "metadata": {},
          "output_type": "display_data"
        }
      ],
      "source": [
        "model = trainer.run_model_pipeline()"
      ]
    },
    {
      "cell_type": "markdown",
      "metadata": {
        "id": "Kjk1AwKr0C2b"
      },
      "source": [
        "#### Examples of model predictions"
      ]
    },
    {
      "cell_type": "code",
      "execution_count": 51,
      "metadata": {
        "colab": {
          "base_uri": "https://localhost:8080/",
          "height": 942
        },
        "id": "Oac5YeOb0G2f",
        "outputId": "88f3e96e-b6f4-41c3-ae33-efdf1cab8f96"
      },
      "outputs": [],
      "source": [
        "# Load best model\n",
        "model = torch.load(\n",
        "    Path(\"/home/denis/Documents/exp1model.pt\"), weights_only=False, map_location=device\n",
        ")"
      ]
    },
    {
      "cell_type": "code",
      "execution_count": 47,
      "metadata": {
        "colab": {
          "base_uri": "https://localhost:8080/"
        },
        "id": "eJAPoVPD0tXY",
        "outputId": "9f826537-9bb3-49ac-bfc9-be68e77bfa8e"
      },
      "outputs": [
        {
          "name": "stdout",
          "output_type": "stream",
          "text": [
            "Found 1525 test images\n"
          ]
        },
        {
          "data": {
            "text/plain": [
              "(torch.Size([5, 3, 64, 128]), torch.bfloat16)"
            ]
          },
          "execution_count": 47,
          "metadata": {},
          "output_type": "execute_result"
        }
      ],
      "source": [
        "# Let's pick 5 images from test dataset and predict classes from our model\n",
        "test_dataset = Cityscapes(\n",
        "    CITYSCAPES_FOLDER,\n",
        "    split=\"test\",\n",
        "    is_transform=True,\n",
        "    img_size=list(config[\"img_size\"]),\n",
        "    dtype=DTYPE,\n",
        ")\n",
        "test_loader = DataLoader(\n",
        "    test_dataset, batch_size=5, shuffle=True, num_workers=multiprocessing.cpu_count()\n",
        ")\n",
        "\n",
        "imgs, lbls = next(iter(test_loader))\n",
        "imgs.shape, imgs.dtype"
      ]
    },
    {
      "cell_type": "code",
      "execution_count": null,
      "metadata": {
        "id": "kIknBlqH2Xdq"
      },
      "outputs": [],
      "source": [
        "# Get predictions from model\n",
        "model.eval()\n",
        "with torch.no_grad():\n",
        "    logits = model(imgs.to(device))\n",
        "    preds = logits.argmax(dim=1, keepdim=True)"
      ]
    },
    {
      "cell_type": "code",
      "execution_count": 53,
      "metadata": {},
      "outputs": [
        {
          "data": {
            "image/png": "[encoded data removed]",
            "text/plain": [
              "<Figure size 1000x500 with 2 Axes>"
            ]
          },
          "metadata": {},
          "output_type": "display_data"
        }
      ],
      "source": [
        "show_images_side_by_side(imgs[0], test_dataset.decode_segmap(preds[0]))"
      ]
    },
    {
      "cell_type": "code",
      "execution_count": 54,
      "metadata": {},
      "outputs": [
        {
          "data": {
            "image/png": "[encoded data removed]",
            "text/plain": [
              "<Figure size 1000x500 with 2 Axes>"
            ]
          },
          "metadata": {},
          "output_type": "display_data"
        }
      ],
      "source": [
        "show_images_side_by_side(imgs[1], test_dataset.decode_segmap(preds[1]))"
      ]
    },
    {
      "cell_type": "code",
      "execution_count": 55,
      "metadata": {},
      "outputs": [
        {
          "data": {
            "image/png": "[encoded data removed]",
            "text/plain": [
              "<Figure size 1000x500 with 2 Axes>"
            ]
          },
          "metadata": {},
          "output_type": "display_data"
        }
      ],
      "source": [
        "show_images_side_by_side(imgs[2], test_dataset.decode_segmap(preds[2]))"
      ]
    },
    {
      "cell_type": "code",
      "execution_count": 56,
      "metadata": {},
      "outputs": [
        {
          "data": {
            "image/png": "[encoded data removed]",
            "text/plain": [
              "<Figure size 1000x500 with 2 Axes>"
            ]
          },
          "metadata": {},
          "output_type": "display_data"
        }
      ],
      "source": [
        "show_images_side_by_side(imgs[3], test_dataset.decode_segmap(preds[3]))"
      ]
    },
    {
      "cell_type": "code",
      "execution_count": 57,
      "metadata": {},
      "outputs": [
        {
          "data": {
            "image/png": "[encoded data removed]",
            "text/plain": [
              "<Figure size 1000x500 with 2 Axes>"
            ]
          },
          "metadata": {},
          "output_type": "display_data"
        }
      ],
      "source": [
        "show_images_side_by_side(imgs[4], test_dataset.decode_segmap(preds[4]))"
      ]
    }
  ],
  "metadata": {
    "accelerator": "GPU",
    "colab": {
      "gpuType": "T4",
      "provenance": []
    },
    "kernelspec": {
      "display_name": "images-hw-1",
      "language": "python",
      "name": "python3"
    },
    "language_info": {
      "codemirror_mode": {
        "name": "ipython",
        "version": 3
      },
      "file_extension": ".py",
      "mimetype": "text/x-python",
      "name": "python",
      "nbconvert_exporter": "python",
      "pygments_lexer": "ipython3",
      "version": "3.13.1"
    },
    "widgets": {
      "application/vnd.jupyter.widget-state+json": {
        "00e58fc0878942038ffca2acf8e8da81": {
          "model_module": "@jupyter-widgets/controls",
          "model_module_version": "1.5.0",
          "model_name": "ProgressStyleModel",
          "state": {
            "_model_module": "@jupyter-widgets/controls",
            "_model_module_version": "1.5.0",
            "_model_name": "ProgressStyleModel",
            "_view_count": null,
            "_view_module": "@jupyter-widgets/base",
            "_view_module_version": "1.2.0",
            "_view_name": "StyleView",
            "bar_color": null,
            "description_width": ""
          }
        },
        "016fc5730bc648d8be6b4fbd26212b31": {
          "model_module": "@jupyter-widgets/controls",
          "model_module_version": "1.5.0",
          "model_name": "HBoxModel",
          "state": {
            "_dom_classes": [],
            "_model_module": "@jupyter-widgets/controls",
            "_model_module_version": "1.5.0",
            "_model_name": "HBoxModel",
            "_view_count": null,
            "_view_module": "@jupyter-widgets/controls",
            "_view_module_version": "1.5.0",
            "_view_name": "HBoxView",
            "box_style": "",
            "children": [
              "IPY_MODEL_e8592400a7a54abcbed7767ec9d4abaf",
              "IPY_MODEL_1fd98694880c46e8965982e4c85fb76c",
              "IPY_MODEL_1441aea063c44682aae7fc52c0836f30"
            ],
            "layout": "IPY_MODEL_10d7840b3b114665acbea5c5877b7c4b"
          }
        },
        "039a52c88d894a7898ca94cc1ce490a8": {
          "model_module": "@jupyter-widgets/controls",
          "model_module_version": "1.5.0",
          "model_name": "DescriptionStyleModel",
          "state": {
            "_model_module": "@jupyter-widgets/controls",
            "_model_module_version": "1.5.0",
            "_model_name": "DescriptionStyleModel",
            "_view_count": null,
            "_view_module": "@jupyter-widgets/base",
            "_view_module_version": "1.2.0",
            "_view_name": "StyleView",
            "description_width": ""
          }
        },
        "07435f1674a049a8ba480c633e94a1ae": {
          "model_module": "@jupyter-widgets/controls",
          "model_module_version": "1.5.0",
          "model_name": "HBoxModel",
          "state": {
            "_dom_classes": [],
            "_model_module": "@jupyter-widgets/controls",
            "_model_module_version": "1.5.0",
            "_model_name": "HBoxModel",
            "_view_count": null,
            "_view_module": "@jupyter-widgets/controls",
            "_view_module_version": "1.5.0",
            "_view_name": "HBoxView",
            "box_style": "",
            "children": [
              "IPY_MODEL_c3100bbc7e634cc29647ccb2a09e1634",
              "IPY_MODEL_e39afeac35b34f68afb7b3e99d717a36",
              "IPY_MODEL_bb9ce75679544a13a69d314ff27c9e6b"
            ],
            "layout": "IPY_MODEL_7fb1621d67d84cdba841cd2069959f29"
          }
        },
        "077bad3268a5455a84dfcce2d225fd77": {
          "model_module": "@jupyter-widgets/base",
          "model_module_version": "1.2.0",
          "model_name": "LayoutModel",
          "state": {
            "_model_module": "@jupyter-widgets/base",
            "_model_module_version": "1.2.0",
            "_model_name": "LayoutModel",
            "_view_count": null,
            "_view_module": "@jupyter-widgets/base",
            "_view_module_version": "1.2.0",
            "_view_name": "LayoutView",
            "align_content": null,
            "align_items": null,
            "align_self": null,
            "border": null,
            "bottom": null,
            "display": null,
            "flex": null,
            "flex_flow": null,
            "grid_area": null,
            "grid_auto_columns": null,
            "grid_auto_flow": null,
            "grid_auto_rows": null,
            "grid_column": null,
            "grid_gap": null,
            "grid_row": null,
            "grid_template_areas": null,
            "grid_template_columns": null,
            "grid_template_rows": null,
            "height": null,
            "justify_content": null,
            "justify_items": null,
            "left": null,
            "margin": null,
            "max_height": null,
            "max_width": null,
            "min_height": null,
            "min_width": null,
            "object_fit": null,
            "object_position": null,
            "order": null,
            "overflow": null,
            "overflow_x": null,
            "overflow_y": null,
            "padding": null,
            "right": null,
            "top": null,
            "visibility": null,
            "width": null
          }
        },
        "07c58affc44a4549a88d799320dfb56f": {
          "model_module": "@jupyter-widgets/controls",
          "model_module_version": "1.5.0",
          "model_name": "ProgressStyleModel",
          "state": {
            "_model_module": "@jupyter-widgets/controls",
            "_model_module_version": "1.5.0",
            "_model_name": "ProgressStyleModel",
            "_view_count": null,
            "_view_module": "@jupyter-widgets/base",
            "_view_module_version": "1.2.0",
            "_view_name": "StyleView",
            "bar_color": null,
            "description_width": ""
          }
        },
        "0927a71a758a418c877af2e858100ddf": {
          "model_module": "@jupyter-widgets/base",
          "model_module_version": "1.2.0",
          "model_name": "LayoutModel",
          "state": {
            "_model_module": "@jupyter-widgets/base",
            "_model_module_version": "1.2.0",
            "_model_name": "LayoutModel",
            "_view_count": null,
            "_view_module": "@jupyter-widgets/base",
            "_view_module_version": "1.2.0",
            "_view_name": "LayoutView",
            "align_content": null,
            "align_items": null,
            "align_self": null,
            "border": null,
            "bottom": null,
            "display": null,
            "flex": null,
            "flex_flow": null,
            "grid_area": null,
            "grid_auto_columns": null,
            "grid_auto_flow": null,
            "grid_auto_rows": null,
            "grid_column": null,
            "grid_gap": null,
            "grid_row": null,
            "grid_template_areas": null,
            "grid_template_columns": null,
            "grid_template_rows": null,
            "height": null,
            "justify_content": null,
            "justify_items": null,
            "left": null,
            "margin": null,
            "max_height": null,
            "max_width": null,
            "min_height": null,
            "min_width": null,
            "object_fit": null,
            "object_position": null,
            "order": null,
            "overflow": null,
            "overflow_x": null,
            "overflow_y": null,
            "padding": null,
            "right": null,
            "top": null,
            "visibility": null,
            "width": null
          }
        },
        "0a569c944dfe4b58a42b7d1bebfbede3": {
          "model_module": "@jupyter-widgets/base",
          "model_module_version": "1.2.0",
          "model_name": "LayoutModel",
          "state": {
            "_model_module": "@jupyter-widgets/base",
            "_model_module_version": "1.2.0",
            "_model_name": "LayoutModel",
            "_view_count": null,
            "_view_module": "@jupyter-widgets/base",
            "_view_module_version": "1.2.0",
            "_view_name": "LayoutView",
            "align_content": null,
            "align_items": null,
            "align_self": null,
            "border": null,
            "bottom": null,
            "display": null,
            "flex": null,
            "flex_flow": null,
            "grid_area": null,
            "grid_auto_columns": null,
            "grid_auto_flow": null,
            "grid_auto_rows": null,
            "grid_column": null,
            "grid_gap": null,
            "grid_row": null,
            "grid_template_areas": null,
            "grid_template_columns": null,
            "grid_template_rows": null,
            "height": null,
            "justify_content": null,
            "justify_items": null,
            "left": null,
            "margin": null,
            "max_height": null,
            "max_width": null,
            "min_height": null,
            "min_width": null,
            "object_fit": null,
            "object_position": null,
            "order": null,
            "overflow": null,
            "overflow_x": null,
            "overflow_y": null,
            "padding": null,
            "right": null,
            "top": null,
            "visibility": null,
            "width": null
          }
        },
        "0a7ce0b086ea40719d58621c5c298738": {
          "model_module": "@jupyter-widgets/controls",
          "model_module_version": "1.5.0",
          "model_name": "DescriptionStyleModel",
          "state": {
            "_model_module": "@jupyter-widgets/controls",
            "_model_module_version": "1.5.0",
            "_model_name": "DescriptionStyleModel",
            "_view_count": null,
            "_view_module": "@jupyter-widgets/base",
            "_view_module_version": "1.2.0",
            "_view_name": "StyleView",
            "description_width": ""
          }
        },
        "0db1886585ad4e0cab8737438c6784d7": {
          "model_module": "@jupyter-widgets/base",
          "model_module_version": "1.2.0",
          "model_name": "LayoutModel",
          "state": {
            "_model_module": "@jupyter-widgets/base",
            "_model_module_version": "1.2.0",
            "_model_name": "LayoutModel",
            "_view_count": null,
            "_view_module": "@jupyter-widgets/base",
            "_view_module_version": "1.2.0",
            "_view_name": "LayoutView",
            "align_content": null,
            "align_items": null,
            "align_self": null,
            "border": null,
            "bottom": null,
            "display": null,
            "flex": null,
            "flex_flow": null,
            "grid_area": null,
            "grid_auto_columns": null,
            "grid_auto_flow": null,
            "grid_auto_rows": null,
            "grid_column": null,
            "grid_gap": null,
            "grid_row": null,
            "grid_template_areas": null,
            "grid_template_columns": null,
            "grid_template_rows": null,
            "height": null,
            "justify_content": null,
            "justify_items": null,
            "left": null,
            "margin": null,
            "max_height": null,
            "max_width": null,
            "min_height": null,
            "min_width": null,
            "object_fit": null,
            "object_position": null,
            "order": null,
            "overflow": null,
            "overflow_x": null,
            "overflow_y": null,
            "padding": null,
            "right": null,
            "top": null,
            "visibility": "hidden",
            "width": null
          }
        },
        "0eef990da4194c98aa198c8f674ab52a": {
          "model_module": "@jupyter-widgets/base",
          "model_module_version": "1.2.0",
          "model_name": "LayoutModel",
          "state": {
            "_model_module": "@jupyter-widgets/base",
            "_model_module_version": "1.2.0",
            "_model_name": "LayoutModel",
            "_view_count": null,
            "_view_module": "@jupyter-widgets/base",
            "_view_module_version": "1.2.0",
            "_view_name": "LayoutView",
            "align_content": null,
            "align_items": null,
            "align_self": null,
            "border": null,
            "bottom": null,
            "display": null,
            "flex": null,
            "flex_flow": null,
            "grid_area": null,
            "grid_auto_columns": null,
            "grid_auto_flow": null,
            "grid_auto_rows": null,
            "grid_column": null,
            "grid_gap": null,
            "grid_row": null,
            "grid_template_areas": null,
            "grid_template_columns": null,
            "grid_template_rows": null,
            "height": null,
            "justify_content": null,
            "justify_items": null,
            "left": null,
            "margin": null,
            "max_height": null,
            "max_width": null,
            "min_height": null,
            "min_width": null,
            "object_fit": null,
            "object_position": null,
            "order": null,
            "overflow": null,
            "overflow_x": null,
            "overflow_y": null,
            "padding": null,
            "right": null,
            "top": null,
            "visibility": null,
            "width": null
          }
        },
        "0f7b3412a11b48b1afae27fc739ae8d4": {
          "model_module": "@jupyter-widgets/controls",
          "model_module_version": "1.5.0",
          "model_name": "DescriptionStyleModel",
          "state": {
            "_model_module": "@jupyter-widgets/controls",
            "_model_module_version": "1.5.0",
            "_model_name": "DescriptionStyleModel",
            "_view_count": null,
            "_view_module": "@jupyter-widgets/base",
            "_view_module_version": "1.2.0",
            "_view_name": "StyleView",
            "description_width": ""
          }
        },
        "10d7840b3b114665acbea5c5877b7c4b": {
          "model_module": "@jupyter-widgets/base",
          "model_module_version": "1.2.0",
          "model_name": "LayoutModel",
          "state": {
            "_model_module": "@jupyter-widgets/base",
            "_model_module_version": "1.2.0",
            "_model_name": "LayoutModel",
            "_view_count": null,
            "_view_module": "@jupyter-widgets/base",
            "_view_module_version": "1.2.0",
            "_view_name": "LayoutView",
            "align_content": null,
            "align_items": null,
            "align_self": null,
            "border": null,
            "bottom": null,
            "display": null,
            "flex": null,
            "flex_flow": null,
            "grid_area": null,
            "grid_auto_columns": null,
            "grid_auto_flow": null,
            "grid_auto_rows": null,
            "grid_column": null,
            "grid_gap": null,
            "grid_row": null,
            "grid_template_areas": null,
            "grid_template_columns": null,
            "grid_template_rows": null,
            "height": null,
            "justify_content": null,
            "justify_items": null,
            "left": null,
            "margin": null,
            "max_height": null,
            "max_width": null,
            "min_height": null,
            "min_width": null,
            "object_fit": null,
            "object_position": null,
            "order": null,
            "overflow": null,
            "overflow_x": null,
            "overflow_y": null,
            "padding": null,
            "right": null,
            "top": null,
            "visibility": "hidden",
            "width": null
          }
        },
        "110c867cea9a4480a5bb54a5d1d412d1": {
          "model_module": "@jupyter-widgets/base",
          "model_module_version": "1.2.0",
          "model_name": "LayoutModel",
          "state": {
            "_model_module": "@jupyter-widgets/base",
            "_model_module_version": "1.2.0",
            "_model_name": "LayoutModel",
            "_view_count": null,
            "_view_module": "@jupyter-widgets/base",
            "_view_module_version": "1.2.0",
            "_view_name": "LayoutView",
            "align_content": null,
            "align_items": null,
            "align_self": null,
            "border": null,
            "bottom": null,
            "display": null,
            "flex": null,
            "flex_flow": null,
            "grid_area": null,
            "grid_auto_columns": null,
            "grid_auto_flow": null,
            "grid_auto_rows": null,
            "grid_column": null,
            "grid_gap": null,
            "grid_row": null,
            "grid_template_areas": null,
            "grid_template_columns": null,
            "grid_template_rows": null,
            "height": null,
            "justify_content": null,
            "justify_items": null,
            "left": null,
            "margin": null,
            "max_height": null,
            "max_width": null,
            "min_height": null,
            "min_width": null,
            "object_fit": null,
            "object_position": null,
            "order": null,
            "overflow": null,
            "overflow_x": null,
            "overflow_y": null,
            "padding": null,
            "right": null,
            "top": null,
            "visibility": null,
            "width": null
          }
        },
        "113e419d37aa422c8bdd3e568dbacdc4": {
          "model_module": "@jupyter-widgets/base",
          "model_module_version": "1.2.0",
          "model_name": "LayoutModel",
          "state": {
            "_model_module": "@jupyter-widgets/base",
            "_model_module_version": "1.2.0",
            "_model_name": "LayoutModel",
            "_view_count": null,
            "_view_module": "@jupyter-widgets/base",
            "_view_module_version": "1.2.0",
            "_view_name": "LayoutView",
            "align_content": null,
            "align_items": null,
            "align_self": null,
            "border": null,
            "bottom": null,
            "display": null,
            "flex": null,
            "flex_flow": null,
            "grid_area": null,
            "grid_auto_columns": null,
            "grid_auto_flow": null,
            "grid_auto_rows": null,
            "grid_column": null,
            "grid_gap": null,
            "grid_row": null,
            "grid_template_areas": null,
            "grid_template_columns": null,
            "grid_template_rows": null,
            "height": null,
            "justify_content": null,
            "justify_items": null,
            "left": null,
            "margin": null,
            "max_height": null,
            "max_width": null,
            "min_height": null,
            "min_width": null,
            "object_fit": null,
            "object_position": null,
            "order": null,
            "overflow": null,
            "overflow_x": null,
            "overflow_y": null,
            "padding": null,
            "right": null,
            "top": null,
            "visibility": null,
            "width": null
          }
        },
        "1279ad23cde7439eb89459e359468767": {
          "model_module": "@jupyter-widgets/base",
          "model_module_version": "1.2.0",
          "model_name": "LayoutModel",
          "state": {
            "_model_module": "@jupyter-widgets/base",
            "_model_module_version": "1.2.0",
            "_model_name": "LayoutModel",
            "_view_count": null,
            "_view_module": "@jupyter-widgets/base",
            "_view_module_version": "1.2.0",
            "_view_name": "LayoutView",
            "align_content": null,
            "align_items": null,
            "align_self": null,
            "border": null,
            "bottom": null,
            "display": null,
            "flex": null,
            "flex_flow": null,
            "grid_area": null,
            "grid_auto_columns": null,
            "grid_auto_flow": null,
            "grid_auto_rows": null,
            "grid_column": null,
            "grid_gap": null,
            "grid_row": null,
            "grid_template_areas": null,
            "grid_template_columns": null,
            "grid_template_rows": null,
            "height": null,
            "justify_content": null,
            "justify_items": null,
            "left": null,
            "margin": null,
            "max_height": null,
            "max_width": null,
            "min_height": null,
            "min_width": null,
            "object_fit": null,
            "object_position": null,
            "order": null,
            "overflow": null,
            "overflow_x": null,
            "overflow_y": null,
            "padding": null,
            "right": null,
            "top": null,
            "visibility": null,
            "width": null
          }
        },
        "143d4e20485340e3bf0f33a96040138d": {
          "model_module": "@jupyter-widgets/controls",
          "model_module_version": "1.5.0",
          "model_name": "HTMLModel",
          "state": {
            "_dom_classes": [],
            "_model_module": "@jupyter-widgets/controls",
            "_model_module_version": "1.5.0",
            "_model_name": "HTMLModel",
            "_view_count": null,
            "_view_module": "@jupyter-widgets/controls",
            "_view_module_version": "1.5.0",
            "_view_name": "HTMLView",
            "description": "",
            "description_tooltip": null,
            "layout": "IPY_MODEL_6684bdedafdf47db8f1788c8b21aa2b6",
            "placeholder": "​",
            "style": "IPY_MODEL_039a52c88d894a7898ca94cc1ce490a8",
            "value": "Test: 100%"
          }
        },
        "1441aea063c44682aae7fc52c0836f30": {
          "model_module": "@jupyter-widgets/controls",
          "model_module_version": "1.5.0",
          "model_name": "HTMLModel",
          "state": {
            "_dom_classes": [],
            "_model_module": "@jupyter-widgets/controls",
            "_model_module_version": "1.5.0",
            "_model_name": "HTMLModel",
            "_view_count": null,
            "_view_module": "@jupyter-widgets/controls",
            "_view_module_version": "1.5.0",
            "_view_name": "HTMLView",
            "description": "",
            "description_tooltip": null,
            "layout": "IPY_MODEL_113e419d37aa422c8bdd3e568dbacdc4",
            "placeholder": "​",
            "style": "IPY_MODEL_f9ca5631d57c4388a30d07dda96fa84a",
            "value": " 12/12 [14:41&lt;00:00, 67.50s/it]"
          }
        },
        "14afea33883746e49324011134b6552c": {
          "model_module": "@jupyter-widgets/base",
          "model_module_version": "1.2.0",
          "model_name": "LayoutModel",
          "state": {
            "_model_module": "@jupyter-widgets/base",
            "_model_module_version": "1.2.0",
            "_model_name": "LayoutModel",
            "_view_count": null,
            "_view_module": "@jupyter-widgets/base",
            "_view_module_version": "1.2.0",
            "_view_name": "LayoutView",
            "align_content": null,
            "align_items": null,
            "align_self": null,
            "border": null,
            "bottom": null,
            "display": null,
            "flex": null,
            "flex_flow": null,
            "grid_area": null,
            "grid_auto_columns": null,
            "grid_auto_flow": null,
            "grid_auto_rows": null,
            "grid_column": null,
            "grid_gap": null,
            "grid_row": null,
            "grid_template_areas": null,
            "grid_template_columns": null,
            "grid_template_rows": null,
            "height": null,
            "justify_content": null,
            "justify_items": null,
            "left": null,
            "margin": null,
            "max_height": null,
            "max_width": null,
            "min_height": null,
            "min_width": null,
            "object_fit": null,
            "object_position": null,
            "order": null,
            "overflow": null,
            "overflow_x": null,
            "overflow_y": null,
            "padding": null,
            "right": null,
            "top": null,
            "visibility": null,
            "width": null
          }
        },
        "158429d27bb7471ea7c54de5b9a6de56": {
          "model_module": "@jupyter-widgets/controls",
          "model_module_version": "1.5.0",
          "model_name": "HBoxModel",
          "state": {
            "_dom_classes": [],
            "_model_module": "@jupyter-widgets/controls",
            "_model_module_version": "1.5.0",
            "_model_name": "HBoxModel",
            "_view_count": null,
            "_view_module": "@jupyter-widgets/controls",
            "_view_module_version": "1.5.0",
            "_view_name": "HBoxView",
            "box_style": "",
            "children": [
              "IPY_MODEL_e5c4ab02ad314154a673645d73893557",
              "IPY_MODEL_729f4d25fe724bfa8be239b67975c6cd",
              "IPY_MODEL_614a3b4d3c4748ac8590a9f17a1535e9"
            ],
            "layout": "IPY_MODEL_cceb4104f6514264a5e50fe3d1984f08"
          }
        },
        "15cf879444484f6e8fac499287d1c668": {
          "model_module": "@jupyter-widgets/controls",
          "model_module_version": "1.5.0",
          "model_name": "HBoxModel",
          "state": {
            "_dom_classes": [],
            "_model_module": "@jupyter-widgets/controls",
            "_model_module_version": "1.5.0",
            "_model_name": "HBoxModel",
            "_view_count": null,
            "_view_module": "@jupyter-widgets/controls",
            "_view_module_version": "1.5.0",
            "_view_name": "HBoxView",
            "box_style": "",
            "children": [
              "IPY_MODEL_ebb9f4595db4416e8e0823af8376c662",
              "IPY_MODEL_28ca243f4317479aa12c21351228d4ba",
              "IPY_MODEL_bc198c956789486999a3e31caee5c6f9"
            ],
            "layout": "IPY_MODEL_35c047ac26cb46d7837b8c55039ace01"
          }
        },
        "18031859daaa478597e9aa768699ccfd": {
          "model_module": "@jupyter-widgets/controls",
          "model_module_version": "1.5.0",
          "model_name": "DescriptionStyleModel",
          "state": {
            "_model_module": "@jupyter-widgets/controls",
            "_model_module_version": "1.5.0",
            "_model_name": "DescriptionStyleModel",
            "_view_count": null,
            "_view_module": "@jupyter-widgets/base",
            "_view_module_version": "1.2.0",
            "_view_name": "StyleView",
            "description_width": ""
          }
        },
        "18eeb743436d4dcd8da07d7aadc92b57": {
          "model_module": "@jupyter-widgets/base",
          "model_module_version": "1.2.0",
          "model_name": "LayoutModel",
          "state": {
            "_model_module": "@jupyter-widgets/base",
            "_model_module_version": "1.2.0",
            "_model_name": "LayoutModel",
            "_view_count": null,
            "_view_module": "@jupyter-widgets/base",
            "_view_module_version": "1.2.0",
            "_view_name": "LayoutView",
            "align_content": null,
            "align_items": null,
            "align_self": null,
            "border": null,
            "bottom": null,
            "display": null,
            "flex": null,
            "flex_flow": null,
            "grid_area": null,
            "grid_auto_columns": null,
            "grid_auto_flow": null,
            "grid_auto_rows": null,
            "grid_column": null,
            "grid_gap": null,
            "grid_row": null,
            "grid_template_areas": null,
            "grid_template_columns": null,
            "grid_template_rows": null,
            "height": null,
            "justify_content": null,
            "justify_items": null,
            "left": null,
            "margin": null,
            "max_height": null,
            "max_width": null,
            "min_height": null,
            "min_width": null,
            "object_fit": null,
            "object_position": null,
            "order": null,
            "overflow": null,
            "overflow_x": null,
            "overflow_y": null,
            "padding": null,
            "right": null,
            "top": null,
            "visibility": "hidden",
            "width": null
          }
        },
        "19138def881a4f4fbc4dbe70d3d26e02": {
          "model_module": "@jupyter-widgets/controls",
          "model_module_version": "1.5.0",
          "model_name": "ProgressStyleModel",
          "state": {
            "_model_module": "@jupyter-widgets/controls",
            "_model_module_version": "1.5.0",
            "_model_name": "ProgressStyleModel",
            "_view_count": null,
            "_view_module": "@jupyter-widgets/base",
            "_view_module_version": "1.2.0",
            "_view_name": "StyleView",
            "bar_color": null,
            "description_width": ""
          }
        },
        "1b7d50871fe64c0d842d2ad2f98e5f1c": {
          "model_module": "@jupyter-widgets/controls",
          "model_module_version": "1.5.0",
          "model_name": "HTMLModel",
          "state": {
            "_dom_classes": [],
            "_model_module": "@jupyter-widgets/controls",
            "_model_module_version": "1.5.0",
            "_model_name": "HTMLModel",
            "_view_count": null,
            "_view_module": "@jupyter-widgets/controls",
            "_view_module_version": "1.5.0",
            "_view_name": "HTMLView",
            "description": "",
            "description_tooltip": null,
            "layout": "IPY_MODEL_0a569c944dfe4b58a42b7d1bebfbede3",
            "placeholder": "​",
            "style": "IPY_MODEL_23c51269c172463da7420b70ef0d8834",
            "value": " 12/12 [14:52&lt;00:00, 67.86s/it]"
          }
        },
        "1d86ec2dd55d40b7a2b8fd830908e48e": {
          "model_module": "@jupyter-widgets/controls",
          "model_module_version": "1.5.0",
          "model_name": "DescriptionStyleModel",
          "state": {
            "_model_module": "@jupyter-widgets/controls",
            "_model_module_version": "1.5.0",
            "_model_name": "DescriptionStyleModel",
            "_view_count": null,
            "_view_module": "@jupyter-widgets/base",
            "_view_module_version": "1.2.0",
            "_view_name": "StyleView",
            "description_width": ""
          }
        },
        "1fd98694880c46e8965982e4c85fb76c": {
          "model_module": "@jupyter-widgets/controls",
          "model_module_version": "1.5.0",
          "model_name": "FloatProgressModel",
          "state": {
            "_dom_classes": [],
            "_model_module": "@jupyter-widgets/controls",
            "_model_module_version": "1.5.0",
            "_model_name": "FloatProgressModel",
            "_view_count": null,
            "_view_module": "@jupyter-widgets/controls",
            "_view_module_version": "1.5.0",
            "_view_name": "ProgressView",
            "bar_style": "",
            "description": "",
            "description_tooltip": null,
            "layout": "IPY_MODEL_cd0ecb955a4d4aab93b5ba9eeaa20eed",
            "max": 12,
            "min": 0,
            "orientation": "horizontal",
            "style": "IPY_MODEL_b2c3daebc4e74ffc9653542741e97d04",
            "value": 12
          }
        },
        "2057f2d7a5f247858d37b8a3990338eb": {
          "model_module": "@jupyter-widgets/controls",
          "model_module_version": "1.5.0",
          "model_name": "HBoxModel",
          "state": {
            "_dom_classes": [],
            "_model_module": "@jupyter-widgets/controls",
            "_model_module_version": "1.5.0",
            "_model_name": "HBoxModel",
            "_view_count": null,
            "_view_module": "@jupyter-widgets/controls",
            "_view_module_version": "1.5.0",
            "_view_name": "HBoxView",
            "box_style": "",
            "children": [
              "IPY_MODEL_4f70f1754b2f4f15aa2f6aa8f8ebba4d",
              "IPY_MODEL_609a47edbb4f4dbb922a0a809973a5b2",
              "IPY_MODEL_1b7d50871fe64c0d842d2ad2f98e5f1c"
            ],
            "layout": "IPY_MODEL_516b2f3ede0641e8b2a696404d4a54a5"
          }
        },
        "2063a3139a51474297327c6736897460": {
          "model_module": "@jupyter-widgets/base",
          "model_module_version": "1.2.0",
          "model_name": "LayoutModel",
          "state": {
            "_model_module": "@jupyter-widgets/base",
            "_model_module_version": "1.2.0",
            "_model_name": "LayoutModel",
            "_view_count": null,
            "_view_module": "@jupyter-widgets/base",
            "_view_module_version": "1.2.0",
            "_view_name": "LayoutView",
            "align_content": null,
            "align_items": null,
            "align_self": null,
            "border": null,
            "bottom": null,
            "display": null,
            "flex": null,
            "flex_flow": null,
            "grid_area": null,
            "grid_auto_columns": null,
            "grid_auto_flow": null,
            "grid_auto_rows": null,
            "grid_column": null,
            "grid_gap": null,
            "grid_row": null,
            "grid_template_areas": null,
            "grid_template_columns": null,
            "grid_template_rows": null,
            "height": null,
            "justify_content": null,
            "justify_items": null,
            "left": null,
            "margin": null,
            "max_height": null,
            "max_width": null,
            "min_height": null,
            "min_width": null,
            "object_fit": null,
            "object_position": null,
            "order": null,
            "overflow": null,
            "overflow_x": null,
            "overflow_y": null,
            "padding": null,
            "right": null,
            "top": null,
            "visibility": null,
            "width": null
          }
        },
        "2209b0f97bd84eab99894db288a7a4be": {
          "model_module": "@jupyter-widgets/base",
          "model_module_version": "1.2.0",
          "model_name": "LayoutModel",
          "state": {
            "_model_module": "@jupyter-widgets/base",
            "_model_module_version": "1.2.0",
            "_model_name": "LayoutModel",
            "_view_count": null,
            "_view_module": "@jupyter-widgets/base",
            "_view_module_version": "1.2.0",
            "_view_name": "LayoutView",
            "align_content": null,
            "align_items": null,
            "align_self": null,
            "border": null,
            "bottom": null,
            "display": null,
            "flex": null,
            "flex_flow": null,
            "grid_area": null,
            "grid_auto_columns": null,
            "grid_auto_flow": null,
            "grid_auto_rows": null,
            "grid_column": null,
            "grid_gap": null,
            "grid_row": null,
            "grid_template_areas": null,
            "grid_template_columns": null,
            "grid_template_rows": null,
            "height": null,
            "justify_content": null,
            "justify_items": null,
            "left": null,
            "margin": null,
            "max_height": null,
            "max_width": null,
            "min_height": null,
            "min_width": null,
            "object_fit": null,
            "object_position": null,
            "order": null,
            "overflow": null,
            "overflow_x": null,
            "overflow_y": null,
            "padding": null,
            "right": null,
            "top": null,
            "visibility": null,
            "width": null
          }
        },
        "233fe2fc05be452bbb618cb276c2567c": {
          "model_module": "@jupyter-widgets/base",
          "model_module_version": "1.2.0",
          "model_name": "LayoutModel",
          "state": {
            "_model_module": "@jupyter-widgets/base",
            "_model_module_version": "1.2.0",
            "_model_name": "LayoutModel",
            "_view_count": null,
            "_view_module": "@jupyter-widgets/base",
            "_view_module_version": "1.2.0",
            "_view_name": "LayoutView",
            "align_content": null,
            "align_items": null,
            "align_self": null,
            "border": null,
            "bottom": null,
            "display": null,
            "flex": null,
            "flex_flow": null,
            "grid_area": null,
            "grid_auto_columns": null,
            "grid_auto_flow": null,
            "grid_auto_rows": null,
            "grid_column": null,
            "grid_gap": null,
            "grid_row": null,
            "grid_template_areas": null,
            "grid_template_columns": null,
            "grid_template_rows": null,
            "height": null,
            "justify_content": null,
            "justify_items": null,
            "left": null,
            "margin": null,
            "max_height": null,
            "max_width": null,
            "min_height": null,
            "min_width": null,
            "object_fit": null,
            "object_position": null,
            "order": null,
            "overflow": null,
            "overflow_x": null,
            "overflow_y": null,
            "padding": null,
            "right": null,
            "top": null,
            "visibility": null,
            "width": null
          }
        },
        "23c51269c172463da7420b70ef0d8834": {
          "model_module": "@jupyter-widgets/controls",
          "model_module_version": "1.5.0",
          "model_name": "DescriptionStyleModel",
          "state": {
            "_model_module": "@jupyter-widgets/controls",
            "_model_module_version": "1.5.0",
            "_model_name": "DescriptionStyleModel",
            "_view_count": null,
            "_view_module": "@jupyter-widgets/base",
            "_view_module_version": "1.2.0",
            "_view_name": "StyleView",
            "description_width": ""
          }
        },
        "2605da4e1e7c432aa80f2fc56286be9d": {
          "model_module": "@jupyter-widgets/controls",
          "model_module_version": "1.5.0",
          "model_name": "HTMLModel",
          "state": {
            "_dom_classes": [],
            "_model_module": "@jupyter-widgets/controls",
            "_model_module_version": "1.5.0",
            "_model_name": "HTMLModel",
            "_view_count": null,
            "_view_module": "@jupyter-widgets/controls",
            "_view_module_version": "1.5.0",
            "_view_name": "HTMLView",
            "description": "",
            "description_tooltip": null,
            "layout": "IPY_MODEL_7f89049c5dea413ba3d43e455cc9f641",
            "placeholder": "​",
            "style": "IPY_MODEL_c0ade80dba4c40e1b9a9bf5f4b351819",
            "value": " 1/1 [01:18&lt;00:00, 78.09s/it]"
          }
        },
        "28ca243f4317479aa12c21351228d4ba": {
          "model_module": "@jupyter-widgets/controls",
          "model_module_version": "1.5.0",
          "model_name": "FloatProgressModel",
          "state": {
            "_dom_classes": [],
            "_model_module": "@jupyter-widgets/controls",
            "_model_module_version": "1.5.0",
            "_model_name": "FloatProgressModel",
            "_view_count": null,
            "_view_module": "@jupyter-widgets/controls",
            "_view_module_version": "1.5.0",
            "_view_name": "ProgressView",
            "bar_style": "",
            "description": "",
            "description_tooltip": null,
            "layout": "IPY_MODEL_9c6edfb20bb84484812d604409c8f214",
            "max": 1,
            "min": 0,
            "orientation": "horizontal",
            "style": "IPY_MODEL_db66ffe5ddc746569c70cb277981a558",
            "value": 1
          }
        },
        "2970fa08c5ac4562a3178cbc81063c4b": {
          "model_module": "@jupyter-widgets/controls",
          "model_module_version": "1.5.0",
          "model_name": "DescriptionStyleModel",
          "state": {
            "_model_module": "@jupyter-widgets/controls",
            "_model_module_version": "1.5.0",
            "_model_name": "DescriptionStyleModel",
            "_view_count": null,
            "_view_module": "@jupyter-widgets/base",
            "_view_module_version": "1.2.0",
            "_view_name": "StyleView",
            "description_width": ""
          }
        },
        "2aaed83574d9440ab741cdc7aeafb18a": {
          "model_module": "@jupyter-widgets/base",
          "model_module_version": "1.2.0",
          "model_name": "LayoutModel",
          "state": {
            "_model_module": "@jupyter-widgets/base",
            "_model_module_version": "1.2.0",
            "_model_name": "LayoutModel",
            "_view_count": null,
            "_view_module": "@jupyter-widgets/base",
            "_view_module_version": "1.2.0",
            "_view_name": "LayoutView",
            "align_content": null,
            "align_items": null,
            "align_self": null,
            "border": null,
            "bottom": null,
            "display": null,
            "flex": null,
            "flex_flow": null,
            "grid_area": null,
            "grid_auto_columns": null,
            "grid_auto_flow": null,
            "grid_auto_rows": null,
            "grid_column": null,
            "grid_gap": null,
            "grid_row": null,
            "grid_template_areas": null,
            "grid_template_columns": null,
            "grid_template_rows": null,
            "height": null,
            "justify_content": null,
            "justify_items": null,
            "left": null,
            "margin": null,
            "max_height": null,
            "max_width": null,
            "min_height": null,
            "min_width": null,
            "object_fit": null,
            "object_position": null,
            "order": null,
            "overflow": null,
            "overflow_x": null,
            "overflow_y": null,
            "padding": null,
            "right": null,
            "top": null,
            "visibility": null,
            "width": null
          }
        },
        "30d08e20e6b644179e649140fbf8a7fd": {
          "model_module": "@jupyter-widgets/controls",
          "model_module_version": "1.5.0",
          "model_name": "FloatProgressModel",
          "state": {
            "_dom_classes": [],
            "_model_module": "@jupyter-widgets/controls",
            "_model_module_version": "1.5.0",
            "_model_name": "FloatProgressModel",
            "_view_count": null,
            "_view_module": "@jupyter-widgets/controls",
            "_view_module_version": "1.5.0",
            "_view_name": "ProgressView",
            "bar_style": "success",
            "description": "",
            "description_tooltip": null,
            "layout": "IPY_MODEL_6111c3d4448649a9a9bd875b22d0a9b2",
            "max": 5,
            "min": 0,
            "orientation": "horizontal",
            "style": "IPY_MODEL_00e58fc0878942038ffca2acf8e8da81",
            "value": 5
          }
        },
        "3341715df3c541de959df2242a673354": {
          "model_module": "@jupyter-widgets/controls",
          "model_module_version": "1.5.0",
          "model_name": "FloatProgressModel",
          "state": {
            "_dom_classes": [],
            "_model_module": "@jupyter-widgets/controls",
            "_model_module_version": "1.5.0",
            "_model_name": "FloatProgressModel",
            "_view_count": null,
            "_view_module": "@jupyter-widgets/controls",
            "_view_module_version": "1.5.0",
            "_view_name": "ProgressView",
            "bar_style": "",
            "description": "",
            "description_tooltip": null,
            "layout": "IPY_MODEL_511168f538a24a91b6950d7047fdb18d",
            "max": 1,
            "min": 0,
            "orientation": "horizontal",
            "style": "IPY_MODEL_d1c27a9a5cb74731927202d8ef7d3440",
            "value": 1
          }
        },
        "350abe90b10247c08edd20676cdbb08d": {
          "model_module": "@jupyter-widgets/controls",
          "model_module_version": "1.5.0",
          "model_name": "FloatProgressModel",
          "state": {
            "_dom_classes": [],
            "_model_module": "@jupyter-widgets/controls",
            "_model_module_version": "1.5.0",
            "_model_name": "FloatProgressModel",
            "_view_count": null,
            "_view_module": "@jupyter-widgets/controls",
            "_view_module_version": "1.5.0",
            "_view_name": "ProgressView",
            "bar_style": "",
            "description": "",
            "description_tooltip": null,
            "layout": "IPY_MODEL_6818929fd80a4ed5a006f7abc855b32e",
            "max": 12,
            "min": 0,
            "orientation": "horizontal",
            "style": "IPY_MODEL_dfe12585e5f0476aae7f84043711a2d7",
            "value": 12
          }
        },
        "351c9582336547d988b4e271a9932b4d": {
          "model_module": "@jupyter-widgets/controls",
          "model_module_version": "1.5.0",
          "model_name": "FloatProgressModel",
          "state": {
            "_dom_classes": [],
            "_model_module": "@jupyter-widgets/controls",
            "_model_module_version": "1.5.0",
            "_model_name": "FloatProgressModel",
            "_view_count": null,
            "_view_module": "@jupyter-widgets/controls",
            "_view_module_version": "1.5.0",
            "_view_name": "ProgressView",
            "bar_style": "",
            "description": "",
            "description_tooltip": null,
            "layout": "IPY_MODEL_b390a2425fda4179afebf35f550ea1c8",
            "max": 12,
            "min": 0,
            "orientation": "horizontal",
            "style": "IPY_MODEL_6ec6da1785e24b3db64b203d0ec5aaee",
            "value": 12
          }
        },
        "35c047ac26cb46d7837b8c55039ace01": {
          "model_module": "@jupyter-widgets/base",
          "model_module_version": "1.2.0",
          "model_name": "LayoutModel",
          "state": {
            "_model_module": "@jupyter-widgets/base",
            "_model_module_version": "1.2.0",
            "_model_name": "LayoutModel",
            "_view_count": null,
            "_view_module": "@jupyter-widgets/base",
            "_view_module_version": "1.2.0",
            "_view_name": "LayoutView",
            "align_content": null,
            "align_items": null,
            "align_self": null,
            "border": null,
            "bottom": null,
            "display": null,
            "flex": null,
            "flex_flow": null,
            "grid_area": null,
            "grid_auto_columns": null,
            "grid_auto_flow": null,
            "grid_auto_rows": null,
            "grid_column": null,
            "grid_gap": null,
            "grid_row": null,
            "grid_template_areas": null,
            "grid_template_columns": null,
            "grid_template_rows": null,
            "height": null,
            "justify_content": null,
            "justify_items": null,
            "left": null,
            "margin": null,
            "max_height": null,
            "max_width": null,
            "min_height": null,
            "min_width": null,
            "object_fit": null,
            "object_position": null,
            "order": null,
            "overflow": null,
            "overflow_x": null,
            "overflow_y": null,
            "padding": null,
            "right": null,
            "top": null,
            "visibility": "hidden",
            "width": null
          }
        },
        "38ff8c9f6ba145979f0798f3116c6b77": {
          "model_module": "@jupyter-widgets/controls",
          "model_module_version": "1.5.0",
          "model_name": "HTMLModel",
          "state": {
            "_dom_classes": [],
            "_model_module": "@jupyter-widgets/controls",
            "_model_module_version": "1.5.0",
            "_model_name": "HTMLModel",
            "_view_count": null,
            "_view_module": "@jupyter-widgets/controls",
            "_view_module_version": "1.5.0",
            "_view_name": "HTMLView",
            "description": "",
            "description_tooltip": null,
            "layout": "IPY_MODEL_e2e5a835f8d049849fdfe49112a7ae59",
            "placeholder": "​",
            "style": "IPY_MODEL_2970fa08c5ac4562a3178cbc81063c4b",
            "value": "Epochs: 100%"
          }
        },
        "3adc65285bcd41d795c3a0a39a96b332": {
          "model_module": "@jupyter-widgets/controls",
          "model_module_version": "1.5.0",
          "model_name": "ProgressStyleModel",
          "state": {
            "_model_module": "@jupyter-widgets/controls",
            "_model_module_version": "1.5.0",
            "_model_name": "ProgressStyleModel",
            "_view_count": null,
            "_view_module": "@jupyter-widgets/base",
            "_view_module_version": "1.2.0",
            "_view_name": "StyleView",
            "bar_color": null,
            "description_width": ""
          }
        },
        "4195e1e9b8654d7088f950255d13bee1": {
          "model_module": "@jupyter-widgets/controls",
          "model_module_version": "1.5.0",
          "model_name": "ProgressStyleModel",
          "state": {
            "_model_module": "@jupyter-widgets/controls",
            "_model_module_version": "1.5.0",
            "_model_name": "ProgressStyleModel",
            "_view_count": null,
            "_view_module": "@jupyter-widgets/base",
            "_view_module_version": "1.2.0",
            "_view_name": "StyleView",
            "bar_color": null,
            "description_width": ""
          }
        },
        "432724cc970045e7a259d77ad9cb0132": {
          "model_module": "@jupyter-widgets/controls",
          "model_module_version": "1.5.0",
          "model_name": "HTMLModel",
          "state": {
            "_dom_classes": [],
            "_model_module": "@jupyter-widgets/controls",
            "_model_module_version": "1.5.0",
            "_model_name": "HTMLModel",
            "_view_count": null,
            "_view_module": "@jupyter-widgets/controls",
            "_view_module_version": "1.5.0",
            "_view_name": "HTMLView",
            "description": "",
            "description_tooltip": null,
            "layout": "IPY_MODEL_e0548e063ee64e2f8c887ab4f1ac558e",
            "placeholder": "​",
            "style": "IPY_MODEL_656c9c3940c94caba9e0fd0436782a00",
            "value": " 2/2 [00:02&lt;00:00,  1.06s/it]"
          }
        },
        "44a9dba630c6435a982cf0fcc3243b2e": {
          "model_module": "@jupyter-widgets/base",
          "model_module_version": "1.2.0",
          "model_name": "LayoutModel",
          "state": {
            "_model_module": "@jupyter-widgets/base",
            "_model_module_version": "1.2.0",
            "_model_name": "LayoutModel",
            "_view_count": null,
            "_view_module": "@jupyter-widgets/base",
            "_view_module_version": "1.2.0",
            "_view_name": "LayoutView",
            "align_content": null,
            "align_items": null,
            "align_self": null,
            "border": null,
            "bottom": null,
            "display": null,
            "flex": null,
            "flex_flow": null,
            "grid_area": null,
            "grid_auto_columns": null,
            "grid_auto_flow": null,
            "grid_auto_rows": null,
            "grid_column": null,
            "grid_gap": null,
            "grid_row": null,
            "grid_template_areas": null,
            "grid_template_columns": null,
            "grid_template_rows": null,
            "height": null,
            "justify_content": null,
            "justify_items": null,
            "left": null,
            "margin": null,
            "max_height": null,
            "max_width": null,
            "min_height": null,
            "min_width": null,
            "object_fit": null,
            "object_position": null,
            "order": null,
            "overflow": null,
            "overflow_x": null,
            "overflow_y": null,
            "padding": null,
            "right": null,
            "top": null,
            "visibility": "hidden",
            "width": null
          }
        },
        "44c7abc2b719459eb881f3e4be12c63d": {
          "model_module": "@jupyter-widgets/controls",
          "model_module_version": "1.5.0",
          "model_name": "FloatProgressModel",
          "state": {
            "_dom_classes": [],
            "_model_module": "@jupyter-widgets/controls",
            "_model_module_version": "1.5.0",
            "_model_name": "FloatProgressModel",
            "_view_count": null,
            "_view_module": "@jupyter-widgets/controls",
            "_view_module_version": "1.5.0",
            "_view_name": "ProgressView",
            "bar_style": "",
            "description": "",
            "description_tooltip": null,
            "layout": "IPY_MODEL_14afea33883746e49324011134b6552c",
            "max": 2,
            "min": 0,
            "orientation": "horizontal",
            "style": "IPY_MODEL_f55531006f8843a880cfa101464246fb",
            "value": 2
          }
        },
        "4754d821309942688e00e4b18686806c": {
          "model_module": "@jupyter-widgets/controls",
          "model_module_version": "1.5.0",
          "model_name": "HTMLModel",
          "state": {
            "_dom_classes": [],
            "_model_module": "@jupyter-widgets/controls",
            "_model_module_version": "1.5.0",
            "_model_name": "HTMLModel",
            "_view_count": null,
            "_view_module": "@jupyter-widgets/controls",
            "_view_module_version": "1.5.0",
            "_view_name": "HTMLView",
            "description": "",
            "description_tooltip": null,
            "layout": "IPY_MODEL_8e0357f652944798901de46a5039713c",
            "placeholder": "​",
            "style": "IPY_MODEL_f42cf2b1171b4d7580d35f76111b5f21",
            "value": "Test: 100%"
          }
        },
        "489ad451cfeb4f308855cf66097bdf25": {
          "model_module": "@jupyter-widgets/controls",
          "model_module_version": "1.5.0",
          "model_name": "ProgressStyleModel",
          "state": {
            "_model_module": "@jupyter-widgets/controls",
            "_model_module_version": "1.5.0",
            "_model_name": "ProgressStyleModel",
            "_view_count": null,
            "_view_module": "@jupyter-widgets/base",
            "_view_module_version": "1.2.0",
            "_view_name": "StyleView",
            "bar_color": null,
            "description_width": ""
          }
        },
        "4b0a63636d344e4cb442e0a0c7f02deb": {
          "model_module": "@jupyter-widgets/controls",
          "model_module_version": "1.5.0",
          "model_name": "DescriptionStyleModel",
          "state": {
            "_model_module": "@jupyter-widgets/controls",
            "_model_module_version": "1.5.0",
            "_model_name": "DescriptionStyleModel",
            "_view_count": null,
            "_view_module": "@jupyter-widgets/base",
            "_view_module_version": "1.2.0",
            "_view_name": "StyleView",
            "description_width": ""
          }
        },
        "4ca83329126c4140829a1bfbad5b8e6f": {
          "model_module": "@jupyter-widgets/controls",
          "model_module_version": "1.5.0",
          "model_name": "FloatProgressModel",
          "state": {
            "_dom_classes": [],
            "_model_module": "@jupyter-widgets/controls",
            "_model_module_version": "1.5.0",
            "_model_name": "FloatProgressModel",
            "_view_count": null,
            "_view_module": "@jupyter-widgets/controls",
            "_view_module_version": "1.5.0",
            "_view_name": "ProgressView",
            "bar_style": "",
            "description": "",
            "description_tooltip": null,
            "layout": "IPY_MODEL_d835e6e6652d441f98cd5ff266706f24",
            "max": 2,
            "min": 0,
            "orientation": "horizontal",
            "style": "IPY_MODEL_07c58affc44a4549a88d799320dfb56f",
            "value": 2
          }
        },
        "4cb49a03d1f345ad8b7427f8a54e6dc8": {
          "model_module": "@jupyter-widgets/controls",
          "model_module_version": "1.5.0",
          "model_name": "DescriptionStyleModel",
          "state": {
            "_model_module": "@jupyter-widgets/controls",
            "_model_module_version": "1.5.0",
            "_model_name": "DescriptionStyleModel",
            "_view_count": null,
            "_view_module": "@jupyter-widgets/base",
            "_view_module_version": "1.2.0",
            "_view_name": "StyleView",
            "description_width": ""
          }
        },
        "4d5855b7e4d04feda09150d6b453c64f": {
          "model_module": "@jupyter-widgets/base",
          "model_module_version": "1.2.0",
          "model_name": "LayoutModel",
          "state": {
            "_model_module": "@jupyter-widgets/base",
            "_model_module_version": "1.2.0",
            "_model_name": "LayoutModel",
            "_view_count": null,
            "_view_module": "@jupyter-widgets/base",
            "_view_module_version": "1.2.0",
            "_view_name": "LayoutView",
            "align_content": null,
            "align_items": null,
            "align_self": null,
            "border": null,
            "bottom": null,
            "display": null,
            "flex": null,
            "flex_flow": null,
            "grid_area": null,
            "grid_auto_columns": null,
            "grid_auto_flow": null,
            "grid_auto_rows": null,
            "grid_column": null,
            "grid_gap": null,
            "grid_row": null,
            "grid_template_areas": null,
            "grid_template_columns": null,
            "grid_template_rows": null,
            "height": null,
            "justify_content": null,
            "justify_items": null,
            "left": null,
            "margin": null,
            "max_height": null,
            "max_width": null,
            "min_height": null,
            "min_width": null,
            "object_fit": null,
            "object_position": null,
            "order": null,
            "overflow": null,
            "overflow_x": null,
            "overflow_y": null,
            "padding": null,
            "right": null,
            "top": null,
            "visibility": null,
            "width": null
          }
        },
        "4e9108d48f124a64b6b36f669fc359e2": {
          "model_module": "@jupyter-widgets/base",
          "model_module_version": "1.2.0",
          "model_name": "LayoutModel",
          "state": {
            "_model_module": "@jupyter-widgets/base",
            "_model_module_version": "1.2.0",
            "_model_name": "LayoutModel",
            "_view_count": null,
            "_view_module": "@jupyter-widgets/base",
            "_view_module_version": "1.2.0",
            "_view_name": "LayoutView",
            "align_content": null,
            "align_items": null,
            "align_self": null,
            "border": null,
            "bottom": null,
            "display": null,
            "flex": null,
            "flex_flow": null,
            "grid_area": null,
            "grid_auto_columns": null,
            "grid_auto_flow": null,
            "grid_auto_rows": null,
            "grid_column": null,
            "grid_gap": null,
            "grid_row": null,
            "grid_template_areas": null,
            "grid_template_columns": null,
            "grid_template_rows": null,
            "height": null,
            "justify_content": null,
            "justify_items": null,
            "left": null,
            "margin": null,
            "max_height": null,
            "max_width": null,
            "min_height": null,
            "min_width": null,
            "object_fit": null,
            "object_position": null,
            "order": null,
            "overflow": null,
            "overflow_x": null,
            "overflow_y": null,
            "padding": null,
            "right": null,
            "top": null,
            "visibility": null,
            "width": null
          }
        },
        "4f70f1754b2f4f15aa2f6aa8f8ebba4d": {
          "model_module": "@jupyter-widgets/controls",
          "model_module_version": "1.5.0",
          "model_name": "HTMLModel",
          "state": {
            "_dom_classes": [],
            "_model_module": "@jupyter-widgets/controls",
            "_model_module_version": "1.5.0",
            "_model_name": "HTMLModel",
            "_view_count": null,
            "_view_module": "@jupyter-widgets/controls",
            "_view_module_version": "1.5.0",
            "_view_name": "HTMLView",
            "description": "",
            "description_tooltip": null,
            "layout": "IPY_MODEL_9f125b8b2b7245d2970e785cf9ad35de",
            "placeholder": "​",
            "style": "IPY_MODEL_4cb49a03d1f345ad8b7427f8a54e6dc8",
            "value": "Training: 100%"
          }
        },
        "5084be2fa76447d1b9f36319cb202ca6": {
          "model_module": "@jupyter-widgets/controls",
          "model_module_version": "1.5.0",
          "model_name": "HBoxModel",
          "state": {
            "_dom_classes": [],
            "_model_module": "@jupyter-widgets/controls",
            "_model_module_version": "1.5.0",
            "_model_name": "HBoxModel",
            "_view_count": null,
            "_view_module": "@jupyter-widgets/controls",
            "_view_module_version": "1.5.0",
            "_view_name": "HBoxView",
            "box_style": "",
            "children": [
              "IPY_MODEL_f4cbf67d1d5b4e2f9e92add624461c51",
              "IPY_MODEL_4ca83329126c4140829a1bfbad5b8e6f",
              "IPY_MODEL_a1ab466a8bf94cc294dae49ffff29d74"
            ],
            "layout": "IPY_MODEL_cccaa8d5ceca49e2850e5b073838cf19"
          }
        },
        "511168f538a24a91b6950d7047fdb18d": {
          "model_module": "@jupyter-widgets/base",
          "model_module_version": "1.2.0",
          "model_name": "LayoutModel",
          "state": {
            "_model_module": "@jupyter-widgets/base",
            "_model_module_version": "1.2.0",
            "_model_name": "LayoutModel",
            "_view_count": null,
            "_view_module": "@jupyter-widgets/base",
            "_view_module_version": "1.2.0",
            "_view_name": "LayoutView",
            "align_content": null,
            "align_items": null,
            "align_self": null,
            "border": null,
            "bottom": null,
            "display": null,
            "flex": null,
            "flex_flow": null,
            "grid_area": null,
            "grid_auto_columns": null,
            "grid_auto_flow": null,
            "grid_auto_rows": null,
            "grid_column": null,
            "grid_gap": null,
            "grid_row": null,
            "grid_template_areas": null,
            "grid_template_columns": null,
            "grid_template_rows": null,
            "height": null,
            "justify_content": null,
            "justify_items": null,
            "left": null,
            "margin": null,
            "max_height": null,
            "max_width": null,
            "min_height": null,
            "min_width": null,
            "object_fit": null,
            "object_position": null,
            "order": null,
            "overflow": null,
            "overflow_x": null,
            "overflow_y": null,
            "padding": null,
            "right": null,
            "top": null,
            "visibility": null,
            "width": null
          }
        },
        "516b2f3ede0641e8b2a696404d4a54a5": {
          "model_module": "@jupyter-widgets/base",
          "model_module_version": "1.2.0",
          "model_name": "LayoutModel",
          "state": {
            "_model_module": "@jupyter-widgets/base",
            "_model_module_version": "1.2.0",
            "_model_name": "LayoutModel",
            "_view_count": null,
            "_view_module": "@jupyter-widgets/base",
            "_view_module_version": "1.2.0",
            "_view_name": "LayoutView",
            "align_content": null,
            "align_items": null,
            "align_self": null,
            "border": null,
            "bottom": null,
            "display": null,
            "flex": null,
            "flex_flow": null,
            "grid_area": null,
            "grid_auto_columns": null,
            "grid_auto_flow": null,
            "grid_auto_rows": null,
            "grid_column": null,
            "grid_gap": null,
            "grid_row": null,
            "grid_template_areas": null,
            "grid_template_columns": null,
            "grid_template_rows": null,
            "height": null,
            "justify_content": null,
            "justify_items": null,
            "left": null,
            "margin": null,
            "max_height": null,
            "max_width": null,
            "min_height": null,
            "min_width": null,
            "object_fit": null,
            "object_position": null,
            "order": null,
            "overflow": null,
            "overflow_x": null,
            "overflow_y": null,
            "padding": null,
            "right": null,
            "top": null,
            "visibility": "hidden",
            "width": null
          }
        },
        "51b4b4a8890a4d688b9ef650ff2ef120": {
          "model_module": "@jupyter-widgets/controls",
          "model_module_version": "1.5.0",
          "model_name": "DescriptionStyleModel",
          "state": {
            "_model_module": "@jupyter-widgets/controls",
            "_model_module_version": "1.5.0",
            "_model_name": "DescriptionStyleModel",
            "_view_count": null,
            "_view_module": "@jupyter-widgets/base",
            "_view_module_version": "1.2.0",
            "_view_name": "StyleView",
            "description_width": ""
          }
        },
        "58962c3823bb45d9a7e961cedc2db1ae": {
          "model_module": "@jupyter-widgets/controls",
          "model_module_version": "1.5.0",
          "model_name": "FloatProgressModel",
          "state": {
            "_dom_classes": [],
            "_model_module": "@jupyter-widgets/controls",
            "_model_module_version": "1.5.0",
            "_model_name": "FloatProgressModel",
            "_view_count": null,
            "_view_module": "@jupyter-widgets/controls",
            "_view_module_version": "1.5.0",
            "_view_name": "ProgressView",
            "bar_style": "",
            "description": "",
            "description_tooltip": null,
            "layout": "IPY_MODEL_4d5855b7e4d04feda09150d6b453c64f",
            "max": 1,
            "min": 0,
            "orientation": "horizontal",
            "style": "IPY_MODEL_d2868c0eb6fc40f394d2fc472e9c774d",
            "value": 1
          }
        },
        "59413fef114243938888d47771182677": {
          "model_module": "@jupyter-widgets/base",
          "model_module_version": "1.2.0",
          "model_name": "LayoutModel",
          "state": {
            "_model_module": "@jupyter-widgets/base",
            "_model_module_version": "1.2.0",
            "_model_name": "LayoutModel",
            "_view_count": null,
            "_view_module": "@jupyter-widgets/base",
            "_view_module_version": "1.2.0",
            "_view_name": "LayoutView",
            "align_content": null,
            "align_items": null,
            "align_self": null,
            "border": null,
            "bottom": null,
            "display": null,
            "flex": null,
            "flex_flow": null,
            "grid_area": null,
            "grid_auto_columns": null,
            "grid_auto_flow": null,
            "grid_auto_rows": null,
            "grid_column": null,
            "grid_gap": null,
            "grid_row": null,
            "grid_template_areas": null,
            "grid_template_columns": null,
            "grid_template_rows": null,
            "height": null,
            "justify_content": null,
            "justify_items": null,
            "left": null,
            "margin": null,
            "max_height": null,
            "max_width": null,
            "min_height": null,
            "min_width": null,
            "object_fit": null,
            "object_position": null,
            "order": null,
            "overflow": null,
            "overflow_x": null,
            "overflow_y": null,
            "padding": null,
            "right": null,
            "top": null,
            "visibility": null,
            "width": null
          }
        },
        "5a3057e1579c4705aa63531a4287b53d": {
          "model_module": "@jupyter-widgets/controls",
          "model_module_version": "1.5.0",
          "model_name": "HBoxModel",
          "state": {
            "_dom_classes": [],
            "_model_module": "@jupyter-widgets/controls",
            "_model_module_version": "1.5.0",
            "_model_name": "HBoxModel",
            "_view_count": null,
            "_view_module": "@jupyter-widgets/controls",
            "_view_module_version": "1.5.0",
            "_view_name": "HBoxView",
            "box_style": "",
            "children": [
              "IPY_MODEL_eefd08676d8d42c7ac44bbe87309316e",
              "IPY_MODEL_58962c3823bb45d9a7e961cedc2db1ae",
              "IPY_MODEL_da7f87a273d849be9389e1d64f389d2e"
            ],
            "layout": "IPY_MODEL_0db1886585ad4e0cab8737438c6784d7"
          }
        },
        "5b25a9d285444ba1af132c224162752d": {
          "model_module": "@jupyter-widgets/controls",
          "model_module_version": "1.5.0",
          "model_name": "HBoxModel",
          "state": {
            "_dom_classes": [],
            "_model_module": "@jupyter-widgets/controls",
            "_model_module_version": "1.5.0",
            "_model_name": "HBoxModel",
            "_view_count": null,
            "_view_module": "@jupyter-widgets/controls",
            "_view_module_version": "1.5.0",
            "_view_name": "HBoxView",
            "box_style": "",
            "children": [
              "IPY_MODEL_eeca797e3ea44d26b9ef79118e0f8dd3",
              "IPY_MODEL_8388cf2094ce46598d34564742a7f2eb",
              "IPY_MODEL_b81b1586bad349499a8dbd8f7a36aec0"
            ],
            "layout": "IPY_MODEL_cce6f1393c23462795f7d1099dac82a7"
          }
        },
        "5d67ed086d6a43ce9af29026e08cd0e1": {
          "model_module": "@jupyter-widgets/base",
          "model_module_version": "1.2.0",
          "model_name": "LayoutModel",
          "state": {
            "_model_module": "@jupyter-widgets/base",
            "_model_module_version": "1.2.0",
            "_model_name": "LayoutModel",
            "_view_count": null,
            "_view_module": "@jupyter-widgets/base",
            "_view_module_version": "1.2.0",
            "_view_name": "LayoutView",
            "align_content": null,
            "align_items": null,
            "align_self": null,
            "border": null,
            "bottom": null,
            "display": null,
            "flex": null,
            "flex_flow": null,
            "grid_area": null,
            "grid_auto_columns": null,
            "grid_auto_flow": null,
            "grid_auto_rows": null,
            "grid_column": null,
            "grid_gap": null,
            "grid_row": null,
            "grid_template_areas": null,
            "grid_template_columns": null,
            "grid_template_rows": null,
            "height": null,
            "justify_content": null,
            "justify_items": null,
            "left": null,
            "margin": null,
            "max_height": null,
            "max_width": null,
            "min_height": null,
            "min_width": null,
            "object_fit": null,
            "object_position": null,
            "order": null,
            "overflow": null,
            "overflow_x": null,
            "overflow_y": null,
            "padding": null,
            "right": null,
            "top": null,
            "visibility": null,
            "width": null
          }
        },
        "609a47edbb4f4dbb922a0a809973a5b2": {
          "model_module": "@jupyter-widgets/controls",
          "model_module_version": "1.5.0",
          "model_name": "FloatProgressModel",
          "state": {
            "_dom_classes": [],
            "_model_module": "@jupyter-widgets/controls",
            "_model_module_version": "1.5.0",
            "_model_name": "FloatProgressModel",
            "_view_count": null,
            "_view_module": "@jupyter-widgets/controls",
            "_view_module_version": "1.5.0",
            "_view_name": "ProgressView",
            "bar_style": "",
            "description": "",
            "description_tooltip": null,
            "layout": "IPY_MODEL_95be1f3de78b4950bb91cc604ed42e5e",
            "max": 12,
            "min": 0,
            "orientation": "horizontal",
            "style": "IPY_MODEL_c2bc91a1f7d24d1481dfd94e965fc9a2",
            "value": 12
          }
        },
        "60ff446c7fb74b988c594a477903e9e2": {
          "model_module": "@jupyter-widgets/base",
          "model_module_version": "1.2.0",
          "model_name": "LayoutModel",
          "state": {
            "_model_module": "@jupyter-widgets/base",
            "_model_module_version": "1.2.0",
            "_model_name": "LayoutModel",
            "_view_count": null,
            "_view_module": "@jupyter-widgets/base",
            "_view_module_version": "1.2.0",
            "_view_name": "LayoutView",
            "align_content": null,
            "align_items": null,
            "align_self": null,
            "border": null,
            "bottom": null,
            "display": null,
            "flex": null,
            "flex_flow": null,
            "grid_area": null,
            "grid_auto_columns": null,
            "grid_auto_flow": null,
            "grid_auto_rows": null,
            "grid_column": null,
            "grid_gap": null,
            "grid_row": null,
            "grid_template_areas": null,
            "grid_template_columns": null,
            "grid_template_rows": null,
            "height": null,
            "justify_content": null,
            "justify_items": null,
            "left": null,
            "margin": null,
            "max_height": null,
            "max_width": null,
            "min_height": null,
            "min_width": null,
            "object_fit": null,
            "object_position": null,
            "order": null,
            "overflow": null,
            "overflow_x": null,
            "overflow_y": null,
            "padding": null,
            "right": null,
            "top": null,
            "visibility": null,
            "width": null
          }
        },
        "6111c3d4448649a9a9bd875b22d0a9b2": {
          "model_module": "@jupyter-widgets/base",
          "model_module_version": "1.2.0",
          "model_name": "LayoutModel",
          "state": {
            "_model_module": "@jupyter-widgets/base",
            "_model_module_version": "1.2.0",
            "_model_name": "LayoutModel",
            "_view_count": null,
            "_view_module": "@jupyter-widgets/base",
            "_view_module_version": "1.2.0",
            "_view_name": "LayoutView",
            "align_content": null,
            "align_items": null,
            "align_self": null,
            "border": null,
            "bottom": null,
            "display": null,
            "flex": null,
            "flex_flow": null,
            "grid_area": null,
            "grid_auto_columns": null,
            "grid_auto_flow": null,
            "grid_auto_rows": null,
            "grid_column": null,
            "grid_gap": null,
            "grid_row": null,
            "grid_template_areas": null,
            "grid_template_columns": null,
            "grid_template_rows": null,
            "height": null,
            "justify_content": null,
            "justify_items": null,
            "left": null,
            "margin": null,
            "max_height": null,
            "max_width": null,
            "min_height": null,
            "min_width": null,
            "object_fit": null,
            "object_position": null,
            "order": null,
            "overflow": null,
            "overflow_x": null,
            "overflow_y": null,
            "padding": null,
            "right": null,
            "top": null,
            "visibility": null,
            "width": null
          }
        },
        "614a3b4d3c4748ac8590a9f17a1535e9": {
          "model_module": "@jupyter-widgets/controls",
          "model_module_version": "1.5.0",
          "model_name": "HTMLModel",
          "state": {
            "_dom_classes": [],
            "_model_module": "@jupyter-widgets/controls",
            "_model_module_version": "1.5.0",
            "_model_name": "HTMLModel",
            "_view_count": null,
            "_view_module": "@jupyter-widgets/controls",
            "_view_module_version": "1.5.0",
            "_view_name": "HTMLView",
            "description": "",
            "description_tooltip": null,
            "layout": "IPY_MODEL_2063a3139a51474297327c6736897460",
            "placeholder": "​",
            "style": "IPY_MODEL_984fa47a0c8d45f9bffa73105ee7fb9e",
            "value": " 1/1 [01:14&lt;00:00, 74.63s/it]"
          }
        },
        "61e328ca6bd94558972aeaa863a3181b": {
          "model_module": "@jupyter-widgets/base",
          "model_module_version": "1.2.0",
          "model_name": "LayoutModel",
          "state": {
            "_model_module": "@jupyter-widgets/base",
            "_model_module_version": "1.2.0",
            "_model_name": "LayoutModel",
            "_view_count": null,
            "_view_module": "@jupyter-widgets/base",
            "_view_module_version": "1.2.0",
            "_view_name": "LayoutView",
            "align_content": null,
            "align_items": null,
            "align_self": null,
            "border": null,
            "bottom": null,
            "display": null,
            "flex": null,
            "flex_flow": null,
            "grid_area": null,
            "grid_auto_columns": null,
            "grid_auto_flow": null,
            "grid_auto_rows": null,
            "grid_column": null,
            "grid_gap": null,
            "grid_row": null,
            "grid_template_areas": null,
            "grid_template_columns": null,
            "grid_template_rows": null,
            "height": null,
            "justify_content": null,
            "justify_items": null,
            "left": null,
            "margin": null,
            "max_height": null,
            "max_width": null,
            "min_height": null,
            "min_width": null,
            "object_fit": null,
            "object_position": null,
            "order": null,
            "overflow": null,
            "overflow_x": null,
            "overflow_y": null,
            "padding": null,
            "right": null,
            "top": null,
            "visibility": "hidden",
            "width": null
          }
        },
        "656c9c3940c94caba9e0fd0436782a00": {
          "model_module": "@jupyter-widgets/controls",
          "model_module_version": "1.5.0",
          "model_name": "DescriptionStyleModel",
          "state": {
            "_model_module": "@jupyter-widgets/controls",
            "_model_module_version": "1.5.0",
            "_model_name": "DescriptionStyleModel",
            "_view_count": null,
            "_view_module": "@jupyter-widgets/base",
            "_view_module_version": "1.2.0",
            "_view_name": "StyleView",
            "description_width": ""
          }
        },
        "6684bdedafdf47db8f1788c8b21aa2b6": {
          "model_module": "@jupyter-widgets/base",
          "model_module_version": "1.2.0",
          "model_name": "LayoutModel",
          "state": {
            "_model_module": "@jupyter-widgets/base",
            "_model_module_version": "1.2.0",
            "_model_name": "LayoutModel",
            "_view_count": null,
            "_view_module": "@jupyter-widgets/base",
            "_view_module_version": "1.2.0",
            "_view_name": "LayoutView",
            "align_content": null,
            "align_items": null,
            "align_self": null,
            "border": null,
            "bottom": null,
            "display": null,
            "flex": null,
            "flex_flow": null,
            "grid_area": null,
            "grid_auto_columns": null,
            "grid_auto_flow": null,
            "grid_auto_rows": null,
            "grid_column": null,
            "grid_gap": null,
            "grid_row": null,
            "grid_template_areas": null,
            "grid_template_columns": null,
            "grid_template_rows": null,
            "height": null,
            "justify_content": null,
            "justify_items": null,
            "left": null,
            "margin": null,
            "max_height": null,
            "max_width": null,
            "min_height": null,
            "min_width": null,
            "object_fit": null,
            "object_position": null,
            "order": null,
            "overflow": null,
            "overflow_x": null,
            "overflow_y": null,
            "padding": null,
            "right": null,
            "top": null,
            "visibility": null,
            "width": null
          }
        },
        "6818929fd80a4ed5a006f7abc855b32e": {
          "model_module": "@jupyter-widgets/base",
          "model_module_version": "1.2.0",
          "model_name": "LayoutModel",
          "state": {
            "_model_module": "@jupyter-widgets/base",
            "_model_module_version": "1.2.0",
            "_model_name": "LayoutModel",
            "_view_count": null,
            "_view_module": "@jupyter-widgets/base",
            "_view_module_version": "1.2.0",
            "_view_name": "LayoutView",
            "align_content": null,
            "align_items": null,
            "align_self": null,
            "border": null,
            "bottom": null,
            "display": null,
            "flex": null,
            "flex_flow": null,
            "grid_area": null,
            "grid_auto_columns": null,
            "grid_auto_flow": null,
            "grid_auto_rows": null,
            "grid_column": null,
            "grid_gap": null,
            "grid_row": null,
            "grid_template_areas": null,
            "grid_template_columns": null,
            "grid_template_rows": null,
            "height": null,
            "justify_content": null,
            "justify_items": null,
            "left": null,
            "margin": null,
            "max_height": null,
            "max_width": null,
            "min_height": null,
            "min_width": null,
            "object_fit": null,
            "object_position": null,
            "order": null,
            "overflow": null,
            "overflow_x": null,
            "overflow_y": null,
            "padding": null,
            "right": null,
            "top": null,
            "visibility": null,
            "width": null
          }
        },
        "6a485409a965492eaab88d343ed7d1af": {
          "model_module": "@jupyter-widgets/base",
          "model_module_version": "1.2.0",
          "model_name": "LayoutModel",
          "state": {
            "_model_module": "@jupyter-widgets/base",
            "_model_module_version": "1.2.0",
            "_model_name": "LayoutModel",
            "_view_count": null,
            "_view_module": "@jupyter-widgets/base",
            "_view_module_version": "1.2.0",
            "_view_name": "LayoutView",
            "align_content": null,
            "align_items": null,
            "align_self": null,
            "border": null,
            "bottom": null,
            "display": null,
            "flex": null,
            "flex_flow": null,
            "grid_area": null,
            "grid_auto_columns": null,
            "grid_auto_flow": null,
            "grid_auto_rows": null,
            "grid_column": null,
            "grid_gap": null,
            "grid_row": null,
            "grid_template_areas": null,
            "grid_template_columns": null,
            "grid_template_rows": null,
            "height": null,
            "justify_content": null,
            "justify_items": null,
            "left": null,
            "margin": null,
            "max_height": null,
            "max_width": null,
            "min_height": null,
            "min_width": null,
            "object_fit": null,
            "object_position": null,
            "order": null,
            "overflow": null,
            "overflow_x": null,
            "overflow_y": null,
            "padding": null,
            "right": null,
            "top": null,
            "visibility": null,
            "width": null
          }
        },
        "6a5db34c88b24caa871729a66520607f": {
          "model_module": "@jupyter-widgets/controls",
          "model_module_version": "1.5.0",
          "model_name": "DescriptionStyleModel",
          "state": {
            "_model_module": "@jupyter-widgets/controls",
            "_model_module_version": "1.5.0",
            "_model_name": "DescriptionStyleModel",
            "_view_count": null,
            "_view_module": "@jupyter-widgets/base",
            "_view_module_version": "1.2.0",
            "_view_name": "StyleView",
            "description_width": ""
          }
        },
        "6a77487d7d204376b90ab904048e9315": {
          "model_module": "@jupyter-widgets/controls",
          "model_module_version": "1.5.0",
          "model_name": "HBoxModel",
          "state": {
            "_dom_classes": [],
            "_model_module": "@jupyter-widgets/controls",
            "_model_module_version": "1.5.0",
            "_model_name": "HBoxModel",
            "_view_count": null,
            "_view_module": "@jupyter-widgets/controls",
            "_view_module_version": "1.5.0",
            "_view_name": "HBoxView",
            "box_style": "",
            "children": [
              "IPY_MODEL_7a6058339eff4ca5aaa7381adb893043",
              "IPY_MODEL_ba7a0725d18348749b5cc74d0657c69e",
              "IPY_MODEL_7a6bbb2969f44e96bdab01a1581e4d62"
            ],
            "layout": "IPY_MODEL_61e328ca6bd94558972aeaa863a3181b"
          }
        },
        "6bede7203b9d4ebda95aafb32908a1b0": {
          "model_module": "@jupyter-widgets/controls",
          "model_module_version": "1.5.0",
          "model_name": "HTMLModel",
          "state": {
            "_dom_classes": [],
            "_model_module": "@jupyter-widgets/controls",
            "_model_module_version": "1.5.0",
            "_model_name": "HTMLModel",
            "_view_count": null,
            "_view_module": "@jupyter-widgets/controls",
            "_view_module_version": "1.5.0",
            "_view_name": "HTMLView",
            "description": "",
            "description_tooltip": null,
            "layout": "IPY_MODEL_a127dac85ceb4c26a216e598ca51b8ee",
            "placeholder": "​",
            "style": "IPY_MODEL_c73194577bc24307b72144fe948197e6",
            "value": " 12/12 [14:36&lt;00:00, 67.25s/it]"
          }
        },
        "6ec6da1785e24b3db64b203d0ec5aaee": {
          "model_module": "@jupyter-widgets/controls",
          "model_module_version": "1.5.0",
          "model_name": "ProgressStyleModel",
          "state": {
            "_model_module": "@jupyter-widgets/controls",
            "_model_module_version": "1.5.0",
            "_model_name": "ProgressStyleModel",
            "_view_count": null,
            "_view_module": "@jupyter-widgets/base",
            "_view_module_version": "1.2.0",
            "_view_name": "StyleView",
            "bar_color": null,
            "description_width": ""
          }
        },
        "7136e8698dfa4366be2eb2dcdac061be": {
          "model_module": "@jupyter-widgets/controls",
          "model_module_version": "1.5.0",
          "model_name": "ProgressStyleModel",
          "state": {
            "_model_module": "@jupyter-widgets/controls",
            "_model_module_version": "1.5.0",
            "_model_name": "ProgressStyleModel",
            "_view_count": null,
            "_view_module": "@jupyter-widgets/base",
            "_view_module_version": "1.2.0",
            "_view_name": "StyleView",
            "bar_color": null,
            "description_width": ""
          }
        },
        "729f4d25fe724bfa8be239b67975c6cd": {
          "model_module": "@jupyter-widgets/controls",
          "model_module_version": "1.5.0",
          "model_name": "FloatProgressModel",
          "state": {
            "_dom_classes": [],
            "_model_module": "@jupyter-widgets/controls",
            "_model_module_version": "1.5.0",
            "_model_name": "FloatProgressModel",
            "_view_count": null,
            "_view_module": "@jupyter-widgets/controls",
            "_view_module_version": "1.5.0",
            "_view_name": "ProgressView",
            "bar_style": "",
            "description": "",
            "description_tooltip": null,
            "layout": "IPY_MODEL_233fe2fc05be452bbb618cb276c2567c",
            "max": 1,
            "min": 0,
            "orientation": "horizontal",
            "style": "IPY_MODEL_aefd4e84909440bd91ea32c357c8ca65",
            "value": 1
          }
        },
        "7766587d0d5644509ac9a83dc33206f0": {
          "model_module": "@jupyter-widgets/controls",
          "model_module_version": "1.5.0",
          "model_name": "HTMLModel",
          "state": {
            "_dom_classes": [],
            "_model_module": "@jupyter-widgets/controls",
            "_model_module_version": "1.5.0",
            "_model_name": "HTMLModel",
            "_view_count": null,
            "_view_module": "@jupyter-widgets/controls",
            "_view_module_version": "1.5.0",
            "_view_name": "HTMLView",
            "description": "",
            "description_tooltip": null,
            "layout": "IPY_MODEL_c912d7c9add24c70b0d5adeb54317cde",
            "placeholder": "​",
            "style": "IPY_MODEL_cf54ed30fc9d4821b44034c0f23e8971",
            "value": "Epochs: 100%"
          }
        },
        "7a6058339eff4ca5aaa7381adb893043": {
          "model_module": "@jupyter-widgets/controls",
          "model_module_version": "1.5.0",
          "model_name": "HTMLModel",
          "state": {
            "_dom_classes": [],
            "_model_module": "@jupyter-widgets/controls",
            "_model_module_version": "1.5.0",
            "_model_name": "HTMLModel",
            "_view_count": null,
            "_view_module": "@jupyter-widgets/controls",
            "_view_module_version": "1.5.0",
            "_view_name": "HTMLView",
            "description": "",
            "description_tooltip": null,
            "layout": "IPY_MODEL_fe5eb9ccacdf4581abebea461826d404",
            "placeholder": "​",
            "style": "IPY_MODEL_8b1551acecca494db881ccf555419cb6",
            "value": "Training: 100%"
          }
        },
        "7a6bbb2969f44e96bdab01a1581e4d62": {
          "model_module": "@jupyter-widgets/controls",
          "model_module_version": "1.5.0",
          "model_name": "HTMLModel",
          "state": {
            "_dom_classes": [],
            "_model_module": "@jupyter-widgets/controls",
            "_model_module_version": "1.5.0",
            "_model_name": "HTMLModel",
            "_view_count": null,
            "_view_module": "@jupyter-widgets/controls",
            "_view_module_version": "1.5.0",
            "_view_name": "HTMLView",
            "description": "",
            "description_tooltip": null,
            "layout": "IPY_MODEL_8803ae0c72bf4f1d9d9481fbb51a8102",
            "placeholder": "​",
            "style": "IPY_MODEL_51b4b4a8890a4d688b9ef650ff2ef120",
            "value": " 16/16 [00:25&lt;00:00,  1.15s/it]"
          }
        },
        "7b0949cdb6e64eba9ac230e8e980103e": {
          "model_module": "@jupyter-widgets/controls",
          "model_module_version": "1.5.0",
          "model_name": "HTMLModel",
          "state": {
            "_dom_classes": [],
            "_model_module": "@jupyter-widgets/controls",
            "_model_module_version": "1.5.0",
            "_model_name": "HTMLModel",
            "_view_count": null,
            "_view_module": "@jupyter-widgets/controls",
            "_view_module_version": "1.5.0",
            "_view_name": "HTMLView",
            "description": "",
            "description_tooltip": null,
            "layout": "IPY_MODEL_2209b0f97bd84eab99894db288a7a4be",
            "placeholder": "​",
            "style": "IPY_MODEL_af9bd42e7a474a75a26deaac652fe637",
            "value": "Validation: 100%"
          }
        },
        "7ca81bbf3e6649b0baa1e1e1814e3934": {
          "model_module": "@jupyter-widgets/controls",
          "model_module_version": "1.5.0",
          "model_name": "HBoxModel",
          "state": {
            "_dom_classes": [],
            "_model_module": "@jupyter-widgets/controls",
            "_model_module_version": "1.5.0",
            "_model_name": "HBoxModel",
            "_view_count": null,
            "_view_module": "@jupyter-widgets/controls",
            "_view_module_version": "1.5.0",
            "_view_name": "HBoxView",
            "box_style": "",
            "children": [
              "IPY_MODEL_da4583b6060344c59b11783398b796a6",
              "IPY_MODEL_350abe90b10247c08edd20676cdbb08d",
              "IPY_MODEL_6bede7203b9d4ebda95aafb32908a1b0"
            ],
            "layout": "IPY_MODEL_18eeb743436d4dcd8da07d7aadc92b57"
          }
        },
        "7f89049c5dea413ba3d43e455cc9f641": {
          "model_module": "@jupyter-widgets/base",
          "model_module_version": "1.2.0",
          "model_name": "LayoutModel",
          "state": {
            "_model_module": "@jupyter-widgets/base",
            "_model_module_version": "1.2.0",
            "_model_name": "LayoutModel",
            "_view_count": null,
            "_view_module": "@jupyter-widgets/base",
            "_view_module_version": "1.2.0",
            "_view_name": "LayoutView",
            "align_content": null,
            "align_items": null,
            "align_self": null,
            "border": null,
            "bottom": null,
            "display": null,
            "flex": null,
            "flex_flow": null,
            "grid_area": null,
            "grid_auto_columns": null,
            "grid_auto_flow": null,
            "grid_auto_rows": null,
            "grid_column": null,
            "grid_gap": null,
            "grid_row": null,
            "grid_template_areas": null,
            "grid_template_columns": null,
            "grid_template_rows": null,
            "height": null,
            "justify_content": null,
            "justify_items": null,
            "left": null,
            "margin": null,
            "max_height": null,
            "max_width": null,
            "min_height": null,
            "min_width": null,
            "object_fit": null,
            "object_position": null,
            "order": null,
            "overflow": null,
            "overflow_x": null,
            "overflow_y": null,
            "padding": null,
            "right": null,
            "top": null,
            "visibility": null,
            "width": null
          }
        },
        "7fb1621d67d84cdba841cd2069959f29": {
          "model_module": "@jupyter-widgets/base",
          "model_module_version": "1.2.0",
          "model_name": "LayoutModel",
          "state": {
            "_model_module": "@jupyter-widgets/base",
            "_model_module_version": "1.2.0",
            "_model_name": "LayoutModel",
            "_view_count": null,
            "_view_module": "@jupyter-widgets/base",
            "_view_module_version": "1.2.0",
            "_view_name": "LayoutView",
            "align_content": null,
            "align_items": null,
            "align_self": null,
            "border": null,
            "bottom": null,
            "display": null,
            "flex": null,
            "flex_flow": null,
            "grid_area": null,
            "grid_auto_columns": null,
            "grid_auto_flow": null,
            "grid_auto_rows": null,
            "grid_column": null,
            "grid_gap": null,
            "grid_row": null,
            "grid_template_areas": null,
            "grid_template_columns": null,
            "grid_template_rows": null,
            "height": null,
            "justify_content": null,
            "justify_items": null,
            "left": null,
            "margin": null,
            "max_height": null,
            "max_width": null,
            "min_height": null,
            "min_width": null,
            "object_fit": null,
            "object_position": null,
            "order": null,
            "overflow": null,
            "overflow_x": null,
            "overflow_y": null,
            "padding": null,
            "right": null,
            "top": null,
            "visibility": "hidden",
            "width": null
          }
        },
        "815b26ffe64c46ffbc2524c2c147262b": {
          "model_module": "@jupyter-widgets/controls",
          "model_module_version": "1.5.0",
          "model_name": "DescriptionStyleModel",
          "state": {
            "_model_module": "@jupyter-widgets/controls",
            "_model_module_version": "1.5.0",
            "_model_name": "DescriptionStyleModel",
            "_view_count": null,
            "_view_module": "@jupyter-widgets/base",
            "_view_module_version": "1.2.0",
            "_view_name": "StyleView",
            "description_width": ""
          }
        },
        "825c9fe9a3e94c86bc9264992c003634": {
          "model_module": "@jupyter-widgets/base",
          "model_module_version": "1.2.0",
          "model_name": "LayoutModel",
          "state": {
            "_model_module": "@jupyter-widgets/base",
            "_model_module_version": "1.2.0",
            "_model_name": "LayoutModel",
            "_view_count": null,
            "_view_module": "@jupyter-widgets/base",
            "_view_module_version": "1.2.0",
            "_view_name": "LayoutView",
            "align_content": null,
            "align_items": null,
            "align_self": null,
            "border": null,
            "bottom": null,
            "display": null,
            "flex": null,
            "flex_flow": null,
            "grid_area": null,
            "grid_auto_columns": null,
            "grid_auto_flow": null,
            "grid_auto_rows": null,
            "grid_column": null,
            "grid_gap": null,
            "grid_row": null,
            "grid_template_areas": null,
            "grid_template_columns": null,
            "grid_template_rows": null,
            "height": null,
            "justify_content": null,
            "justify_items": null,
            "left": null,
            "margin": null,
            "max_height": null,
            "max_width": null,
            "min_height": null,
            "min_width": null,
            "object_fit": null,
            "object_position": null,
            "order": null,
            "overflow": null,
            "overflow_x": null,
            "overflow_y": null,
            "padding": null,
            "right": null,
            "top": null,
            "visibility": null,
            "width": null
          }
        },
        "8388cf2094ce46598d34564742a7f2eb": {
          "model_module": "@jupyter-widgets/controls",
          "model_module_version": "1.5.0",
          "model_name": "FloatProgressModel",
          "state": {
            "_dom_classes": [],
            "_model_module": "@jupyter-widgets/controls",
            "_model_module_version": "1.5.0",
            "_model_name": "FloatProgressModel",
            "_view_count": null,
            "_view_module": "@jupyter-widgets/controls",
            "_view_module_version": "1.5.0",
            "_view_name": "ProgressView",
            "bar_style": "",
            "description": "",
            "description_tooltip": null,
            "layout": "IPY_MODEL_ab17366f9c254fb69aae9002713bb13b",
            "max": 16,
            "min": 0,
            "orientation": "horizontal",
            "style": "IPY_MODEL_7136e8698dfa4366be2eb2dcdac061be",
            "value": 16
          }
        },
        "83e5bddc93114f2fac536333e5687fbb": {
          "model_module": "@jupyter-widgets/controls",
          "model_module_version": "1.5.0",
          "model_name": "DescriptionStyleModel",
          "state": {
            "_model_module": "@jupyter-widgets/controls",
            "_model_module_version": "1.5.0",
            "_model_name": "DescriptionStyleModel",
            "_view_count": null,
            "_view_module": "@jupyter-widgets/base",
            "_view_module_version": "1.2.0",
            "_view_name": "StyleView",
            "description_width": ""
          }
        },
        "8803ae0c72bf4f1d9d9481fbb51a8102": {
          "model_module": "@jupyter-widgets/base",
          "model_module_version": "1.2.0",
          "model_name": "LayoutModel",
          "state": {
            "_model_module": "@jupyter-widgets/base",
            "_model_module_version": "1.2.0",
            "_model_name": "LayoutModel",
            "_view_count": null,
            "_view_module": "@jupyter-widgets/base",
            "_view_module_version": "1.2.0",
            "_view_name": "LayoutView",
            "align_content": null,
            "align_items": null,
            "align_self": null,
            "border": null,
            "bottom": null,
            "display": null,
            "flex": null,
            "flex_flow": null,
            "grid_area": null,
            "grid_auto_columns": null,
            "grid_auto_flow": null,
            "grid_auto_rows": null,
            "grid_column": null,
            "grid_gap": null,
            "grid_row": null,
            "grid_template_areas": null,
            "grid_template_columns": null,
            "grid_template_rows": null,
            "height": null,
            "justify_content": null,
            "justify_items": null,
            "left": null,
            "margin": null,
            "max_height": null,
            "max_width": null,
            "min_height": null,
            "min_width": null,
            "object_fit": null,
            "object_position": null,
            "order": null,
            "overflow": null,
            "overflow_x": null,
            "overflow_y": null,
            "padding": null,
            "right": null,
            "top": null,
            "visibility": null,
            "width": null
          }
        },
        "88cfae512ab44c5ca77f88f7d556d03d": {
          "model_module": "@jupyter-widgets/controls",
          "model_module_version": "1.5.0",
          "model_name": "HTMLModel",
          "state": {
            "_dom_classes": [],
            "_model_module": "@jupyter-widgets/controls",
            "_model_module_version": "1.5.0",
            "_model_name": "HTMLModel",
            "_view_count": null,
            "_view_module": "@jupyter-widgets/controls",
            "_view_module_version": "1.5.0",
            "_view_name": "HTMLView",
            "description": "",
            "description_tooltip": null,
            "layout": "IPY_MODEL_077bad3268a5455a84dfcce2d225fd77",
            "placeholder": "​",
            "style": "IPY_MODEL_f601a59ef7df42fcb17abbbb466af42e",
            "value": "Validation: 100%"
          }
        },
        "8aaece6ef7c94b7fbd0116ce7ca09503": {
          "model_module": "@jupyter-widgets/base",
          "model_module_version": "1.2.0",
          "model_name": "LayoutModel",
          "state": {
            "_model_module": "@jupyter-widgets/base",
            "_model_module_version": "1.2.0",
            "_model_name": "LayoutModel",
            "_view_count": null,
            "_view_module": "@jupyter-widgets/base",
            "_view_module_version": "1.2.0",
            "_view_name": "LayoutView",
            "align_content": null,
            "align_items": null,
            "align_self": null,
            "border": null,
            "bottom": null,
            "display": null,
            "flex": null,
            "flex_flow": null,
            "grid_area": null,
            "grid_auto_columns": null,
            "grid_auto_flow": null,
            "grid_auto_rows": null,
            "grid_column": null,
            "grid_gap": null,
            "grid_row": null,
            "grid_template_areas": null,
            "grid_template_columns": null,
            "grid_template_rows": null,
            "height": null,
            "justify_content": null,
            "justify_items": null,
            "left": null,
            "margin": null,
            "max_height": null,
            "max_width": null,
            "min_height": null,
            "min_width": null,
            "object_fit": null,
            "object_position": null,
            "order": null,
            "overflow": null,
            "overflow_x": null,
            "overflow_y": null,
            "padding": null,
            "right": null,
            "top": null,
            "visibility": null,
            "width": null
          }
        },
        "8b1551acecca494db881ccf555419cb6": {
          "model_module": "@jupyter-widgets/controls",
          "model_module_version": "1.5.0",
          "model_name": "DescriptionStyleModel",
          "state": {
            "_model_module": "@jupyter-widgets/controls",
            "_model_module_version": "1.5.0",
            "_model_name": "DescriptionStyleModel",
            "_view_count": null,
            "_view_module": "@jupyter-widgets/base",
            "_view_module_version": "1.2.0",
            "_view_name": "StyleView",
            "description_width": ""
          }
        },
        "8c519e082cfb4fb08985dabf064e12aa": {
          "model_module": "@jupyter-widgets/base",
          "model_module_version": "1.2.0",
          "model_name": "LayoutModel",
          "state": {
            "_model_module": "@jupyter-widgets/base",
            "_model_module_version": "1.2.0",
            "_model_name": "LayoutModel",
            "_view_count": null,
            "_view_module": "@jupyter-widgets/base",
            "_view_module_version": "1.2.0",
            "_view_name": "LayoutView",
            "align_content": null,
            "align_items": null,
            "align_self": null,
            "border": null,
            "bottom": null,
            "display": null,
            "flex": null,
            "flex_flow": null,
            "grid_area": null,
            "grid_auto_columns": null,
            "grid_auto_flow": null,
            "grid_auto_rows": null,
            "grid_column": null,
            "grid_gap": null,
            "grid_row": null,
            "grid_template_areas": null,
            "grid_template_columns": null,
            "grid_template_rows": null,
            "height": null,
            "justify_content": null,
            "justify_items": null,
            "left": null,
            "margin": null,
            "max_height": null,
            "max_width": null,
            "min_height": null,
            "min_width": null,
            "object_fit": null,
            "object_position": null,
            "order": null,
            "overflow": null,
            "overflow_x": null,
            "overflow_y": null,
            "padding": null,
            "right": null,
            "top": null,
            "visibility": null,
            "width": null
          }
        },
        "8c60a0fcceca4b03bbc7dbde99599fad": {
          "model_module": "@jupyter-widgets/controls",
          "model_module_version": "1.5.0",
          "model_name": "HTMLModel",
          "state": {
            "_dom_classes": [],
            "_model_module": "@jupyter-widgets/controls",
            "_model_module_version": "1.5.0",
            "_model_name": "HTMLModel",
            "_view_count": null,
            "_view_module": "@jupyter-widgets/controls",
            "_view_module_version": "1.5.0",
            "_view_name": "HTMLView",
            "description": "",
            "description_tooltip": null,
            "layout": "IPY_MODEL_cfcd1460588a4ed3b233f99497067dd1",
            "placeholder": "​",
            "style": "IPY_MODEL_d8e557772ef64bca8b88eb137114a90f",
            "value": " 1/1 [01:12&lt;00:00, 72.94s/it]"
          }
        },
        "8d5ee5f6620e4e2fb8bb3a62d6c0f7e6": {
          "model_module": "@jupyter-widgets/base",
          "model_module_version": "1.2.0",
          "model_name": "LayoutModel",
          "state": {
            "_model_module": "@jupyter-widgets/base",
            "_model_module_version": "1.2.0",
            "_model_name": "LayoutModel",
            "_view_count": null,
            "_view_module": "@jupyter-widgets/base",
            "_view_module_version": "1.2.0",
            "_view_name": "LayoutView",
            "align_content": null,
            "align_items": null,
            "align_self": null,
            "border": null,
            "bottom": null,
            "display": null,
            "flex": null,
            "flex_flow": null,
            "grid_area": null,
            "grid_auto_columns": null,
            "grid_auto_flow": null,
            "grid_auto_rows": null,
            "grid_column": null,
            "grid_gap": null,
            "grid_row": null,
            "grid_template_areas": null,
            "grid_template_columns": null,
            "grid_template_rows": null,
            "height": null,
            "justify_content": null,
            "justify_items": null,
            "left": null,
            "margin": null,
            "max_height": null,
            "max_width": null,
            "min_height": null,
            "min_width": null,
            "object_fit": null,
            "object_position": null,
            "order": null,
            "overflow": null,
            "overflow_x": null,
            "overflow_y": null,
            "padding": null,
            "right": null,
            "top": null,
            "visibility": null,
            "width": null
          }
        },
        "8e0357f652944798901de46a5039713c": {
          "model_module": "@jupyter-widgets/base",
          "model_module_version": "1.2.0",
          "model_name": "LayoutModel",
          "state": {
            "_model_module": "@jupyter-widgets/base",
            "_model_module_version": "1.2.0",
            "_model_name": "LayoutModel",
            "_view_count": null,
            "_view_module": "@jupyter-widgets/base",
            "_view_module_version": "1.2.0",
            "_view_name": "LayoutView",
            "align_content": null,
            "align_items": null,
            "align_self": null,
            "border": null,
            "bottom": null,
            "display": null,
            "flex": null,
            "flex_flow": null,
            "grid_area": null,
            "grid_auto_columns": null,
            "grid_auto_flow": null,
            "grid_auto_rows": null,
            "grid_column": null,
            "grid_gap": null,
            "grid_row": null,
            "grid_template_areas": null,
            "grid_template_columns": null,
            "grid_template_rows": null,
            "height": null,
            "justify_content": null,
            "justify_items": null,
            "left": null,
            "margin": null,
            "max_height": null,
            "max_width": null,
            "min_height": null,
            "min_width": null,
            "object_fit": null,
            "object_position": null,
            "order": null,
            "overflow": null,
            "overflow_x": null,
            "overflow_y": null,
            "padding": null,
            "right": null,
            "top": null,
            "visibility": null,
            "width": null
          }
        },
        "8e86174a7fe34b568021672335f2c219": {
          "model_module": "@jupyter-widgets/controls",
          "model_module_version": "1.5.0",
          "model_name": "HTMLModel",
          "state": {
            "_dom_classes": [],
            "_model_module": "@jupyter-widgets/controls",
            "_model_module_version": "1.5.0",
            "_model_name": "HTMLModel",
            "_view_count": null,
            "_view_module": "@jupyter-widgets/controls",
            "_view_module_version": "1.5.0",
            "_view_name": "HTMLView",
            "description": "",
            "description_tooltip": null,
            "layout": "IPY_MODEL_ead128328837462e81aab9d328c46980",
            "placeholder": "​",
            "style": "IPY_MODEL_aab8c3aaab664cd58765609e1753800d",
            "value": "Training: 100%"
          }
        },
        "9019ebb2ace74a4292e53ef864c377b0": {
          "model_module": "@jupyter-widgets/controls",
          "model_module_version": "1.5.0",
          "model_name": "HTMLModel",
          "state": {
            "_dom_classes": [],
            "_model_module": "@jupyter-widgets/controls",
            "_model_module_version": "1.5.0",
            "_model_name": "HTMLModel",
            "_view_count": null,
            "_view_module": "@jupyter-widgets/controls",
            "_view_module_version": "1.5.0",
            "_view_name": "HTMLView",
            "description": "",
            "description_tooltip": null,
            "layout": "IPY_MODEL_f4db03198a2f47cd87ba60f37392e78e",
            "placeholder": "​",
            "style": "IPY_MODEL_815b26ffe64c46ffbc2524c2c147262b",
            "value": " 2/2 [00:02&lt;00:00,  1.17s/it]"
          }
        },
        "91ca8ff56d204e3c8a23376da398f053": {
          "model_module": "@jupyter-widgets/controls",
          "model_module_version": "1.5.0",
          "model_name": "HTMLModel",
          "state": {
            "_dom_classes": [],
            "_model_module": "@jupyter-widgets/controls",
            "_model_module_version": "1.5.0",
            "_model_name": "HTMLModel",
            "_view_count": null,
            "_view_module": "@jupyter-widgets/controls",
            "_view_module_version": "1.5.0",
            "_view_name": "HTMLView",
            "description": "",
            "description_tooltip": null,
            "layout": "IPY_MODEL_b1540b96dcda4fad8e629d7f2d3de62e",
            "placeholder": "​",
            "style": "IPY_MODEL_4b0a63636d344e4cb442e0a0c7f02deb",
            "value": " 2/2 [00:50&lt;00:00, 24.84s/it]"
          }
        },
        "95be1f3de78b4950bb91cc604ed42e5e": {
          "model_module": "@jupyter-widgets/base",
          "model_module_version": "1.2.0",
          "model_name": "LayoutModel",
          "state": {
            "_model_module": "@jupyter-widgets/base",
            "_model_module_version": "1.2.0",
            "_model_name": "LayoutModel",
            "_view_count": null,
            "_view_module": "@jupyter-widgets/base",
            "_view_module_version": "1.2.0",
            "_view_name": "LayoutView",
            "align_content": null,
            "align_items": null,
            "align_self": null,
            "border": null,
            "bottom": null,
            "display": null,
            "flex": null,
            "flex_flow": null,
            "grid_area": null,
            "grid_auto_columns": null,
            "grid_auto_flow": null,
            "grid_auto_rows": null,
            "grid_column": null,
            "grid_gap": null,
            "grid_row": null,
            "grid_template_areas": null,
            "grid_template_columns": null,
            "grid_template_rows": null,
            "height": null,
            "justify_content": null,
            "justify_items": null,
            "left": null,
            "margin": null,
            "max_height": null,
            "max_width": null,
            "min_height": null,
            "min_width": null,
            "object_fit": null,
            "object_position": null,
            "order": null,
            "overflow": null,
            "overflow_x": null,
            "overflow_y": null,
            "padding": null,
            "right": null,
            "top": null,
            "visibility": null,
            "width": null
          }
        },
        "9661f78031634227a7ad0e2fa4875cc8": {
          "model_module": "@jupyter-widgets/controls",
          "model_module_version": "1.5.0",
          "model_name": "DescriptionStyleModel",
          "state": {
            "_model_module": "@jupyter-widgets/controls",
            "_model_module_version": "1.5.0",
            "_model_name": "DescriptionStyleModel",
            "_view_count": null,
            "_view_module": "@jupyter-widgets/base",
            "_view_module_version": "1.2.0",
            "_view_name": "StyleView",
            "description_width": ""
          }
        },
        "96f566abf65148cba0f0d7236ebbcb34": {
          "model_module": "@jupyter-widgets/controls",
          "model_module_version": "1.5.0",
          "model_name": "DescriptionStyleModel",
          "state": {
            "_model_module": "@jupyter-widgets/controls",
            "_model_module_version": "1.5.0",
            "_model_name": "DescriptionStyleModel",
            "_view_count": null,
            "_view_module": "@jupyter-widgets/base",
            "_view_module_version": "1.2.0",
            "_view_name": "StyleView",
            "description_width": ""
          }
        },
        "97ec0b087543498e8653ab2923cc5c0a": {
          "model_module": "@jupyter-widgets/base",
          "model_module_version": "1.2.0",
          "model_name": "LayoutModel",
          "state": {
            "_model_module": "@jupyter-widgets/base",
            "_model_module_version": "1.2.0",
            "_model_name": "LayoutModel",
            "_view_count": null,
            "_view_module": "@jupyter-widgets/base",
            "_view_module_version": "1.2.0",
            "_view_name": "LayoutView",
            "align_content": null,
            "align_items": null,
            "align_self": null,
            "border": null,
            "bottom": null,
            "display": null,
            "flex": null,
            "flex_flow": null,
            "grid_area": null,
            "grid_auto_columns": null,
            "grid_auto_flow": null,
            "grid_auto_rows": null,
            "grid_column": null,
            "grid_gap": null,
            "grid_row": null,
            "grid_template_areas": null,
            "grid_template_columns": null,
            "grid_template_rows": null,
            "height": null,
            "justify_content": null,
            "justify_items": null,
            "left": null,
            "margin": null,
            "max_height": null,
            "max_width": null,
            "min_height": null,
            "min_width": null,
            "object_fit": null,
            "object_position": null,
            "order": null,
            "overflow": null,
            "overflow_x": null,
            "overflow_y": null,
            "padding": null,
            "right": null,
            "top": null,
            "visibility": null,
            "width": null
          }
        },
        "984fa47a0c8d45f9bffa73105ee7fb9e": {
          "model_module": "@jupyter-widgets/controls",
          "model_module_version": "1.5.0",
          "model_name": "DescriptionStyleModel",
          "state": {
            "_model_module": "@jupyter-widgets/controls",
            "_model_module_version": "1.5.0",
            "_model_name": "DescriptionStyleModel",
            "_view_count": null,
            "_view_module": "@jupyter-widgets/base",
            "_view_module_version": "1.2.0",
            "_view_name": "StyleView",
            "description_width": ""
          }
        },
        "99eec12ad3d0454780fa1e7ffe930e49": {
          "model_module": "@jupyter-widgets/controls",
          "model_module_version": "1.5.0",
          "model_name": "DescriptionStyleModel",
          "state": {
            "_model_module": "@jupyter-widgets/controls",
            "_model_module_version": "1.5.0",
            "_model_name": "DescriptionStyleModel",
            "_view_count": null,
            "_view_module": "@jupyter-widgets/base",
            "_view_module_version": "1.2.0",
            "_view_name": "StyleView",
            "description_width": ""
          }
        },
        "9a0c10b2be5c49b09a7d28224044159a": {
          "model_module": "@jupyter-widgets/base",
          "model_module_version": "1.2.0",
          "model_name": "LayoutModel",
          "state": {
            "_model_module": "@jupyter-widgets/base",
            "_model_module_version": "1.2.0",
            "_model_name": "LayoutModel",
            "_view_count": null,
            "_view_module": "@jupyter-widgets/base",
            "_view_module_version": "1.2.0",
            "_view_name": "LayoutView",
            "align_content": null,
            "align_items": null,
            "align_self": null,
            "border": null,
            "bottom": null,
            "display": null,
            "flex": null,
            "flex_flow": null,
            "grid_area": null,
            "grid_auto_columns": null,
            "grid_auto_flow": null,
            "grid_auto_rows": null,
            "grid_column": null,
            "grid_gap": null,
            "grid_row": null,
            "grid_template_areas": null,
            "grid_template_columns": null,
            "grid_template_rows": null,
            "height": null,
            "justify_content": null,
            "justify_items": null,
            "left": null,
            "margin": null,
            "max_height": null,
            "max_width": null,
            "min_height": null,
            "min_width": null,
            "object_fit": null,
            "object_position": null,
            "order": null,
            "overflow": null,
            "overflow_x": null,
            "overflow_y": null,
            "padding": null,
            "right": null,
            "top": null,
            "visibility": null,
            "width": null
          }
        },
        "9c6edfb20bb84484812d604409c8f214": {
          "model_module": "@jupyter-widgets/base",
          "model_module_version": "1.2.0",
          "model_name": "LayoutModel",
          "state": {
            "_model_module": "@jupyter-widgets/base",
            "_model_module_version": "1.2.0",
            "_model_name": "LayoutModel",
            "_view_count": null,
            "_view_module": "@jupyter-widgets/base",
            "_view_module_version": "1.2.0",
            "_view_name": "LayoutView",
            "align_content": null,
            "align_items": null,
            "align_self": null,
            "border": null,
            "bottom": null,
            "display": null,
            "flex": null,
            "flex_flow": null,
            "grid_area": null,
            "grid_auto_columns": null,
            "grid_auto_flow": null,
            "grid_auto_rows": null,
            "grid_column": null,
            "grid_gap": null,
            "grid_row": null,
            "grid_template_areas": null,
            "grid_template_columns": null,
            "grid_template_rows": null,
            "height": null,
            "justify_content": null,
            "justify_items": null,
            "left": null,
            "margin": null,
            "max_height": null,
            "max_width": null,
            "min_height": null,
            "min_width": null,
            "object_fit": null,
            "object_position": null,
            "order": null,
            "overflow": null,
            "overflow_x": null,
            "overflow_y": null,
            "padding": null,
            "right": null,
            "top": null,
            "visibility": null,
            "width": null
          }
        },
        "9f125b8b2b7245d2970e785cf9ad35de": {
          "model_module": "@jupyter-widgets/base",
          "model_module_version": "1.2.0",
          "model_name": "LayoutModel",
          "state": {
            "_model_module": "@jupyter-widgets/base",
            "_model_module_version": "1.2.0",
            "_model_name": "LayoutModel",
            "_view_count": null,
            "_view_module": "@jupyter-widgets/base",
            "_view_module_version": "1.2.0",
            "_view_name": "LayoutView",
            "align_content": null,
            "align_items": null,
            "align_self": null,
            "border": null,
            "bottom": null,
            "display": null,
            "flex": null,
            "flex_flow": null,
            "grid_area": null,
            "grid_auto_columns": null,
            "grid_auto_flow": null,
            "grid_auto_rows": null,
            "grid_column": null,
            "grid_gap": null,
            "grid_row": null,
            "grid_template_areas": null,
            "grid_template_columns": null,
            "grid_template_rows": null,
            "height": null,
            "justify_content": null,
            "justify_items": null,
            "left": null,
            "margin": null,
            "max_height": null,
            "max_width": null,
            "min_height": null,
            "min_width": null,
            "object_fit": null,
            "object_position": null,
            "order": null,
            "overflow": null,
            "overflow_x": null,
            "overflow_y": null,
            "padding": null,
            "right": null,
            "top": null,
            "visibility": null,
            "width": null
          }
        },
        "a127dac85ceb4c26a216e598ca51b8ee": {
          "model_module": "@jupyter-widgets/base",
          "model_module_version": "1.2.0",
          "model_name": "LayoutModel",
          "state": {
            "_model_module": "@jupyter-widgets/base",
            "_model_module_version": "1.2.0",
            "_model_name": "LayoutModel",
            "_view_count": null,
            "_view_module": "@jupyter-widgets/base",
            "_view_module_version": "1.2.0",
            "_view_name": "LayoutView",
            "align_content": null,
            "align_items": null,
            "align_self": null,
            "border": null,
            "bottom": null,
            "display": null,
            "flex": null,
            "flex_flow": null,
            "grid_area": null,
            "grid_auto_columns": null,
            "grid_auto_flow": null,
            "grid_auto_rows": null,
            "grid_column": null,
            "grid_gap": null,
            "grid_row": null,
            "grid_template_areas": null,
            "grid_template_columns": null,
            "grid_template_rows": null,
            "height": null,
            "justify_content": null,
            "justify_items": null,
            "left": null,
            "margin": null,
            "max_height": null,
            "max_width": null,
            "min_height": null,
            "min_width": null,
            "object_fit": null,
            "object_position": null,
            "order": null,
            "overflow": null,
            "overflow_x": null,
            "overflow_y": null,
            "padding": null,
            "right": null,
            "top": null,
            "visibility": null,
            "width": null
          }
        },
        "a164d4b0438a421188323747efb0ef18": {
          "model_module": "@jupyter-widgets/controls",
          "model_module_version": "1.5.0",
          "model_name": "DescriptionStyleModel",
          "state": {
            "_model_module": "@jupyter-widgets/controls",
            "_model_module_version": "1.5.0",
            "_model_name": "DescriptionStyleModel",
            "_view_count": null,
            "_view_module": "@jupyter-widgets/base",
            "_view_module_version": "1.2.0",
            "_view_name": "StyleView",
            "description_width": ""
          }
        },
        "a1ab466a8bf94cc294dae49ffff29d74": {
          "model_module": "@jupyter-widgets/controls",
          "model_module_version": "1.5.0",
          "model_name": "HTMLModel",
          "state": {
            "_dom_classes": [],
            "_model_module": "@jupyter-widgets/controls",
            "_model_module_version": "1.5.0",
            "_model_name": "HTMLModel",
            "_view_count": null,
            "_view_module": "@jupyter-widgets/controls",
            "_view_module_version": "1.5.0",
            "_view_name": "HTMLView",
            "description": "",
            "description_tooltip": null,
            "layout": "IPY_MODEL_a1eda752fbe24d7aa22c83f5a2797de2",
            "placeholder": "​",
            "style": "IPY_MODEL_d6fdc75062ac4387bedc90ccbb4581e9",
            "value": " 2/2 [00:02&lt;00:00,  1.29s/it]"
          }
        },
        "a1eda752fbe24d7aa22c83f5a2797de2": {
          "model_module": "@jupyter-widgets/base",
          "model_module_version": "1.2.0",
          "model_name": "LayoutModel",
          "state": {
            "_model_module": "@jupyter-widgets/base",
            "_model_module_version": "1.2.0",
            "_model_name": "LayoutModel",
            "_view_count": null,
            "_view_module": "@jupyter-widgets/base",
            "_view_module_version": "1.2.0",
            "_view_name": "LayoutView",
            "align_content": null,
            "align_items": null,
            "align_self": null,
            "border": null,
            "bottom": null,
            "display": null,
            "flex": null,
            "flex_flow": null,
            "grid_area": null,
            "grid_auto_columns": null,
            "grid_auto_flow": null,
            "grid_auto_rows": null,
            "grid_column": null,
            "grid_gap": null,
            "grid_row": null,
            "grid_template_areas": null,
            "grid_template_columns": null,
            "grid_template_rows": null,
            "height": null,
            "justify_content": null,
            "justify_items": null,
            "left": null,
            "margin": null,
            "max_height": null,
            "max_width": null,
            "min_height": null,
            "min_width": null,
            "object_fit": null,
            "object_position": null,
            "order": null,
            "overflow": null,
            "overflow_x": null,
            "overflow_y": null,
            "padding": null,
            "right": null,
            "top": null,
            "visibility": null,
            "width": null
          }
        },
        "a2b52cd8179e472e9c854a0b8e9eb886": {
          "model_module": "@jupyter-widgets/base",
          "model_module_version": "1.2.0",
          "model_name": "LayoutModel",
          "state": {
            "_model_module": "@jupyter-widgets/base",
            "_model_module_version": "1.2.0",
            "_model_name": "LayoutModel",
            "_view_count": null,
            "_view_module": "@jupyter-widgets/base",
            "_view_module_version": "1.2.0",
            "_view_name": "LayoutView",
            "align_content": null,
            "align_items": null,
            "align_self": null,
            "border": null,
            "bottom": null,
            "display": null,
            "flex": null,
            "flex_flow": null,
            "grid_area": null,
            "grid_auto_columns": null,
            "grid_auto_flow": null,
            "grid_auto_rows": null,
            "grid_column": null,
            "grid_gap": null,
            "grid_row": null,
            "grid_template_areas": null,
            "grid_template_columns": null,
            "grid_template_rows": null,
            "height": null,
            "justify_content": null,
            "justify_items": null,
            "left": null,
            "margin": null,
            "max_height": null,
            "max_width": null,
            "min_height": null,
            "min_width": null,
            "object_fit": null,
            "object_position": null,
            "order": null,
            "overflow": null,
            "overflow_x": null,
            "overflow_y": null,
            "padding": null,
            "right": null,
            "top": null,
            "visibility": null,
            "width": null
          }
        },
        "a2cbef01cb1a4c7383099b28c4f73ce8": {
          "model_module": "@jupyter-widgets/controls",
          "model_module_version": "1.5.0",
          "model_name": "HBoxModel",
          "state": {
            "_dom_classes": [],
            "_model_module": "@jupyter-widgets/controls",
            "_model_module_version": "1.5.0",
            "_model_name": "HBoxModel",
            "_view_count": null,
            "_view_module": "@jupyter-widgets/controls",
            "_view_module_version": "1.5.0",
            "_view_name": "HBoxView",
            "box_style": "",
            "children": [
              "IPY_MODEL_e3dca4e521784d6fab3365c278284e00",
              "IPY_MODEL_fc9b9508d37c48788039881126c7707c",
              "IPY_MODEL_c65d9d00cf1b4e24b3d728baa182351a"
            ],
            "layout": "IPY_MODEL_b29f8ca75c5a4cf19060ac7b8d137185"
          }
        },
        "a472a484ba274520a1211fa1ddfddf46": {
          "model_module": "@jupyter-widgets/controls",
          "model_module_version": "1.5.0",
          "model_name": "HBoxModel",
          "state": {
            "_dom_classes": [],
            "_model_module": "@jupyter-widgets/controls",
            "_model_module_version": "1.5.0",
            "_model_name": "HBoxModel",
            "_view_count": null,
            "_view_module": "@jupyter-widgets/controls",
            "_view_module_version": "1.5.0",
            "_view_name": "HBoxView",
            "box_style": "",
            "children": [
              "IPY_MODEL_143d4e20485340e3bf0f33a96040138d",
              "IPY_MODEL_3341715df3c541de959df2242a673354",
              "IPY_MODEL_8c60a0fcceca4b03bbc7dbde99599fad"
            ],
            "layout": "IPY_MODEL_bd971207d9f7467cae7d858c61f1ee78"
          }
        },
        "a6c1bf97a0c44b57ab3f9c7d95523978": {
          "model_module": "@jupyter-widgets/controls",
          "model_module_version": "1.5.0",
          "model_name": "DescriptionStyleModel",
          "state": {
            "_model_module": "@jupyter-widgets/controls",
            "_model_module_version": "1.5.0",
            "_model_name": "DescriptionStyleModel",
            "_view_count": null,
            "_view_module": "@jupyter-widgets/base",
            "_view_module_version": "1.2.0",
            "_view_name": "StyleView",
            "description_width": ""
          }
        },
        "a7cb4d905d624d29b2c498c659e0985f": {
          "model_module": "@jupyter-widgets/base",
          "model_module_version": "1.2.0",
          "model_name": "LayoutModel",
          "state": {
            "_model_module": "@jupyter-widgets/base",
            "_model_module_version": "1.2.0",
            "_model_name": "LayoutModel",
            "_view_count": null,
            "_view_module": "@jupyter-widgets/base",
            "_view_module_version": "1.2.0",
            "_view_name": "LayoutView",
            "align_content": null,
            "align_items": null,
            "align_self": null,
            "border": null,
            "bottom": null,
            "display": null,
            "flex": null,
            "flex_flow": null,
            "grid_area": null,
            "grid_auto_columns": null,
            "grid_auto_flow": null,
            "grid_auto_rows": null,
            "grid_column": null,
            "grid_gap": null,
            "grid_row": null,
            "grid_template_areas": null,
            "grid_template_columns": null,
            "grid_template_rows": null,
            "height": null,
            "justify_content": null,
            "justify_items": null,
            "left": null,
            "margin": null,
            "max_height": null,
            "max_width": null,
            "min_height": null,
            "min_width": null,
            "object_fit": null,
            "object_position": null,
            "order": null,
            "overflow": null,
            "overflow_x": null,
            "overflow_y": null,
            "padding": null,
            "right": null,
            "top": null,
            "visibility": null,
            "width": null
          }
        },
        "aab8c3aaab664cd58765609e1753800d": {
          "model_module": "@jupyter-widgets/controls",
          "model_module_version": "1.5.0",
          "model_name": "DescriptionStyleModel",
          "state": {
            "_model_module": "@jupyter-widgets/controls",
            "_model_module_version": "1.5.0",
            "_model_name": "DescriptionStyleModel",
            "_view_count": null,
            "_view_module": "@jupyter-widgets/base",
            "_view_module_version": "1.2.0",
            "_view_name": "StyleView",
            "description_width": ""
          }
        },
        "ab17366f9c254fb69aae9002713bb13b": {
          "model_module": "@jupyter-widgets/base",
          "model_module_version": "1.2.0",
          "model_name": "LayoutModel",
          "state": {
            "_model_module": "@jupyter-widgets/base",
            "_model_module_version": "1.2.0",
            "_model_name": "LayoutModel",
            "_view_count": null,
            "_view_module": "@jupyter-widgets/base",
            "_view_module_version": "1.2.0",
            "_view_name": "LayoutView",
            "align_content": null,
            "align_items": null,
            "align_self": null,
            "border": null,
            "bottom": null,
            "display": null,
            "flex": null,
            "flex_flow": null,
            "grid_area": null,
            "grid_auto_columns": null,
            "grid_auto_flow": null,
            "grid_auto_rows": null,
            "grid_column": null,
            "grid_gap": null,
            "grid_row": null,
            "grid_template_areas": null,
            "grid_template_columns": null,
            "grid_template_rows": null,
            "height": null,
            "justify_content": null,
            "justify_items": null,
            "left": null,
            "margin": null,
            "max_height": null,
            "max_width": null,
            "min_height": null,
            "min_width": null,
            "object_fit": null,
            "object_position": null,
            "order": null,
            "overflow": null,
            "overflow_x": null,
            "overflow_y": null,
            "padding": null,
            "right": null,
            "top": null,
            "visibility": null,
            "width": null
          }
        },
        "ac5ac05377d54b589c3c796a1c2c664d": {
          "model_module": "@jupyter-widgets/controls",
          "model_module_version": "1.5.0",
          "model_name": "DescriptionStyleModel",
          "state": {
            "_model_module": "@jupyter-widgets/controls",
            "_model_module_version": "1.5.0",
            "_model_name": "DescriptionStyleModel",
            "_view_count": null,
            "_view_module": "@jupyter-widgets/base",
            "_view_module_version": "1.2.0",
            "_view_name": "StyleView",
            "description_width": ""
          }
        },
        "aefd4e84909440bd91ea32c357c8ca65": {
          "model_module": "@jupyter-widgets/controls",
          "model_module_version": "1.5.0",
          "model_name": "ProgressStyleModel",
          "state": {
            "_model_module": "@jupyter-widgets/controls",
            "_model_module_version": "1.5.0",
            "_model_name": "ProgressStyleModel",
            "_view_count": null,
            "_view_module": "@jupyter-widgets/base",
            "_view_module_version": "1.2.0",
            "_view_name": "StyleView",
            "bar_color": null,
            "description_width": ""
          }
        },
        "af9bd42e7a474a75a26deaac652fe637": {
          "model_module": "@jupyter-widgets/controls",
          "model_module_version": "1.5.0",
          "model_name": "DescriptionStyleModel",
          "state": {
            "_model_module": "@jupyter-widgets/controls",
            "_model_module_version": "1.5.0",
            "_model_name": "DescriptionStyleModel",
            "_view_count": null,
            "_view_module": "@jupyter-widgets/base",
            "_view_module_version": "1.2.0",
            "_view_name": "StyleView",
            "description_width": ""
          }
        },
        "b1540b96dcda4fad8e629d7f2d3de62e": {
          "model_module": "@jupyter-widgets/base",
          "model_module_version": "1.2.0",
          "model_name": "LayoutModel",
          "state": {
            "_model_module": "@jupyter-widgets/base",
            "_model_module_version": "1.2.0",
            "_model_name": "LayoutModel",
            "_view_count": null,
            "_view_module": "@jupyter-widgets/base",
            "_view_module_version": "1.2.0",
            "_view_name": "LayoutView",
            "align_content": null,
            "align_items": null,
            "align_self": null,
            "border": null,
            "bottom": null,
            "display": null,
            "flex": null,
            "flex_flow": null,
            "grid_area": null,
            "grid_auto_columns": null,
            "grid_auto_flow": null,
            "grid_auto_rows": null,
            "grid_column": null,
            "grid_gap": null,
            "grid_row": null,
            "grid_template_areas": null,
            "grid_template_columns": null,
            "grid_template_rows": null,
            "height": null,
            "justify_content": null,
            "justify_items": null,
            "left": null,
            "margin": null,
            "max_height": null,
            "max_width": null,
            "min_height": null,
            "min_width": null,
            "object_fit": null,
            "object_position": null,
            "order": null,
            "overflow": null,
            "overflow_x": null,
            "overflow_y": null,
            "padding": null,
            "right": null,
            "top": null,
            "visibility": null,
            "width": null
          }
        },
        "b1845572f83d49fdb37a6ed615b7dca7": {
          "model_module": "@jupyter-widgets/base",
          "model_module_version": "1.2.0",
          "model_name": "LayoutModel",
          "state": {
            "_model_module": "@jupyter-widgets/base",
            "_model_module_version": "1.2.0",
            "_model_name": "LayoutModel",
            "_view_count": null,
            "_view_module": "@jupyter-widgets/base",
            "_view_module_version": "1.2.0",
            "_view_name": "LayoutView",
            "align_content": null,
            "align_items": null,
            "align_self": null,
            "border": null,
            "bottom": null,
            "display": null,
            "flex": null,
            "flex_flow": null,
            "grid_area": null,
            "grid_auto_columns": null,
            "grid_auto_flow": null,
            "grid_auto_rows": null,
            "grid_column": null,
            "grid_gap": null,
            "grid_row": null,
            "grid_template_areas": null,
            "grid_template_columns": null,
            "grid_template_rows": null,
            "height": null,
            "justify_content": null,
            "justify_items": null,
            "left": null,
            "margin": null,
            "max_height": null,
            "max_width": null,
            "min_height": null,
            "min_width": null,
            "object_fit": null,
            "object_position": null,
            "order": null,
            "overflow": null,
            "overflow_x": null,
            "overflow_y": null,
            "padding": null,
            "right": null,
            "top": null,
            "visibility": "hidden",
            "width": null
          }
        },
        "b29f8ca75c5a4cf19060ac7b8d137185": {
          "model_module": "@jupyter-widgets/base",
          "model_module_version": "1.2.0",
          "model_name": "LayoutModel",
          "state": {
            "_model_module": "@jupyter-widgets/base",
            "_model_module_version": "1.2.0",
            "_model_name": "LayoutModel",
            "_view_count": null,
            "_view_module": "@jupyter-widgets/base",
            "_view_module_version": "1.2.0",
            "_view_name": "LayoutView",
            "align_content": null,
            "align_items": null,
            "align_self": null,
            "border": null,
            "bottom": null,
            "display": null,
            "flex": null,
            "flex_flow": null,
            "grid_area": null,
            "grid_auto_columns": null,
            "grid_auto_flow": null,
            "grid_auto_rows": null,
            "grid_column": null,
            "grid_gap": null,
            "grid_row": null,
            "grid_template_areas": null,
            "grid_template_columns": null,
            "grid_template_rows": null,
            "height": null,
            "justify_content": null,
            "justify_items": null,
            "left": null,
            "margin": null,
            "max_height": null,
            "max_width": null,
            "min_height": null,
            "min_width": null,
            "object_fit": null,
            "object_position": null,
            "order": null,
            "overflow": null,
            "overflow_x": null,
            "overflow_y": null,
            "padding": null,
            "right": null,
            "top": null,
            "visibility": "hidden",
            "width": null
          }
        },
        "b2c3daebc4e74ffc9653542741e97d04": {
          "model_module": "@jupyter-widgets/controls",
          "model_module_version": "1.5.0",
          "model_name": "ProgressStyleModel",
          "state": {
            "_model_module": "@jupyter-widgets/controls",
            "_model_module_version": "1.5.0",
            "_model_name": "ProgressStyleModel",
            "_view_count": null,
            "_view_module": "@jupyter-widgets/base",
            "_view_module_version": "1.2.0",
            "_view_name": "StyleView",
            "bar_color": null,
            "description_width": ""
          }
        },
        "b390a2425fda4179afebf35f550ea1c8": {
          "model_module": "@jupyter-widgets/base",
          "model_module_version": "1.2.0",
          "model_name": "LayoutModel",
          "state": {
            "_model_module": "@jupyter-widgets/base",
            "_model_module_version": "1.2.0",
            "_model_name": "LayoutModel",
            "_view_count": null,
            "_view_module": "@jupyter-widgets/base",
            "_view_module_version": "1.2.0",
            "_view_name": "LayoutView",
            "align_content": null,
            "align_items": null,
            "align_self": null,
            "border": null,
            "bottom": null,
            "display": null,
            "flex": null,
            "flex_flow": null,
            "grid_area": null,
            "grid_auto_columns": null,
            "grid_auto_flow": null,
            "grid_auto_rows": null,
            "grid_column": null,
            "grid_gap": null,
            "grid_row": null,
            "grid_template_areas": null,
            "grid_template_columns": null,
            "grid_template_rows": null,
            "height": null,
            "justify_content": null,
            "justify_items": null,
            "left": null,
            "margin": null,
            "max_height": null,
            "max_width": null,
            "min_height": null,
            "min_width": null,
            "object_fit": null,
            "object_position": null,
            "order": null,
            "overflow": null,
            "overflow_x": null,
            "overflow_y": null,
            "padding": null,
            "right": null,
            "top": null,
            "visibility": null,
            "width": null
          }
        },
        "b783c783b43e4af998c951bd8e8364c5": {
          "model_module": "@jupyter-widgets/controls",
          "model_module_version": "1.5.0",
          "model_name": "HTMLModel",
          "state": {
            "_dom_classes": [],
            "_model_module": "@jupyter-widgets/controls",
            "_model_module_version": "1.5.0",
            "_model_name": "HTMLModel",
            "_view_count": null,
            "_view_module": "@jupyter-widgets/controls",
            "_view_module_version": "1.5.0",
            "_view_name": "HTMLView",
            "description": "",
            "description_tooltip": null,
            "layout": "IPY_MODEL_110c867cea9a4480a5bb54a5d1d412d1",
            "placeholder": "​",
            "style": "IPY_MODEL_99eec12ad3d0454780fa1e7ffe930e49",
            "value": " 5/5 [1:20:13&lt;00:00, 961.29s/it]"
          }
        },
        "b81b1586bad349499a8dbd8f7a36aec0": {
          "model_module": "@jupyter-widgets/controls",
          "model_module_version": "1.5.0",
          "model_name": "HTMLModel",
          "state": {
            "_dom_classes": [],
            "_model_module": "@jupyter-widgets/controls",
            "_model_module_version": "1.5.0",
            "_model_name": "HTMLModel",
            "_view_count": null,
            "_view_module": "@jupyter-widgets/controls",
            "_view_module_version": "1.5.0",
            "_view_name": "HTMLView",
            "description": "",
            "description_tooltip": null,
            "layout": "IPY_MODEL_4e9108d48f124a64b6b36f669fc359e2",
            "placeholder": "​",
            "style": "IPY_MODEL_a6c1bf97a0c44b57ab3f9c7d95523978",
            "value": " 16/16 [00:20&lt;00:00,  1.41s/it]"
          }
        },
        "ba7a0725d18348749b5cc74d0657c69e": {
          "model_module": "@jupyter-widgets/controls",
          "model_module_version": "1.5.0",
          "model_name": "FloatProgressModel",
          "state": {
            "_dom_classes": [],
            "_model_module": "@jupyter-widgets/controls",
            "_model_module_version": "1.5.0",
            "_model_name": "FloatProgressModel",
            "_view_count": null,
            "_view_module": "@jupyter-widgets/controls",
            "_view_module_version": "1.5.0",
            "_view_name": "ProgressView",
            "bar_style": "",
            "description": "",
            "description_tooltip": null,
            "layout": "IPY_MODEL_8d5ee5f6620e4e2fb8bb3a62d6c0f7e6",
            "max": 16,
            "min": 0,
            "orientation": "horizontal",
            "style": "IPY_MODEL_cba2ab8994ae450f83e04be74791e6f0",
            "value": 16
          }
        },
        "bb4193250bdd4fa4804ff786f9befe3e": {
          "model_module": "@jupyter-widgets/base",
          "model_module_version": "1.2.0",
          "model_name": "LayoutModel",
          "state": {
            "_model_module": "@jupyter-widgets/base",
            "_model_module_version": "1.2.0",
            "_model_name": "LayoutModel",
            "_view_count": null,
            "_view_module": "@jupyter-widgets/base",
            "_view_module_version": "1.2.0",
            "_view_name": "LayoutView",
            "align_content": null,
            "align_items": null,
            "align_self": null,
            "border": null,
            "bottom": null,
            "display": null,
            "flex": null,
            "flex_flow": null,
            "grid_area": null,
            "grid_auto_columns": null,
            "grid_auto_flow": null,
            "grid_auto_rows": null,
            "grid_column": null,
            "grid_gap": null,
            "grid_row": null,
            "grid_template_areas": null,
            "grid_template_columns": null,
            "grid_template_rows": null,
            "height": null,
            "justify_content": null,
            "justify_items": null,
            "left": null,
            "margin": null,
            "max_height": null,
            "max_width": null,
            "min_height": null,
            "min_width": null,
            "object_fit": null,
            "object_position": null,
            "order": null,
            "overflow": null,
            "overflow_x": null,
            "overflow_y": null,
            "padding": null,
            "right": null,
            "top": null,
            "visibility": null,
            "width": null
          }
        },
        "bb9ce75679544a13a69d314ff27c9e6b": {
          "model_module": "@jupyter-widgets/controls",
          "model_module_version": "1.5.0",
          "model_name": "HTMLModel",
          "state": {
            "_dom_classes": [],
            "_model_module": "@jupyter-widgets/controls",
            "_model_module_version": "1.5.0",
            "_model_name": "HTMLModel",
            "_view_count": null,
            "_view_module": "@jupyter-widgets/controls",
            "_view_module_version": "1.5.0",
            "_view_name": "HTMLView",
            "description": "",
            "description_tooltip": null,
            "layout": "IPY_MODEL_2aaed83574d9440ab741cdc7aeafb18a",
            "placeholder": "​",
            "style": "IPY_MODEL_ca56a3a0390142c7bf7aa9e57778db74",
            "value": " 1/1 [01:12&lt;00:00, 72.69s/it]"
          }
        },
        "bc198c956789486999a3e31caee5c6f9": {
          "model_module": "@jupyter-widgets/controls",
          "model_module_version": "1.5.0",
          "model_name": "HTMLModel",
          "state": {
            "_dom_classes": [],
            "_model_module": "@jupyter-widgets/controls",
            "_model_module_version": "1.5.0",
            "_model_name": "HTMLModel",
            "_view_count": null,
            "_view_module": "@jupyter-widgets/controls",
            "_view_module_version": "1.5.0",
            "_view_name": "HTMLView",
            "description": "",
            "description_tooltip": null,
            "layout": "IPY_MODEL_8c519e082cfb4fb08985dabf064e12aa",
            "placeholder": "​",
            "style": "IPY_MODEL_96f566abf65148cba0f0d7236ebbcb34",
            "value": " 1/1 [01:13&lt;00:00, 73.59s/it]"
          }
        },
        "bd971207d9f7467cae7d858c61f1ee78": {
          "model_module": "@jupyter-widgets/base",
          "model_module_version": "1.2.0",
          "model_name": "LayoutModel",
          "state": {
            "_model_module": "@jupyter-widgets/base",
            "_model_module_version": "1.2.0",
            "_model_name": "LayoutModel",
            "_view_count": null,
            "_view_module": "@jupyter-widgets/base",
            "_view_module_version": "1.2.0",
            "_view_name": "LayoutView",
            "align_content": null,
            "align_items": null,
            "align_self": null,
            "border": null,
            "bottom": null,
            "display": null,
            "flex": null,
            "flex_flow": null,
            "grid_area": null,
            "grid_auto_columns": null,
            "grid_auto_flow": null,
            "grid_auto_rows": null,
            "grid_column": null,
            "grid_gap": null,
            "grid_row": null,
            "grid_template_areas": null,
            "grid_template_columns": null,
            "grid_template_rows": null,
            "height": null,
            "justify_content": null,
            "justify_items": null,
            "left": null,
            "margin": null,
            "max_height": null,
            "max_width": null,
            "min_height": null,
            "min_width": null,
            "object_fit": null,
            "object_position": null,
            "order": null,
            "overflow": null,
            "overflow_x": null,
            "overflow_y": null,
            "padding": null,
            "right": null,
            "top": null,
            "visibility": "hidden",
            "width": null
          }
        },
        "c0ade80dba4c40e1b9a9bf5f4b351819": {
          "model_module": "@jupyter-widgets/controls",
          "model_module_version": "1.5.0",
          "model_name": "DescriptionStyleModel",
          "state": {
            "_model_module": "@jupyter-widgets/controls",
            "_model_module_version": "1.5.0",
            "_model_name": "DescriptionStyleModel",
            "_view_count": null,
            "_view_module": "@jupyter-widgets/base",
            "_view_module_version": "1.2.0",
            "_view_name": "StyleView",
            "description_width": ""
          }
        },
        "c0bb4ed91c034201a130b4011fd01ba9": {
          "model_module": "@jupyter-widgets/controls",
          "model_module_version": "1.5.0",
          "model_name": "FloatProgressModel",
          "state": {
            "_dom_classes": [],
            "_model_module": "@jupyter-widgets/controls",
            "_model_module_version": "1.5.0",
            "_model_name": "FloatProgressModel",
            "_view_count": null,
            "_view_module": "@jupyter-widgets/controls",
            "_view_module_version": "1.5.0",
            "_view_name": "ProgressView",
            "bar_style": "",
            "description": "",
            "description_tooltip": null,
            "layout": "IPY_MODEL_5d67ed086d6a43ce9af29026e08cd0e1",
            "max": 1,
            "min": 0,
            "orientation": "horizontal",
            "style": "IPY_MODEL_4195e1e9b8654d7088f950255d13bee1",
            "value": 1
          }
        },
        "c102379c254744479380203b3db11765": {
          "model_module": "@jupyter-widgets/controls",
          "model_module_version": "1.5.0",
          "model_name": "HBoxModel",
          "state": {
            "_dom_classes": [],
            "_model_module": "@jupyter-widgets/controls",
            "_model_module_version": "1.5.0",
            "_model_name": "HBoxModel",
            "_view_count": null,
            "_view_module": "@jupyter-widgets/controls",
            "_view_module_version": "1.5.0",
            "_view_name": "HBoxView",
            "box_style": "",
            "children": [
              "IPY_MODEL_7b0949cdb6e64eba9ac230e8e980103e",
              "IPY_MODEL_c0bb4ed91c034201a130b4011fd01ba9",
              "IPY_MODEL_2605da4e1e7c432aa80f2fc56286be9d"
            ],
            "layout": "IPY_MODEL_e2bcf8272d1a4925bc5eecb4f813f915"
          }
        },
        "c196002e72234e66ac145a078ffd3b57": {
          "model_module": "@jupyter-widgets/base",
          "model_module_version": "1.2.0",
          "model_name": "LayoutModel",
          "state": {
            "_model_module": "@jupyter-widgets/base",
            "_model_module_version": "1.2.0",
            "_model_name": "LayoutModel",
            "_view_count": null,
            "_view_module": "@jupyter-widgets/base",
            "_view_module_version": "1.2.0",
            "_view_name": "LayoutView",
            "align_content": null,
            "align_items": null,
            "align_self": null,
            "border": null,
            "bottom": null,
            "display": null,
            "flex": null,
            "flex_flow": null,
            "grid_area": null,
            "grid_auto_columns": null,
            "grid_auto_flow": null,
            "grid_auto_rows": null,
            "grid_column": null,
            "grid_gap": null,
            "grid_row": null,
            "grid_template_areas": null,
            "grid_template_columns": null,
            "grid_template_rows": null,
            "height": null,
            "justify_content": null,
            "justify_items": null,
            "left": null,
            "margin": null,
            "max_height": null,
            "max_width": null,
            "min_height": null,
            "min_width": null,
            "object_fit": null,
            "object_position": null,
            "order": null,
            "overflow": null,
            "overflow_x": null,
            "overflow_y": null,
            "padding": null,
            "right": null,
            "top": null,
            "visibility": null,
            "width": null
          }
        },
        "c24ba3a8a53e477eb91d8e2107ff13c6": {
          "model_module": "@jupyter-widgets/controls",
          "model_module_version": "1.5.0",
          "model_name": "DescriptionStyleModel",
          "state": {
            "_model_module": "@jupyter-widgets/controls",
            "_model_module_version": "1.5.0",
            "_model_name": "DescriptionStyleModel",
            "_view_count": null,
            "_view_module": "@jupyter-widgets/base",
            "_view_module_version": "1.2.0",
            "_view_name": "StyleView",
            "description_width": ""
          }
        },
        "c2bc91a1f7d24d1481dfd94e965fc9a2": {
          "model_module": "@jupyter-widgets/controls",
          "model_module_version": "1.5.0",
          "model_name": "ProgressStyleModel",
          "state": {
            "_model_module": "@jupyter-widgets/controls",
            "_model_module_version": "1.5.0",
            "_model_name": "ProgressStyleModel",
            "_view_count": null,
            "_view_module": "@jupyter-widgets/base",
            "_view_module_version": "1.2.0",
            "_view_name": "StyleView",
            "bar_color": null,
            "description_width": ""
          }
        },
        "c3100bbc7e634cc29647ccb2a09e1634": {
          "model_module": "@jupyter-widgets/controls",
          "model_module_version": "1.5.0",
          "model_name": "HTMLModel",
          "state": {
            "_dom_classes": [],
            "_model_module": "@jupyter-widgets/controls",
            "_model_module_version": "1.5.0",
            "_model_name": "HTMLModel",
            "_view_count": null,
            "_view_module": "@jupyter-widgets/controls",
            "_view_module_version": "1.5.0",
            "_view_name": "HTMLView",
            "description": "",
            "description_tooltip": null,
            "layout": "IPY_MODEL_9a0c10b2be5c49b09a7d28224044159a",
            "placeholder": "​",
            "style": "IPY_MODEL_ac5ac05377d54b589c3c796a1c2c664d",
            "value": "Validation: 100%"
          }
        },
        "c4c1cf2881ce466fa100bcba0a1829cb": {
          "model_module": "@jupyter-widgets/controls",
          "model_module_version": "1.5.0",
          "model_name": "HBoxModel",
          "state": {
            "_dom_classes": [],
            "_model_module": "@jupyter-widgets/controls",
            "_model_module_version": "1.5.0",
            "_model_name": "HBoxModel",
            "_view_count": null,
            "_view_module": "@jupyter-widgets/controls",
            "_view_module_version": "1.5.0",
            "_view_name": "HBoxView",
            "box_style": "",
            "children": [
              "IPY_MODEL_38ff8c9f6ba145979f0798f3116c6b77",
              "IPY_MODEL_30d08e20e6b644179e649140fbf8a7fd",
              "IPY_MODEL_b783c783b43e4af998c951bd8e8364c5"
            ],
            "layout": "IPY_MODEL_d00cb89c3f7b406e9e3aef90acfd95dd"
          }
        },
        "c65d9d00cf1b4e24b3d728baa182351a": {
          "model_module": "@jupyter-widgets/controls",
          "model_module_version": "1.5.0",
          "model_name": "HTMLModel",
          "state": {
            "_dom_classes": [],
            "_model_module": "@jupyter-widgets/controls",
            "_model_module_version": "1.5.0",
            "_model_name": "HTMLModel",
            "_view_count": null,
            "_view_module": "@jupyter-widgets/controls",
            "_view_module_version": "1.5.0",
            "_view_name": "HTMLView",
            "description": "",
            "description_tooltip": null,
            "layout": "IPY_MODEL_bb4193250bdd4fa4804ff786f9befe3e",
            "placeholder": "​",
            "style": "IPY_MODEL_cb310e1d9b004adfb322d5b4da83520e",
            "value": " 12/12 [15:09&lt;00:00, 70.32s/it]"
          }
        },
        "c73194577bc24307b72144fe948197e6": {
          "model_module": "@jupyter-widgets/controls",
          "model_module_version": "1.5.0",
          "model_name": "DescriptionStyleModel",
          "state": {
            "_model_module": "@jupyter-widgets/controls",
            "_model_module_version": "1.5.0",
            "_model_name": "DescriptionStyleModel",
            "_view_count": null,
            "_view_module": "@jupyter-widgets/base",
            "_view_module_version": "1.2.0",
            "_view_name": "StyleView",
            "description_width": ""
          }
        },
        "c912d7c9add24c70b0d5adeb54317cde": {
          "model_module": "@jupyter-widgets/base",
          "model_module_version": "1.2.0",
          "model_name": "LayoutModel",
          "state": {
            "_model_module": "@jupyter-widgets/base",
            "_model_module_version": "1.2.0",
            "_model_name": "LayoutModel",
            "_view_count": null,
            "_view_module": "@jupyter-widgets/base",
            "_view_module_version": "1.2.0",
            "_view_name": "LayoutView",
            "align_content": null,
            "align_items": null,
            "align_self": null,
            "border": null,
            "bottom": null,
            "display": null,
            "flex": null,
            "flex_flow": null,
            "grid_area": null,
            "grid_auto_columns": null,
            "grid_auto_flow": null,
            "grid_auto_rows": null,
            "grid_column": null,
            "grid_gap": null,
            "grid_row": null,
            "grid_template_areas": null,
            "grid_template_columns": null,
            "grid_template_rows": null,
            "height": null,
            "justify_content": null,
            "justify_items": null,
            "left": null,
            "margin": null,
            "max_height": null,
            "max_width": null,
            "min_height": null,
            "min_width": null,
            "object_fit": null,
            "object_position": null,
            "order": null,
            "overflow": null,
            "overflow_x": null,
            "overflow_y": null,
            "padding": null,
            "right": null,
            "top": null,
            "visibility": null,
            "width": null
          }
        },
        "ca56a3a0390142c7bf7aa9e57778db74": {
          "model_module": "@jupyter-widgets/controls",
          "model_module_version": "1.5.0",
          "model_name": "DescriptionStyleModel",
          "state": {
            "_model_module": "@jupyter-widgets/controls",
            "_model_module_version": "1.5.0",
            "_model_name": "DescriptionStyleModel",
            "_view_count": null,
            "_view_module": "@jupyter-widgets/base",
            "_view_module_version": "1.2.0",
            "_view_name": "StyleView",
            "description_width": ""
          }
        },
        "cb310e1d9b004adfb322d5b4da83520e": {
          "model_module": "@jupyter-widgets/controls",
          "model_module_version": "1.5.0",
          "model_name": "DescriptionStyleModel",
          "state": {
            "_model_module": "@jupyter-widgets/controls",
            "_model_module_version": "1.5.0",
            "_model_name": "DescriptionStyleModel",
            "_view_count": null,
            "_view_module": "@jupyter-widgets/base",
            "_view_module_version": "1.2.0",
            "_view_name": "StyleView",
            "description_width": ""
          }
        },
        "cba2ab8994ae450f83e04be74791e6f0": {
          "model_module": "@jupyter-widgets/controls",
          "model_module_version": "1.5.0",
          "model_name": "ProgressStyleModel",
          "state": {
            "_model_module": "@jupyter-widgets/controls",
            "_model_module_version": "1.5.0",
            "_model_name": "ProgressStyleModel",
            "_view_count": null,
            "_view_module": "@jupyter-widgets/base",
            "_view_module_version": "1.2.0",
            "_view_name": "StyleView",
            "bar_color": null,
            "description_width": ""
          }
        },
        "cc79a372fe604425a23a4c4b2b3605a8": {
          "model_module": "@jupyter-widgets/base",
          "model_module_version": "1.2.0",
          "model_name": "LayoutModel",
          "state": {
            "_model_module": "@jupyter-widgets/base",
            "_model_module_version": "1.2.0",
            "_model_name": "LayoutModel",
            "_view_count": null,
            "_view_module": "@jupyter-widgets/base",
            "_view_module_version": "1.2.0",
            "_view_name": "LayoutView",
            "align_content": null,
            "align_items": null,
            "align_self": null,
            "border": null,
            "bottom": null,
            "display": null,
            "flex": null,
            "flex_flow": null,
            "grid_area": null,
            "grid_auto_columns": null,
            "grid_auto_flow": null,
            "grid_auto_rows": null,
            "grid_column": null,
            "grid_gap": null,
            "grid_row": null,
            "grid_template_areas": null,
            "grid_template_columns": null,
            "grid_template_rows": null,
            "height": null,
            "justify_content": null,
            "justify_items": null,
            "left": null,
            "margin": null,
            "max_height": null,
            "max_width": null,
            "min_height": null,
            "min_width": null,
            "object_fit": null,
            "object_position": null,
            "order": null,
            "overflow": null,
            "overflow_x": null,
            "overflow_y": null,
            "padding": null,
            "right": null,
            "top": null,
            "visibility": null,
            "width": null
          }
        },
        "cc820b5410f94433bc5e73b8f064ed96": {
          "model_module": "@jupyter-widgets/controls",
          "model_module_version": "1.5.0",
          "model_name": "HBoxModel",
          "state": {
            "_dom_classes": [],
            "_model_module": "@jupyter-widgets/controls",
            "_model_module_version": "1.5.0",
            "_model_name": "HBoxModel",
            "_view_count": null,
            "_view_module": "@jupyter-widgets/controls",
            "_view_module_version": "1.5.0",
            "_view_name": "HBoxView",
            "box_style": "",
            "children": [
              "IPY_MODEL_7766587d0d5644509ac9a83dc33206f0",
              "IPY_MODEL_d4cdf47314a34d3c80c2dfb6a3d1338e",
              "IPY_MODEL_91ca8ff56d204e3c8a23376da398f053"
            ],
            "layout": "IPY_MODEL_825c9fe9a3e94c86bc9264992c003634"
          }
        },
        "cccaa8d5ceca49e2850e5b073838cf19": {
          "model_module": "@jupyter-widgets/base",
          "model_module_version": "1.2.0",
          "model_name": "LayoutModel",
          "state": {
            "_model_module": "@jupyter-widgets/base",
            "_model_module_version": "1.2.0",
            "_model_name": "LayoutModel",
            "_view_count": null,
            "_view_module": "@jupyter-widgets/base",
            "_view_module_version": "1.2.0",
            "_view_name": "LayoutView",
            "align_content": null,
            "align_items": null,
            "align_self": null,
            "border": null,
            "bottom": null,
            "display": null,
            "flex": null,
            "flex_flow": null,
            "grid_area": null,
            "grid_auto_columns": null,
            "grid_auto_flow": null,
            "grid_auto_rows": null,
            "grid_column": null,
            "grid_gap": null,
            "grid_row": null,
            "grid_template_areas": null,
            "grid_template_columns": null,
            "grid_template_rows": null,
            "height": null,
            "justify_content": null,
            "justify_items": null,
            "left": null,
            "margin": null,
            "max_height": null,
            "max_width": null,
            "min_height": null,
            "min_width": null,
            "object_fit": null,
            "object_position": null,
            "order": null,
            "overflow": null,
            "overflow_x": null,
            "overflow_y": null,
            "padding": null,
            "right": null,
            "top": null,
            "visibility": "hidden",
            "width": null
          }
        },
        "cce6f1393c23462795f7d1099dac82a7": {
          "model_module": "@jupyter-widgets/base",
          "model_module_version": "1.2.0",
          "model_name": "LayoutModel",
          "state": {
            "_model_module": "@jupyter-widgets/base",
            "_model_module_version": "1.2.0",
            "_model_name": "LayoutModel",
            "_view_count": null,
            "_view_module": "@jupyter-widgets/base",
            "_view_module_version": "1.2.0",
            "_view_name": "LayoutView",
            "align_content": null,
            "align_items": null,
            "align_self": null,
            "border": null,
            "bottom": null,
            "display": null,
            "flex": null,
            "flex_flow": null,
            "grid_area": null,
            "grid_auto_columns": null,
            "grid_auto_flow": null,
            "grid_auto_rows": null,
            "grid_column": null,
            "grid_gap": null,
            "grid_row": null,
            "grid_template_areas": null,
            "grid_template_columns": null,
            "grid_template_rows": null,
            "height": null,
            "justify_content": null,
            "justify_items": null,
            "left": null,
            "margin": null,
            "max_height": null,
            "max_width": null,
            "min_height": null,
            "min_width": null,
            "object_fit": null,
            "object_position": null,
            "order": null,
            "overflow": null,
            "overflow_x": null,
            "overflow_y": null,
            "padding": null,
            "right": null,
            "top": null,
            "visibility": "hidden",
            "width": null
          }
        },
        "cceb4104f6514264a5e50fe3d1984f08": {
          "model_module": "@jupyter-widgets/base",
          "model_module_version": "1.2.0",
          "model_name": "LayoutModel",
          "state": {
            "_model_module": "@jupyter-widgets/base",
            "_model_module_version": "1.2.0",
            "_model_name": "LayoutModel",
            "_view_count": null,
            "_view_module": "@jupyter-widgets/base",
            "_view_module_version": "1.2.0",
            "_view_name": "LayoutView",
            "align_content": null,
            "align_items": null,
            "align_self": null,
            "border": null,
            "bottom": null,
            "display": null,
            "flex": null,
            "flex_flow": null,
            "grid_area": null,
            "grid_auto_columns": null,
            "grid_auto_flow": null,
            "grid_auto_rows": null,
            "grid_column": null,
            "grid_gap": null,
            "grid_row": null,
            "grid_template_areas": null,
            "grid_template_columns": null,
            "grid_template_rows": null,
            "height": null,
            "justify_content": null,
            "justify_items": null,
            "left": null,
            "margin": null,
            "max_height": null,
            "max_width": null,
            "min_height": null,
            "min_width": null,
            "object_fit": null,
            "object_position": null,
            "order": null,
            "overflow": null,
            "overflow_x": null,
            "overflow_y": null,
            "padding": null,
            "right": null,
            "top": null,
            "visibility": "hidden",
            "width": null
          }
        },
        "cd0ecb955a4d4aab93b5ba9eeaa20eed": {
          "model_module": "@jupyter-widgets/base",
          "model_module_version": "1.2.0",
          "model_name": "LayoutModel",
          "state": {
            "_model_module": "@jupyter-widgets/base",
            "_model_module_version": "1.2.0",
            "_model_name": "LayoutModel",
            "_view_count": null,
            "_view_module": "@jupyter-widgets/base",
            "_view_module_version": "1.2.0",
            "_view_name": "LayoutView",
            "align_content": null,
            "align_items": null,
            "align_self": null,
            "border": null,
            "bottom": null,
            "display": null,
            "flex": null,
            "flex_flow": null,
            "grid_area": null,
            "grid_auto_columns": null,
            "grid_auto_flow": null,
            "grid_auto_rows": null,
            "grid_column": null,
            "grid_gap": null,
            "grid_row": null,
            "grid_template_areas": null,
            "grid_template_columns": null,
            "grid_template_rows": null,
            "height": null,
            "justify_content": null,
            "justify_items": null,
            "left": null,
            "margin": null,
            "max_height": null,
            "max_width": null,
            "min_height": null,
            "min_width": null,
            "object_fit": null,
            "object_position": null,
            "order": null,
            "overflow": null,
            "overflow_x": null,
            "overflow_y": null,
            "padding": null,
            "right": null,
            "top": null,
            "visibility": null,
            "width": null
          }
        },
        "cf54ed30fc9d4821b44034c0f23e8971": {
          "model_module": "@jupyter-widgets/controls",
          "model_module_version": "1.5.0",
          "model_name": "DescriptionStyleModel",
          "state": {
            "_model_module": "@jupyter-widgets/controls",
            "_model_module_version": "1.5.0",
            "_model_name": "DescriptionStyleModel",
            "_view_count": null,
            "_view_module": "@jupyter-widgets/base",
            "_view_module_version": "1.2.0",
            "_view_name": "StyleView",
            "description_width": ""
          }
        },
        "cfcd1460588a4ed3b233f99497067dd1": {
          "model_module": "@jupyter-widgets/base",
          "model_module_version": "1.2.0",
          "model_name": "LayoutModel",
          "state": {
            "_model_module": "@jupyter-widgets/base",
            "_model_module_version": "1.2.0",
            "_model_name": "LayoutModel",
            "_view_count": null,
            "_view_module": "@jupyter-widgets/base",
            "_view_module_version": "1.2.0",
            "_view_name": "LayoutView",
            "align_content": null,
            "align_items": null,
            "align_self": null,
            "border": null,
            "bottom": null,
            "display": null,
            "flex": null,
            "flex_flow": null,
            "grid_area": null,
            "grid_auto_columns": null,
            "grid_auto_flow": null,
            "grid_auto_rows": null,
            "grid_column": null,
            "grid_gap": null,
            "grid_row": null,
            "grid_template_areas": null,
            "grid_template_columns": null,
            "grid_template_rows": null,
            "height": null,
            "justify_content": null,
            "justify_items": null,
            "left": null,
            "margin": null,
            "max_height": null,
            "max_width": null,
            "min_height": null,
            "min_width": null,
            "object_fit": null,
            "object_position": null,
            "order": null,
            "overflow": null,
            "overflow_x": null,
            "overflow_y": null,
            "padding": null,
            "right": null,
            "top": null,
            "visibility": null,
            "width": null
          }
        },
        "d00cb89c3f7b406e9e3aef90acfd95dd": {
          "model_module": "@jupyter-widgets/base",
          "model_module_version": "1.2.0",
          "model_name": "LayoutModel",
          "state": {
            "_model_module": "@jupyter-widgets/base",
            "_model_module_version": "1.2.0",
            "_model_name": "LayoutModel",
            "_view_count": null,
            "_view_module": "@jupyter-widgets/base",
            "_view_module_version": "1.2.0",
            "_view_name": "LayoutView",
            "align_content": null,
            "align_items": null,
            "align_self": null,
            "border": null,
            "bottom": null,
            "display": null,
            "flex": null,
            "flex_flow": null,
            "grid_area": null,
            "grid_auto_columns": null,
            "grid_auto_flow": null,
            "grid_auto_rows": null,
            "grid_column": null,
            "grid_gap": null,
            "grid_row": null,
            "grid_template_areas": null,
            "grid_template_columns": null,
            "grid_template_rows": null,
            "height": null,
            "justify_content": null,
            "justify_items": null,
            "left": null,
            "margin": null,
            "max_height": null,
            "max_width": null,
            "min_height": null,
            "min_width": null,
            "object_fit": null,
            "object_position": null,
            "order": null,
            "overflow": null,
            "overflow_x": null,
            "overflow_y": null,
            "padding": null,
            "right": null,
            "top": null,
            "visibility": null,
            "width": null
          }
        },
        "d1c27a9a5cb74731927202d8ef7d3440": {
          "model_module": "@jupyter-widgets/controls",
          "model_module_version": "1.5.0",
          "model_name": "ProgressStyleModel",
          "state": {
            "_model_module": "@jupyter-widgets/controls",
            "_model_module_version": "1.5.0",
            "_model_name": "ProgressStyleModel",
            "_view_count": null,
            "_view_module": "@jupyter-widgets/base",
            "_view_module_version": "1.2.0",
            "_view_name": "StyleView",
            "bar_color": null,
            "description_width": ""
          }
        },
        "d1de083a8fdd4c9a9d56f6a76d633ff1": {
          "model_module": "@jupyter-widgets/controls",
          "model_module_version": "1.5.0",
          "model_name": "ProgressStyleModel",
          "state": {
            "_model_module": "@jupyter-widgets/controls",
            "_model_module_version": "1.5.0",
            "_model_name": "ProgressStyleModel",
            "_view_count": null,
            "_view_module": "@jupyter-widgets/base",
            "_view_module_version": "1.2.0",
            "_view_name": "StyleView",
            "bar_color": null,
            "description_width": ""
          }
        },
        "d2868c0eb6fc40f394d2fc472e9c774d": {
          "model_module": "@jupyter-widgets/controls",
          "model_module_version": "1.5.0",
          "model_name": "ProgressStyleModel",
          "state": {
            "_model_module": "@jupyter-widgets/controls",
            "_model_module_version": "1.5.0",
            "_model_name": "ProgressStyleModel",
            "_view_count": null,
            "_view_module": "@jupyter-widgets/base",
            "_view_module_version": "1.2.0",
            "_view_name": "StyleView",
            "bar_color": null,
            "description_width": ""
          }
        },
        "d4cdf47314a34d3c80c2dfb6a3d1338e": {
          "model_module": "@jupyter-widgets/controls",
          "model_module_version": "1.5.0",
          "model_name": "FloatProgressModel",
          "state": {
            "_dom_classes": [],
            "_model_module": "@jupyter-widgets/controls",
            "_model_module_version": "1.5.0",
            "_model_name": "FloatProgressModel",
            "_view_count": null,
            "_view_module": "@jupyter-widgets/controls",
            "_view_module_version": "1.5.0",
            "_view_name": "ProgressView",
            "bar_style": "success",
            "description": "",
            "description_tooltip": null,
            "layout": "IPY_MODEL_a2b52cd8179e472e9c854a0b8e9eb886",
            "max": 2,
            "min": 0,
            "orientation": "horizontal",
            "style": "IPY_MODEL_489ad451cfeb4f308855cf66097bdf25",
            "value": 2
          }
        },
        "d52362c531334a7c802cba0c18746c77": {
          "model_module": "@jupyter-widgets/controls",
          "model_module_version": "1.5.0",
          "model_name": "FloatProgressModel",
          "state": {
            "_dom_classes": [],
            "_model_module": "@jupyter-widgets/controls",
            "_model_module_version": "1.5.0",
            "_model_name": "FloatProgressModel",
            "_view_count": null,
            "_view_module": "@jupyter-widgets/controls",
            "_view_module_version": "1.5.0",
            "_view_name": "ProgressView",
            "bar_style": "",
            "description": "",
            "description_tooltip": null,
            "layout": "IPY_MODEL_a7cb4d905d624d29b2c498c659e0985f",
            "max": 2,
            "min": 0,
            "orientation": "horizontal",
            "style": "IPY_MODEL_3adc65285bcd41d795c3a0a39a96b332",
            "value": 2
          }
        },
        "d6fdc75062ac4387bedc90ccbb4581e9": {
          "model_module": "@jupyter-widgets/controls",
          "model_module_version": "1.5.0",
          "model_name": "DescriptionStyleModel",
          "state": {
            "_model_module": "@jupyter-widgets/controls",
            "_model_module_version": "1.5.0",
            "_model_name": "DescriptionStyleModel",
            "_view_count": null,
            "_view_module": "@jupyter-widgets/base",
            "_view_module_version": "1.2.0",
            "_view_name": "StyleView",
            "description_width": ""
          }
        },
        "d835e6e6652d441f98cd5ff266706f24": {
          "model_module": "@jupyter-widgets/base",
          "model_module_version": "1.2.0",
          "model_name": "LayoutModel",
          "state": {
            "_model_module": "@jupyter-widgets/base",
            "_model_module_version": "1.2.0",
            "_model_name": "LayoutModel",
            "_view_count": null,
            "_view_module": "@jupyter-widgets/base",
            "_view_module_version": "1.2.0",
            "_view_name": "LayoutView",
            "align_content": null,
            "align_items": null,
            "align_self": null,
            "border": null,
            "bottom": null,
            "display": null,
            "flex": null,
            "flex_flow": null,
            "grid_area": null,
            "grid_auto_columns": null,
            "grid_auto_flow": null,
            "grid_auto_rows": null,
            "grid_column": null,
            "grid_gap": null,
            "grid_row": null,
            "grid_template_areas": null,
            "grid_template_columns": null,
            "grid_template_rows": null,
            "height": null,
            "justify_content": null,
            "justify_items": null,
            "left": null,
            "margin": null,
            "max_height": null,
            "max_width": null,
            "min_height": null,
            "min_width": null,
            "object_fit": null,
            "object_position": null,
            "order": null,
            "overflow": null,
            "overflow_x": null,
            "overflow_y": null,
            "padding": null,
            "right": null,
            "top": null,
            "visibility": null,
            "width": null
          }
        },
        "d844f6c22c4d4d729bc5fb7d2c683c89": {
          "model_module": "@jupyter-widgets/base",
          "model_module_version": "1.2.0",
          "model_name": "LayoutModel",
          "state": {
            "_model_module": "@jupyter-widgets/base",
            "_model_module_version": "1.2.0",
            "_model_name": "LayoutModel",
            "_view_count": null,
            "_view_module": "@jupyter-widgets/base",
            "_view_module_version": "1.2.0",
            "_view_name": "LayoutView",
            "align_content": null,
            "align_items": null,
            "align_self": null,
            "border": null,
            "bottom": null,
            "display": null,
            "flex": null,
            "flex_flow": null,
            "grid_area": null,
            "grid_auto_columns": null,
            "grid_auto_flow": null,
            "grid_auto_rows": null,
            "grid_column": null,
            "grid_gap": null,
            "grid_row": null,
            "grid_template_areas": null,
            "grid_template_columns": null,
            "grid_template_rows": null,
            "height": null,
            "justify_content": null,
            "justify_items": null,
            "left": null,
            "margin": null,
            "max_height": null,
            "max_width": null,
            "min_height": null,
            "min_width": null,
            "object_fit": null,
            "object_position": null,
            "order": null,
            "overflow": null,
            "overflow_x": null,
            "overflow_y": null,
            "padding": null,
            "right": null,
            "top": null,
            "visibility": null,
            "width": null
          }
        },
        "d8b3ff9d1d4b4716b219d54f2d6cc0fb": {
          "model_module": "@jupyter-widgets/controls",
          "model_module_version": "1.5.0",
          "model_name": "HBoxModel",
          "state": {
            "_dom_classes": [],
            "_model_module": "@jupyter-widgets/controls",
            "_model_module_version": "1.5.0",
            "_model_name": "HBoxModel",
            "_view_count": null,
            "_view_module": "@jupyter-widgets/controls",
            "_view_module_version": "1.5.0",
            "_view_name": "HBoxView",
            "box_style": "",
            "children": [
              "IPY_MODEL_4754d821309942688e00e4b18686806c",
              "IPY_MODEL_d52362c531334a7c802cba0c18746c77",
              "IPY_MODEL_432724cc970045e7a259d77ad9cb0132"
            ],
            "layout": "IPY_MODEL_ffa8f5b2b7de461e87413b501f7e7751"
          }
        },
        "d8e557772ef64bca8b88eb137114a90f": {
          "model_module": "@jupyter-widgets/controls",
          "model_module_version": "1.5.0",
          "model_name": "DescriptionStyleModel",
          "state": {
            "_model_module": "@jupyter-widgets/controls",
            "_model_module_version": "1.5.0",
            "_model_name": "DescriptionStyleModel",
            "_view_count": null,
            "_view_module": "@jupyter-widgets/base",
            "_view_module_version": "1.2.0",
            "_view_name": "StyleView",
            "description_width": ""
          }
        },
        "da4583b6060344c59b11783398b796a6": {
          "model_module": "@jupyter-widgets/controls",
          "model_module_version": "1.5.0",
          "model_name": "HTMLModel",
          "state": {
            "_dom_classes": [],
            "_model_module": "@jupyter-widgets/controls",
            "_model_module_version": "1.5.0",
            "_model_name": "HTMLModel",
            "_view_count": null,
            "_view_module": "@jupyter-widgets/controls",
            "_view_module_version": "1.5.0",
            "_view_name": "HTMLView",
            "description": "",
            "description_tooltip": null,
            "layout": "IPY_MODEL_d844f6c22c4d4d729bc5fb7d2c683c89",
            "placeholder": "​",
            "style": "IPY_MODEL_83e5bddc93114f2fac536333e5687fbb",
            "value": "Training: 100%"
          }
        },
        "da7f87a273d849be9389e1d64f389d2e": {
          "model_module": "@jupyter-widgets/controls",
          "model_module_version": "1.5.0",
          "model_name": "HTMLModel",
          "state": {
            "_dom_classes": [],
            "_model_module": "@jupyter-widgets/controls",
            "_model_module_version": "1.5.0",
            "_model_name": "HTMLModel",
            "_view_count": null,
            "_view_module": "@jupyter-widgets/controls",
            "_view_module_version": "1.5.0",
            "_view_name": "HTMLView",
            "description": "",
            "description_tooltip": null,
            "layout": "IPY_MODEL_0927a71a758a418c877af2e858100ddf",
            "placeholder": "​",
            "style": "IPY_MODEL_c24ba3a8a53e477eb91d8e2107ff13c6",
            "value": " 1/1 [01:14&lt;00:00, 74.95s/it]"
          }
        },
        "db66ffe5ddc746569c70cb277981a558": {
          "model_module": "@jupyter-widgets/controls",
          "model_module_version": "1.5.0",
          "model_name": "ProgressStyleModel",
          "state": {
            "_model_module": "@jupyter-widgets/controls",
            "_model_module_version": "1.5.0",
            "_model_name": "ProgressStyleModel",
            "_view_count": null,
            "_view_module": "@jupyter-widgets/base",
            "_view_module_version": "1.2.0",
            "_view_name": "StyleView",
            "bar_color": null,
            "description_width": ""
          }
        },
        "dfe12585e5f0476aae7f84043711a2d7": {
          "model_module": "@jupyter-widgets/controls",
          "model_module_version": "1.5.0",
          "model_name": "ProgressStyleModel",
          "state": {
            "_model_module": "@jupyter-widgets/controls",
            "_model_module_version": "1.5.0",
            "_model_name": "ProgressStyleModel",
            "_view_count": null,
            "_view_module": "@jupyter-widgets/base",
            "_view_module_version": "1.2.0",
            "_view_name": "StyleView",
            "bar_color": null,
            "description_width": ""
          }
        },
        "e02da5bf5e5742cf94d5af20ae705be2": {
          "model_module": "@jupyter-widgets/controls",
          "model_module_version": "1.5.0",
          "model_name": "HBoxModel",
          "state": {
            "_dom_classes": [],
            "_model_module": "@jupyter-widgets/controls",
            "_model_module_version": "1.5.0",
            "_model_name": "HBoxModel",
            "_view_count": null,
            "_view_module": "@jupyter-widgets/controls",
            "_view_module_version": "1.5.0",
            "_view_name": "HBoxView",
            "box_style": "",
            "children": [
              "IPY_MODEL_88cfae512ab44c5ca77f88f7d556d03d",
              "IPY_MODEL_44c7abc2b719459eb881f3e4be12c63d",
              "IPY_MODEL_9019ebb2ace74a4292e53ef864c377b0"
            ],
            "layout": "IPY_MODEL_44a9dba630c6435a982cf0fcc3243b2e"
          }
        },
        "e0548e063ee64e2f8c887ab4f1ac558e": {
          "model_module": "@jupyter-widgets/base",
          "model_module_version": "1.2.0",
          "model_name": "LayoutModel",
          "state": {
            "_model_module": "@jupyter-widgets/base",
            "_model_module_version": "1.2.0",
            "_model_name": "LayoutModel",
            "_view_count": null,
            "_view_module": "@jupyter-widgets/base",
            "_view_module_version": "1.2.0",
            "_view_name": "LayoutView",
            "align_content": null,
            "align_items": null,
            "align_self": null,
            "border": null,
            "bottom": null,
            "display": null,
            "flex": null,
            "flex_flow": null,
            "grid_area": null,
            "grid_auto_columns": null,
            "grid_auto_flow": null,
            "grid_auto_rows": null,
            "grid_column": null,
            "grid_gap": null,
            "grid_row": null,
            "grid_template_areas": null,
            "grid_template_columns": null,
            "grid_template_rows": null,
            "height": null,
            "justify_content": null,
            "justify_items": null,
            "left": null,
            "margin": null,
            "max_height": null,
            "max_width": null,
            "min_height": null,
            "min_width": null,
            "object_fit": null,
            "object_position": null,
            "order": null,
            "overflow": null,
            "overflow_x": null,
            "overflow_y": null,
            "padding": null,
            "right": null,
            "top": null,
            "visibility": null,
            "width": null
          }
        },
        "e2bcf8272d1a4925bc5eecb4f813f915": {
          "model_module": "@jupyter-widgets/base",
          "model_module_version": "1.2.0",
          "model_name": "LayoutModel",
          "state": {
            "_model_module": "@jupyter-widgets/base",
            "_model_module_version": "1.2.0",
            "_model_name": "LayoutModel",
            "_view_count": null,
            "_view_module": "@jupyter-widgets/base",
            "_view_module_version": "1.2.0",
            "_view_name": "LayoutView",
            "align_content": null,
            "align_items": null,
            "align_self": null,
            "border": null,
            "bottom": null,
            "display": null,
            "flex": null,
            "flex_flow": null,
            "grid_area": null,
            "grid_auto_columns": null,
            "grid_auto_flow": null,
            "grid_auto_rows": null,
            "grid_column": null,
            "grid_gap": null,
            "grid_row": null,
            "grid_template_areas": null,
            "grid_template_columns": null,
            "grid_template_rows": null,
            "height": null,
            "justify_content": null,
            "justify_items": null,
            "left": null,
            "margin": null,
            "max_height": null,
            "max_width": null,
            "min_height": null,
            "min_width": null,
            "object_fit": null,
            "object_position": null,
            "order": null,
            "overflow": null,
            "overflow_x": null,
            "overflow_y": null,
            "padding": null,
            "right": null,
            "top": null,
            "visibility": "hidden",
            "width": null
          }
        },
        "e2e5a835f8d049849fdfe49112a7ae59": {
          "model_module": "@jupyter-widgets/base",
          "model_module_version": "1.2.0",
          "model_name": "LayoutModel",
          "state": {
            "_model_module": "@jupyter-widgets/base",
            "_model_module_version": "1.2.0",
            "_model_name": "LayoutModel",
            "_view_count": null,
            "_view_module": "@jupyter-widgets/base",
            "_view_module_version": "1.2.0",
            "_view_name": "LayoutView",
            "align_content": null,
            "align_items": null,
            "align_self": null,
            "border": null,
            "bottom": null,
            "display": null,
            "flex": null,
            "flex_flow": null,
            "grid_area": null,
            "grid_auto_columns": null,
            "grid_auto_flow": null,
            "grid_auto_rows": null,
            "grid_column": null,
            "grid_gap": null,
            "grid_row": null,
            "grid_template_areas": null,
            "grid_template_columns": null,
            "grid_template_rows": null,
            "height": null,
            "justify_content": null,
            "justify_items": null,
            "left": null,
            "margin": null,
            "max_height": null,
            "max_width": null,
            "min_height": null,
            "min_width": null,
            "object_fit": null,
            "object_position": null,
            "order": null,
            "overflow": null,
            "overflow_x": null,
            "overflow_y": null,
            "padding": null,
            "right": null,
            "top": null,
            "visibility": null,
            "width": null
          }
        },
        "e322bff273e04097a36d7506b3e2ee26": {
          "model_module": "@jupyter-widgets/controls",
          "model_module_version": "1.5.0",
          "model_name": "HBoxModel",
          "state": {
            "_dom_classes": [],
            "_model_module": "@jupyter-widgets/controls",
            "_model_module_version": "1.5.0",
            "_model_name": "HBoxModel",
            "_view_count": null,
            "_view_module": "@jupyter-widgets/controls",
            "_view_module_version": "1.5.0",
            "_view_name": "HBoxView",
            "box_style": "",
            "children": [
              "IPY_MODEL_8e86174a7fe34b568021672335f2c219",
              "IPY_MODEL_351c9582336547d988b4e271a9932b4d",
              "IPY_MODEL_f6e167ee10e64e1da3845936d6131be2"
            ],
            "layout": "IPY_MODEL_b1845572f83d49fdb37a6ed615b7dca7"
          }
        },
        "e39afeac35b34f68afb7b3e99d717a36": {
          "model_module": "@jupyter-widgets/controls",
          "model_module_version": "1.5.0",
          "model_name": "FloatProgressModel",
          "state": {
            "_dom_classes": [],
            "_model_module": "@jupyter-widgets/controls",
            "_model_module_version": "1.5.0",
            "_model_name": "FloatProgressModel",
            "_view_count": null,
            "_view_module": "@jupyter-widgets/controls",
            "_view_module_version": "1.5.0",
            "_view_name": "ProgressView",
            "bar_style": "",
            "description": "",
            "description_tooltip": null,
            "layout": "IPY_MODEL_60ff446c7fb74b988c594a477903e9e2",
            "max": 1,
            "min": 0,
            "orientation": "horizontal",
            "style": "IPY_MODEL_d1de083a8fdd4c9a9d56f6a76d633ff1",
            "value": 1
          }
        },
        "e3dca4e521784d6fab3365c278284e00": {
          "model_module": "@jupyter-widgets/controls",
          "model_module_version": "1.5.0",
          "model_name": "HTMLModel",
          "state": {
            "_dom_classes": [],
            "_model_module": "@jupyter-widgets/controls",
            "_model_module_version": "1.5.0",
            "_model_name": "HTMLModel",
            "_view_count": null,
            "_view_module": "@jupyter-widgets/controls",
            "_view_module_version": "1.5.0",
            "_view_name": "HTMLView",
            "description": "",
            "description_tooltip": null,
            "layout": "IPY_MODEL_cc79a372fe604425a23a4c4b2b3605a8",
            "placeholder": "​",
            "style": "IPY_MODEL_18031859daaa478597e9aa768699ccfd",
            "value": "Training: 100%"
          }
        },
        "e5c4ab02ad314154a673645d73893557": {
          "model_module": "@jupyter-widgets/controls",
          "model_module_version": "1.5.0",
          "model_name": "HTMLModel",
          "state": {
            "_dom_classes": [],
            "_model_module": "@jupyter-widgets/controls",
            "_model_module_version": "1.5.0",
            "_model_name": "HTMLModel",
            "_view_count": null,
            "_view_module": "@jupyter-widgets/controls",
            "_view_module_version": "1.5.0",
            "_view_name": "HTMLView",
            "description": "",
            "description_tooltip": null,
            "layout": "IPY_MODEL_97ec0b087543498e8653ab2923cc5c0a",
            "placeholder": "​",
            "style": "IPY_MODEL_9661f78031634227a7ad0e2fa4875cc8",
            "value": "Validation: 100%"
          }
        },
        "e8592400a7a54abcbed7767ec9d4abaf": {
          "model_module": "@jupyter-widgets/controls",
          "model_module_version": "1.5.0",
          "model_name": "HTMLModel",
          "state": {
            "_dom_classes": [],
            "_model_module": "@jupyter-widgets/controls",
            "_model_module_version": "1.5.0",
            "_model_name": "HTMLModel",
            "_view_count": null,
            "_view_module": "@jupyter-widgets/controls",
            "_view_module_version": "1.5.0",
            "_view_name": "HTMLView",
            "description": "",
            "description_tooltip": null,
            "layout": "IPY_MODEL_59413fef114243938888d47771182677",
            "placeholder": "​",
            "style": "IPY_MODEL_0a7ce0b086ea40719d58621c5c298738",
            "value": "Training: 100%"
          }
        },
        "ead128328837462e81aab9d328c46980": {
          "model_module": "@jupyter-widgets/base",
          "model_module_version": "1.2.0",
          "model_name": "LayoutModel",
          "state": {
            "_model_module": "@jupyter-widgets/base",
            "_model_module_version": "1.2.0",
            "_model_name": "LayoutModel",
            "_view_count": null,
            "_view_module": "@jupyter-widgets/base",
            "_view_module_version": "1.2.0",
            "_view_name": "LayoutView",
            "align_content": null,
            "align_items": null,
            "align_self": null,
            "border": null,
            "bottom": null,
            "display": null,
            "flex": null,
            "flex_flow": null,
            "grid_area": null,
            "grid_auto_columns": null,
            "grid_auto_flow": null,
            "grid_auto_rows": null,
            "grid_column": null,
            "grid_gap": null,
            "grid_row": null,
            "grid_template_areas": null,
            "grid_template_columns": null,
            "grid_template_rows": null,
            "height": null,
            "justify_content": null,
            "justify_items": null,
            "left": null,
            "margin": null,
            "max_height": null,
            "max_width": null,
            "min_height": null,
            "min_width": null,
            "object_fit": null,
            "object_position": null,
            "order": null,
            "overflow": null,
            "overflow_x": null,
            "overflow_y": null,
            "padding": null,
            "right": null,
            "top": null,
            "visibility": null,
            "width": null
          }
        },
        "ebb9f4595db4416e8e0823af8376c662": {
          "model_module": "@jupyter-widgets/controls",
          "model_module_version": "1.5.0",
          "model_name": "HTMLModel",
          "state": {
            "_dom_classes": [],
            "_model_module": "@jupyter-widgets/controls",
            "_model_module_version": "1.5.0",
            "_model_name": "HTMLModel",
            "_view_count": null,
            "_view_module": "@jupyter-widgets/controls",
            "_view_module_version": "1.5.0",
            "_view_name": "HTMLView",
            "description": "",
            "description_tooltip": null,
            "layout": "IPY_MODEL_c196002e72234e66ac145a078ffd3b57",
            "placeholder": "​",
            "style": "IPY_MODEL_1d86ec2dd55d40b7a2b8fd830908e48e",
            "value": "Validation: 100%"
          }
        },
        "eeca797e3ea44d26b9ef79118e0f8dd3": {
          "model_module": "@jupyter-widgets/controls",
          "model_module_version": "1.5.0",
          "model_name": "HTMLModel",
          "state": {
            "_dom_classes": [],
            "_model_module": "@jupyter-widgets/controls",
            "_model_module_version": "1.5.0",
            "_model_name": "HTMLModel",
            "_view_count": null,
            "_view_module": "@jupyter-widgets/controls",
            "_view_module_version": "1.5.0",
            "_view_name": "HTMLView",
            "description": "",
            "description_tooltip": null,
            "layout": "IPY_MODEL_1279ad23cde7439eb89459e359468767",
            "placeholder": "​",
            "style": "IPY_MODEL_6a5db34c88b24caa871729a66520607f",
            "value": "Training: 100%"
          }
        },
        "eefd08676d8d42c7ac44bbe87309316e": {
          "model_module": "@jupyter-widgets/controls",
          "model_module_version": "1.5.0",
          "model_name": "HTMLModel",
          "state": {
            "_dom_classes": [],
            "_model_module": "@jupyter-widgets/controls",
            "_model_module_version": "1.5.0",
            "_model_name": "HTMLModel",
            "_view_count": null,
            "_view_module": "@jupyter-widgets/controls",
            "_view_module_version": "1.5.0",
            "_view_name": "HTMLView",
            "description": "",
            "description_tooltip": null,
            "layout": "IPY_MODEL_8aaece6ef7c94b7fbd0116ce7ca09503",
            "placeholder": "​",
            "style": "IPY_MODEL_fbe546b4d7d746a9bee015b0f65e048b",
            "value": "Validation: 100%"
          }
        },
        "f42cf2b1171b4d7580d35f76111b5f21": {
          "model_module": "@jupyter-widgets/controls",
          "model_module_version": "1.5.0",
          "model_name": "DescriptionStyleModel",
          "state": {
            "_model_module": "@jupyter-widgets/controls",
            "_model_module_version": "1.5.0",
            "_model_name": "DescriptionStyleModel",
            "_view_count": null,
            "_view_module": "@jupyter-widgets/base",
            "_view_module_version": "1.2.0",
            "_view_name": "StyleView",
            "description_width": ""
          }
        },
        "f4cbf67d1d5b4e2f9e92add624461c51": {
          "model_module": "@jupyter-widgets/controls",
          "model_module_version": "1.5.0",
          "model_name": "HTMLModel",
          "state": {
            "_dom_classes": [],
            "_model_module": "@jupyter-widgets/controls",
            "_model_module_version": "1.5.0",
            "_model_name": "HTMLModel",
            "_view_count": null,
            "_view_module": "@jupyter-widgets/controls",
            "_view_module_version": "1.5.0",
            "_view_name": "HTMLView",
            "description": "",
            "description_tooltip": null,
            "layout": "IPY_MODEL_0eef990da4194c98aa198c8f674ab52a",
            "placeholder": "​",
            "style": "IPY_MODEL_a164d4b0438a421188323747efb0ef18",
            "value": "Validation: 100%"
          }
        },
        "f4db03198a2f47cd87ba60f37392e78e": {
          "model_module": "@jupyter-widgets/base",
          "model_module_version": "1.2.0",
          "model_name": "LayoutModel",
          "state": {
            "_model_module": "@jupyter-widgets/base",
            "_model_module_version": "1.2.0",
            "_model_name": "LayoutModel",
            "_view_count": null,
            "_view_module": "@jupyter-widgets/base",
            "_view_module_version": "1.2.0",
            "_view_name": "LayoutView",
            "align_content": null,
            "align_items": null,
            "align_self": null,
            "border": null,
            "bottom": null,
            "display": null,
            "flex": null,
            "flex_flow": null,
            "grid_area": null,
            "grid_auto_columns": null,
            "grid_auto_flow": null,
            "grid_auto_rows": null,
            "grid_column": null,
            "grid_gap": null,
            "grid_row": null,
            "grid_template_areas": null,
            "grid_template_columns": null,
            "grid_template_rows": null,
            "height": null,
            "justify_content": null,
            "justify_items": null,
            "left": null,
            "margin": null,
            "max_height": null,
            "max_width": null,
            "min_height": null,
            "min_width": null,
            "object_fit": null,
            "object_position": null,
            "order": null,
            "overflow": null,
            "overflow_x": null,
            "overflow_y": null,
            "padding": null,
            "right": null,
            "top": null,
            "visibility": null,
            "width": null
          }
        },
        "f55531006f8843a880cfa101464246fb": {
          "model_module": "@jupyter-widgets/controls",
          "model_module_version": "1.5.0",
          "model_name": "ProgressStyleModel",
          "state": {
            "_model_module": "@jupyter-widgets/controls",
            "_model_module_version": "1.5.0",
            "_model_name": "ProgressStyleModel",
            "_view_count": null,
            "_view_module": "@jupyter-widgets/base",
            "_view_module_version": "1.2.0",
            "_view_name": "StyleView",
            "bar_color": null,
            "description_width": ""
          }
        },
        "f601a59ef7df42fcb17abbbb466af42e": {
          "model_module": "@jupyter-widgets/controls",
          "model_module_version": "1.5.0",
          "model_name": "DescriptionStyleModel",
          "state": {
            "_model_module": "@jupyter-widgets/controls",
            "_model_module_version": "1.5.0",
            "_model_name": "DescriptionStyleModel",
            "_view_count": null,
            "_view_module": "@jupyter-widgets/base",
            "_view_module_version": "1.2.0",
            "_view_name": "StyleView",
            "description_width": ""
          }
        },
        "f6e167ee10e64e1da3845936d6131be2": {
          "model_module": "@jupyter-widgets/controls",
          "model_module_version": "1.5.0",
          "model_name": "HTMLModel",
          "state": {
            "_dom_classes": [],
            "_model_module": "@jupyter-widgets/controls",
            "_model_module_version": "1.5.0",
            "_model_name": "HTMLModel",
            "_view_count": null,
            "_view_module": "@jupyter-widgets/controls",
            "_view_module_version": "1.5.0",
            "_view_name": "HTMLView",
            "description": "",
            "description_tooltip": null,
            "layout": "IPY_MODEL_6a485409a965492eaab88d343ed7d1af",
            "placeholder": "​",
            "style": "IPY_MODEL_0f7b3412a11b48b1afae27fc739ae8d4",
            "value": " 12/12 [14:38&lt;00:00, 66.87s/it]"
          }
        },
        "f764217061c94629873aec89afcb348c": {
          "model_module": "@jupyter-widgets/base",
          "model_module_version": "1.2.0",
          "model_name": "LayoutModel",
          "state": {
            "_model_module": "@jupyter-widgets/base",
            "_model_module_version": "1.2.0",
            "_model_name": "LayoutModel",
            "_view_count": null,
            "_view_module": "@jupyter-widgets/base",
            "_view_module_version": "1.2.0",
            "_view_name": "LayoutView",
            "align_content": null,
            "align_items": null,
            "align_self": null,
            "border": null,
            "bottom": null,
            "display": null,
            "flex": null,
            "flex_flow": null,
            "grid_area": null,
            "grid_auto_columns": null,
            "grid_auto_flow": null,
            "grid_auto_rows": null,
            "grid_column": null,
            "grid_gap": null,
            "grid_row": null,
            "grid_template_areas": null,
            "grid_template_columns": null,
            "grid_template_rows": null,
            "height": null,
            "justify_content": null,
            "justify_items": null,
            "left": null,
            "margin": null,
            "max_height": null,
            "max_width": null,
            "min_height": null,
            "min_width": null,
            "object_fit": null,
            "object_position": null,
            "order": null,
            "overflow": null,
            "overflow_x": null,
            "overflow_y": null,
            "padding": null,
            "right": null,
            "top": null,
            "visibility": null,
            "width": null
          }
        },
        "f9ca5631d57c4388a30d07dda96fa84a": {
          "model_module": "@jupyter-widgets/controls",
          "model_module_version": "1.5.0",
          "model_name": "DescriptionStyleModel",
          "state": {
            "_model_module": "@jupyter-widgets/controls",
            "_model_module_version": "1.5.0",
            "_model_name": "DescriptionStyleModel",
            "_view_count": null,
            "_view_module": "@jupyter-widgets/base",
            "_view_module_version": "1.2.0",
            "_view_name": "StyleView",
            "description_width": ""
          }
        },
        "fbe546b4d7d746a9bee015b0f65e048b": {
          "model_module": "@jupyter-widgets/controls",
          "model_module_version": "1.5.0",
          "model_name": "DescriptionStyleModel",
          "state": {
            "_model_module": "@jupyter-widgets/controls",
            "_model_module_version": "1.5.0",
            "_model_name": "DescriptionStyleModel",
            "_view_count": null,
            "_view_module": "@jupyter-widgets/base",
            "_view_module_version": "1.2.0",
            "_view_name": "StyleView",
            "description_width": ""
          }
        },
        "fc9b9508d37c48788039881126c7707c": {
          "model_module": "@jupyter-widgets/controls",
          "model_module_version": "1.5.0",
          "model_name": "FloatProgressModel",
          "state": {
            "_dom_classes": [],
            "_model_module": "@jupyter-widgets/controls",
            "_model_module_version": "1.5.0",
            "_model_name": "FloatProgressModel",
            "_view_count": null,
            "_view_module": "@jupyter-widgets/controls",
            "_view_module_version": "1.5.0",
            "_view_name": "ProgressView",
            "bar_style": "",
            "description": "",
            "description_tooltip": null,
            "layout": "IPY_MODEL_f764217061c94629873aec89afcb348c",
            "max": 12,
            "min": 0,
            "orientation": "horizontal",
            "style": "IPY_MODEL_19138def881a4f4fbc4dbe70d3d26e02",
            "value": 12
          }
        },
        "fe5eb9ccacdf4581abebea461826d404": {
          "model_module": "@jupyter-widgets/base",
          "model_module_version": "1.2.0",
          "model_name": "LayoutModel",
          "state": {
            "_model_module": "@jupyter-widgets/base",
            "_model_module_version": "1.2.0",
            "_model_name": "LayoutModel",
            "_view_count": null,
            "_view_module": "@jupyter-widgets/base",
            "_view_module_version": "1.2.0",
            "_view_name": "LayoutView",
            "align_content": null,
            "align_items": null,
            "align_self": null,
            "border": null,
            "bottom": null,
            "display": null,
            "flex": null,
            "flex_flow": null,
            "grid_area": null,
            "grid_auto_columns": null,
            "grid_auto_flow": null,
            "grid_auto_rows": null,
            "grid_column": null,
            "grid_gap": null,
            "grid_row": null,
            "grid_template_areas": null,
            "grid_template_columns": null,
            "grid_template_rows": null,
            "height": null,
            "justify_content": null,
            "justify_items": null,
            "left": null,
            "margin": null,
            "max_height": null,
            "max_width": null,
            "min_height": null,
            "min_width": null,
            "object_fit": null,
            "object_position": null,
            "order": null,
            "overflow": null,
            "overflow_x": null,
            "overflow_y": null,
            "padding": null,
            "right": null,
            "top": null,
            "visibility": null,
            "width": null
          }
        },
        "ffa8f5b2b7de461e87413b501f7e7751": {
          "model_module": "@jupyter-widgets/base",
          "model_module_version": "1.2.0",
          "model_name": "LayoutModel",
          "state": {
            "_model_module": "@jupyter-widgets/base",
            "_model_module_version": "1.2.0",
            "_model_name": "LayoutModel",
            "_view_count": null,
            "_view_module": "@jupyter-widgets/base",
            "_view_module_version": "1.2.0",
            "_view_name": "LayoutView",
            "align_content": null,
            "align_items": null,
            "align_self": null,
            "border": null,
            "bottom": null,
            "display": null,
            "flex": null,
            "flex_flow": null,
            "grid_area": null,
            "grid_auto_columns": null,
            "grid_auto_flow": null,
            "grid_auto_rows": null,
            "grid_column": null,
            "grid_gap": null,
            "grid_row": null,
            "grid_template_areas": null,
            "grid_template_columns": null,
            "grid_template_rows": null,
            "height": null,
            "justify_content": null,
            "justify_items": null,
            "left": null,
            "margin": null,
            "max_height": null,
            "max_width": null,
            "min_height": null,
            "min_width": null,
            "object_fit": null,
            "object_position": null,
            "order": null,
            "overflow": null,
            "overflow_x": null,
            "overflow_y": null,
            "padding": null,
            "right": null,
            "top": null,
            "visibility": "hidden",
            "width": null
          }
        }
      }
    }
  },
  "nbformat": 4,
  "nbformat_minor": 0
}
