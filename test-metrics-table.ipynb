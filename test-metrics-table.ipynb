{
 "cells": [
  {
   "cell_type": "code",
   "execution_count": 18,
   "metadata": {},
   "outputs": [],
   "source": [
    "import pandas as pd"
   ]
  },
  {
   "cell_type": "code",
   "execution_count": 19,
   "metadata": {},
   "outputs": [],
   "source": [
    "columns = [\"f1 avg\", \"precision macro\", \"recall macro\"]\n",
    "rows = [\"teacher\", \"student\"]\n",
    "data = [\n",
    "    [0.7510973416244721, 0.7511853555461546, 0.7517],\n",
    "    [0.7188999058133524, 0.7388269288838003, 0.7163],\n",
    "]"
   ]
  },
  {
   "cell_type": "code",
   "execution_count": 20,
   "metadata": {},
   "outputs": [
    {
     "data": {
      "text/html": [
       "<div>\n",
       "<style scoped>\n",
       "    .dataframe tbody tr th:only-of-type {\n",
       "        vertical-align: middle;\n",
       "    }\n",
       "\n",
       "    .dataframe tbody tr th {\n",
       "        vertical-align: top;\n",
       "    }\n",
       "\n",
       "    .dataframe thead th {\n",
       "        text-align: right;\n",
       "    }\n",
       "</style>\n",
       "<table border=\"1\" class=\"dataframe\">\n",
       "  <thead>\n",
       "    <tr style=\"text-align: right;\">\n",
       "      <th></th>\n",
       "      <th>f1 avg</th>\n",
       "      <th>precision macro</th>\n",
       "      <th>recall macro</th>\n",
       "    </tr>\n",
       "  </thead>\n",
       "  <tbody>\n",
       "    <tr>\n",
       "      <th>teacher</th>\n",
       "      <td>0.751097</td>\n",
       "      <td>0.751185</td>\n",
       "      <td>0.7517</td>\n",
       "    </tr>\n",
       "    <tr>\n",
       "      <th>student</th>\n",
       "      <td>0.718900</td>\n",
       "      <td>0.738827</td>\n",
       "      <td>0.7163</td>\n",
       "    </tr>\n",
       "  </tbody>\n",
       "</table>\n",
       "</div>"
      ],
      "text/plain": [
       "           f1 avg  precision macro  recall macro\n",
       "teacher  0.751097         0.751185        0.7517\n",
       "student  0.718900         0.738827        0.7163"
      ]
     },
     "execution_count": 20,
     "metadata": {},
     "output_type": "execute_result"
    }
   ],
   "source": [
    "df = pd.DataFrame(data, columns=columns, index=rows)\n",
    "df"
   ]
  },
  {
   "cell_type": "code",
   "execution_count": 21,
   "metadata": {},
   "outputs": [
    {
     "name": "stdout",
     "output_type": "stream",
     "text": [
      "|         |   f1 avg |   precision macro |   recall macro |\n",
      "|:--------|---------:|------------------:|---------------:|\n",
      "| teacher | 0.751097 |          0.751185 |         0.7517 |\n",
      "| student | 0.7189   |          0.738827 |         0.7163 |\n"
     ]
    }
   ],
   "source": [
    "print(df.to_markdown())"
   ]
  },
  {
   "cell_type": "code",
   "execution_count": 22,
   "metadata": {},
   "outputs": [],
   "source": [
    "distill_logits = pd.Series(\n",
    "    data={\n",
    "        c: v for c, v in zip(columns, [0.7376450472645789, 0.7430724991157197, 0.7396000000000001])\n",
    "    },\n",
    "    index=columns,\n",
    "    name=\"distill (logits)\",\n",
    ")"
   ]
  },
  {
   "cell_type": "code",
   "execution_count": 23,
   "metadata": {},
   "outputs": [
    {
     "data": {
      "text/html": [
       "<div>\n",
       "<style scoped>\n",
       "    .dataframe tbody tr th:only-of-type {\n",
       "        vertical-align: middle;\n",
       "    }\n",
       "\n",
       "    .dataframe tbody tr th {\n",
       "        vertical-align: top;\n",
       "    }\n",
       "\n",
       "    .dataframe thead th {\n",
       "        text-align: right;\n",
       "    }\n",
       "</style>\n",
       "<table border=\"1\" class=\"dataframe\">\n",
       "  <thead>\n",
       "    <tr style=\"text-align: right;\">\n",
       "      <th></th>\n",
       "      <th>f1 avg</th>\n",
       "      <th>precision macro</th>\n",
       "      <th>recall macro</th>\n",
       "    </tr>\n",
       "  </thead>\n",
       "  <tbody>\n",
       "    <tr>\n",
       "      <th>distill (logits)</th>\n",
       "      <td>0.737645</td>\n",
       "      <td>0.743072</td>\n",
       "      <td>0.7396</td>\n",
       "    </tr>\n",
       "    <tr>\n",
       "      <th>student</th>\n",
       "      <td>0.718900</td>\n",
       "      <td>0.738827</td>\n",
       "      <td>0.7163</td>\n",
       "    </tr>\n",
       "    <tr>\n",
       "      <th>teacher</th>\n",
       "      <td>0.751097</td>\n",
       "      <td>0.751185</td>\n",
       "      <td>0.7517</td>\n",
       "    </tr>\n",
       "  </tbody>\n",
       "</table>\n",
       "</div>"
      ],
      "text/plain": [
       "                    f1 avg  precision macro  recall macro\n",
       "distill (logits)  0.737645         0.743072        0.7396\n",
       "student           0.718900         0.738827        0.7163\n",
       "teacher           0.751097         0.751185        0.7517"
      ]
     },
     "execution_count": 23,
     "metadata": {},
     "output_type": "execute_result"
    }
   ],
   "source": [
    "exp1_df = pd.concat([df, distill_logits.to_frame().T]).sort_index()\n",
    "exp1_df"
   ]
  },
  {
   "cell_type": "code",
   "execution_count": 24,
   "metadata": {},
   "outputs": [
    {
     "name": "stdout",
     "output_type": "stream",
     "text": [
      "|                  |   f1 avg |   precision macro |   recall macro |\n",
      "|:-----------------|---------:|------------------:|---------------:|\n",
      "| distill (logits) | 0.737645 |          0.743072 |         0.7396 |\n",
      "| student          | 0.7189   |          0.738827 |         0.7163 |\n",
      "| teacher          | 0.751097 |          0.751185 |         0.7517 |\n"
     ]
    }
   ],
   "source": [
    "print(exp1_df.to_markdown())"
   ]
  },
  {
   "cell_type": "code",
   "execution_count": 25,
   "metadata": {},
   "outputs": [],
   "source": [
    "distill_hidden_untrained = pd.Series(\n",
    "    data={\n",
    "        c: v for c, v in zip(columns, [0.7145350633893485, 0.7366653813243487, 0.7187000000000001])\n",
    "    },\n",
    "    index=columns,\n",
    "    name=\"distill (hidden, untrained)\",\n",
    ")"
   ]
  },
  {
   "cell_type": "code",
   "execution_count": 26,
   "metadata": {},
   "outputs": [
    {
     "data": {
      "text/html": [
       "<div>\n",
       "<style scoped>\n",
       "    .dataframe tbody tr th:only-of-type {\n",
       "        vertical-align: middle;\n",
       "    }\n",
       "\n",
       "    .dataframe tbody tr th {\n",
       "        vertical-align: top;\n",
       "    }\n",
       "\n",
       "    .dataframe thead th {\n",
       "        text-align: right;\n",
       "    }\n",
       "</style>\n",
       "<table border=\"1\" class=\"dataframe\">\n",
       "  <thead>\n",
       "    <tr style=\"text-align: right;\">\n",
       "      <th></th>\n",
       "      <th>f1 avg</th>\n",
       "      <th>precision macro</th>\n",
       "      <th>recall macro</th>\n",
       "    </tr>\n",
       "  </thead>\n",
       "  <tbody>\n",
       "    <tr>\n",
       "      <th>distill (hidden, untrained)</th>\n",
       "      <td>0.714535</td>\n",
       "      <td>0.736665</td>\n",
       "      <td>0.7187</td>\n",
       "    </tr>\n",
       "    <tr>\n",
       "      <th>student</th>\n",
       "      <td>0.718900</td>\n",
       "      <td>0.738827</td>\n",
       "      <td>0.7163</td>\n",
       "    </tr>\n",
       "    <tr>\n",
       "      <th>teacher</th>\n",
       "      <td>0.751097</td>\n",
       "      <td>0.751185</td>\n",
       "      <td>0.7517</td>\n",
       "    </tr>\n",
       "  </tbody>\n",
       "</table>\n",
       "</div>"
      ],
      "text/plain": [
       "                               f1 avg  precision macro  recall macro\n",
       "distill (hidden, untrained)  0.714535         0.736665        0.7187\n",
       "student                      0.718900         0.738827        0.7163\n",
       "teacher                      0.751097         0.751185        0.7517"
      ]
     },
     "execution_count": 26,
     "metadata": {},
     "output_type": "execute_result"
    }
   ],
   "source": [
    "exp2_df = pd.concat([df, distill_hidden_untrained.to_frame().T]).sort_index()\n",
    "exp2_df"
   ]
  },
  {
   "cell_type": "code",
   "execution_count": 27,
   "metadata": {},
   "outputs": [
    {
     "name": "stdout",
     "output_type": "stream",
     "text": [
      "|                             |   f1 avg |   precision macro |   recall macro |\n",
      "|:----------------------------|---------:|------------------:|---------------:|\n",
      "| distill (hidden, untrained) | 0.714535 |          0.736665 |         0.7187 |\n",
      "| student                     | 0.7189   |          0.738827 |         0.7163 |\n",
      "| teacher                     | 0.751097 |          0.751185 |         0.7517 |\n"
     ]
    }
   ],
   "source": [
    "print(exp2_df.to_markdown())"
   ]
  },
  {
   "cell_type": "code",
   "execution_count": 28,
   "metadata": {},
   "outputs": [],
   "source": [
    "distill_hidden_trained = pd.Series(\n",
    "    data={\n",
    "        c: v for c, v in zip(columns, [0.739197562425949, 0.7542588804905256, 0.7374])\n",
    "    },\n",
    "    index=columns,\n",
    "    name=\"distill (hidden, trained)\",\n",
    ")"
   ]
  },
  {
   "cell_type": "code",
   "execution_count": 29,
   "metadata": {},
   "outputs": [
    {
     "data": {
      "text/html": [
       "<div>\n",
       "<style scoped>\n",
       "    .dataframe tbody tr th:only-of-type {\n",
       "        vertical-align: middle;\n",
       "    }\n",
       "\n",
       "    .dataframe tbody tr th {\n",
       "        vertical-align: top;\n",
       "    }\n",
       "\n",
       "    .dataframe thead th {\n",
       "        text-align: right;\n",
       "    }\n",
       "</style>\n",
       "<table border=\"1\" class=\"dataframe\">\n",
       "  <thead>\n",
       "    <tr style=\"text-align: right;\">\n",
       "      <th></th>\n",
       "      <th>f1 avg</th>\n",
       "      <th>precision macro</th>\n",
       "      <th>recall macro</th>\n",
       "    </tr>\n",
       "  </thead>\n",
       "  <tbody>\n",
       "    <tr>\n",
       "      <th>distill (hidden, trained)</th>\n",
       "      <td>0.739198</td>\n",
       "      <td>0.754259</td>\n",
       "      <td>0.7374</td>\n",
       "    </tr>\n",
       "    <tr>\n",
       "      <th>student</th>\n",
       "      <td>0.718900</td>\n",
       "      <td>0.738827</td>\n",
       "      <td>0.7163</td>\n",
       "    </tr>\n",
       "    <tr>\n",
       "      <th>teacher</th>\n",
       "      <td>0.751097</td>\n",
       "      <td>0.751185</td>\n",
       "      <td>0.7517</td>\n",
       "    </tr>\n",
       "  </tbody>\n",
       "</table>\n",
       "</div>"
      ],
      "text/plain": [
       "                             f1 avg  precision macro  recall macro\n",
       "distill (hidden, trained)  0.739198         0.754259        0.7374\n",
       "student                    0.718900         0.738827        0.7163\n",
       "teacher                    0.751097         0.751185        0.7517"
      ]
     },
     "execution_count": 29,
     "metadata": {},
     "output_type": "execute_result"
    }
   ],
   "source": [
    "exp3_df = pd.concat([df, distill_hidden_trained.to_frame().T]).sort_index()\n",
    "exp3_df"
   ]
  },
  {
   "cell_type": "code",
   "execution_count": 30,
   "metadata": {},
   "outputs": [
    {
     "name": "stdout",
     "output_type": "stream",
     "text": [
      "|                           |   f1 avg |   precision macro |   recall macro |\n",
      "|:--------------------------|---------:|------------------:|---------------:|\n",
      "| distill (hidden, trained) | 0.739198 |          0.754259 |         0.7374 |\n",
      "| student                   | 0.7189   |          0.738827 |         0.7163 |\n",
      "| teacher                   | 0.751097 |          0.751185 |         0.7517 |\n"
     ]
    }
   ],
   "source": [
    "print(exp3_df.to_markdown())"
   ]
  },
  {
   "cell_type": "code",
   "execution_count": 31,
   "metadata": {},
   "outputs": [],
   "source": [
    "distill_hybrid = pd.Series(\n",
    "    data={\n",
    "        c: v for c, v in zip(columns, [0.7388031376432144, 0.7480098256314053, 0.7403])\n",
    "    },\n",
    "    index=columns,\n",
    "    name=\"distill (hybrid)\",\n",
    ")"
   ]
  },
  {
   "cell_type": "code",
   "execution_count": 32,
   "metadata": {},
   "outputs": [
    {
     "data": {
      "text/html": [
       "<div>\n",
       "<style scoped>\n",
       "    .dataframe tbody tr th:only-of-type {\n",
       "        vertical-align: middle;\n",
       "    }\n",
       "\n",
       "    .dataframe tbody tr th {\n",
       "        vertical-align: top;\n",
       "    }\n",
       "\n",
       "    .dataframe thead th {\n",
       "        text-align: right;\n",
       "    }\n",
       "</style>\n",
       "<table border=\"1\" class=\"dataframe\">\n",
       "  <thead>\n",
       "    <tr style=\"text-align: right;\">\n",
       "      <th></th>\n",
       "      <th>f1 avg</th>\n",
       "      <th>precision macro</th>\n",
       "      <th>recall macro</th>\n",
       "    </tr>\n",
       "  </thead>\n",
       "  <tbody>\n",
       "    <tr>\n",
       "      <th>distill (hybrid)</th>\n",
       "      <td>0.738803</td>\n",
       "      <td>0.748010</td>\n",
       "      <td>0.7403</td>\n",
       "    </tr>\n",
       "    <tr>\n",
       "      <th>student</th>\n",
       "      <td>0.718900</td>\n",
       "      <td>0.738827</td>\n",
       "      <td>0.7163</td>\n",
       "    </tr>\n",
       "    <tr>\n",
       "      <th>teacher</th>\n",
       "      <td>0.751097</td>\n",
       "      <td>0.751185</td>\n",
       "      <td>0.7517</td>\n",
       "    </tr>\n",
       "  </tbody>\n",
       "</table>\n",
       "</div>"
      ],
      "text/plain": [
       "                    f1 avg  precision macro  recall macro\n",
       "distill (hybrid)  0.738803         0.748010        0.7403\n",
       "student           0.718900         0.738827        0.7163\n",
       "teacher           0.751097         0.751185        0.7517"
      ]
     },
     "execution_count": 32,
     "metadata": {},
     "output_type": "execute_result"
    }
   ],
   "source": [
    "exp4_df = pd.concat([df, distill_hybrid.to_frame().T]).sort_index()\n",
    "exp4_df"
   ]
  },
  {
   "cell_type": "code",
   "execution_count": 33,
   "metadata": {},
   "outputs": [
    {
     "name": "stdout",
     "output_type": "stream",
     "text": [
      "|                  |   f1 avg |   precision macro |   recall macro |\n",
      "|:-----------------|---------:|------------------:|---------------:|\n",
      "| distill (hybrid) | 0.738803 |          0.74801  |         0.7403 |\n",
      "| student          | 0.7189   |          0.738827 |         0.7163 |\n",
      "| teacher          | 0.751097 |          0.751185 |         0.7517 |\n"
     ]
    }
   ],
   "source": [
    "print(exp4_df.to_markdown())"
   ]
  },
  {
   "cell_type": "code",
   "execution_count": 36,
   "metadata": {},
   "outputs": [
    {
     "data": {
      "text/html": [
       "<div>\n",
       "<style scoped>\n",
       "    .dataframe tbody tr th:only-of-type {\n",
       "        vertical-align: middle;\n",
       "    }\n",
       "\n",
       "    .dataframe tbody tr th {\n",
       "        vertical-align: top;\n",
       "    }\n",
       "\n",
       "    .dataframe thead th {\n",
       "        text-align: right;\n",
       "    }\n",
       "</style>\n",
       "<table border=\"1\" class=\"dataframe\">\n",
       "  <thead>\n",
       "    <tr style=\"text-align: right;\">\n",
       "      <th></th>\n",
       "      <th>f1 avg</th>\n",
       "      <th>precision macro</th>\n",
       "      <th>recall macro</th>\n",
       "    </tr>\n",
       "  </thead>\n",
       "  <tbody>\n",
       "    <tr>\n",
       "      <th>teacher</th>\n",
       "      <td>0.751097</td>\n",
       "      <td>0.751185</td>\n",
       "      <td>0.7517</td>\n",
       "    </tr>\n",
       "    <tr>\n",
       "      <th>distill (hidden, trained)</th>\n",
       "      <td>0.739198</td>\n",
       "      <td>0.754259</td>\n",
       "      <td>0.7374</td>\n",
       "    </tr>\n",
       "    <tr>\n",
       "      <th>distill (hybrid)</th>\n",
       "      <td>0.738803</td>\n",
       "      <td>0.748010</td>\n",
       "      <td>0.7403</td>\n",
       "    </tr>\n",
       "    <tr>\n",
       "      <th>distill (logits)</th>\n",
       "      <td>0.737645</td>\n",
       "      <td>0.743072</td>\n",
       "      <td>0.7396</td>\n",
       "    </tr>\n",
       "    <tr>\n",
       "      <th>student</th>\n",
       "      <td>0.718900</td>\n",
       "      <td>0.738827</td>\n",
       "      <td>0.7163</td>\n",
       "    </tr>\n",
       "    <tr>\n",
       "      <th>distill (hidden, untrained)</th>\n",
       "      <td>0.714535</td>\n",
       "      <td>0.736665</td>\n",
       "      <td>0.7187</td>\n",
       "    </tr>\n",
       "  </tbody>\n",
       "</table>\n",
       "</div>"
      ],
      "text/plain": [
       "                               f1 avg  precision macro  recall macro\n",
       "teacher                      0.751097         0.751185        0.7517\n",
       "distill (hidden, trained)    0.739198         0.754259        0.7374\n",
       "distill (hybrid)             0.738803         0.748010        0.7403\n",
       "distill (logits)             0.737645         0.743072        0.7396\n",
       "student                      0.718900         0.738827        0.7163\n",
       "distill (hidden, untrained)  0.714535         0.736665        0.7187"
      ]
     },
     "execution_count": 36,
     "metadata": {},
     "output_type": "execute_result"
    }
   ],
   "source": [
    "overall = pd.concat([df, distill_logits.to_frame().T, distill_hidden_untrained.to_frame().T, distill_hidden_trained.to_frame().T, distill_hybrid.to_frame().T]).sort_values(by=\"f1 avg\", ascending=False)\n",
    "overall"
   ]
  },
  {
   "cell_type": "code",
   "execution_count": 37,
   "metadata": {},
   "outputs": [
    {
     "name": "stdout",
     "output_type": "stream",
     "text": [
      "|                             |   f1 avg |   precision macro |   recall macro |\n",
      "|:----------------------------|---------:|------------------:|---------------:|\n",
      "| teacher                     | 0.751097 |          0.751185 |         0.7517 |\n",
      "| distill (hidden, trained)   | 0.739198 |          0.754259 |         0.7374 |\n",
      "| distill (hybrid)            | 0.738803 |          0.74801  |         0.7403 |\n",
      "| distill (logits)            | 0.737645 |          0.743072 |         0.7396 |\n",
      "| student                     | 0.7189   |          0.738827 |         0.7163 |\n",
      "| distill (hidden, untrained) | 0.714535 |          0.736665 |         0.7187 |\n"
     ]
    }
   ],
   "source": [
    "print(overall.to_markdown())"
   ]
  }
 ],
 "metadata": {
  "kernelspec": {
   "display_name": "images-hw-2",
   "language": "python",
   "name": "python3"
  },
  "language_info": {
   "codemirror_mode": {
    "name": "ipython",
    "version": 3
   },
   "file_extension": ".py",
   "mimetype": "text/x-python",
   "name": "python",
   "nbconvert_exporter": "python",
   "pygments_lexer": "ipython3",
   "version": "3.12.8"
  }
 },
 "nbformat": 4,
 "nbformat_minor": 2
}
